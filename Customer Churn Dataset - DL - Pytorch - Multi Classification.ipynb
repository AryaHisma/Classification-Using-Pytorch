{
 "cells": [
  {
   "cell_type": "markdown",
   "metadata": {},
   "source": [
    "# Multi Classification"
   ]
  },
  {
   "cell_type": "code",
   "execution_count": 1,
   "metadata": {},
   "outputs": [],
   "source": [
    "# Import Library\n",
    "import torch\n",
    "import torch.nn as nn\n",
    "import torch.optim as optim\n",
    "from sklearn.datasets import fetch_california_housing\n",
    "import pandas as pd\n",
    "import matplotlib.pyplot as plt\n",
    "import seaborn as sns\n",
    "from sklearn.model_selection import train_test_split\n",
    "from sklearn.preprocessing import StandardScaler"
   ]
  },
  {
   "cell_type": "markdown",
   "metadata": {},
   "source": [
    "### 1. Data (Preparing and Loading)"
   ]
  },
  {
   "cell_type": "code",
   "execution_count": 3,
   "metadata": {},
   "outputs": [
    {
     "data": {
      "text/html": [
       "<div>\n",
       "<style scoped>\n",
       "    .dataframe tbody tr th:only-of-type {\n",
       "        vertical-align: middle;\n",
       "    }\n",
       "\n",
       "    .dataframe tbody tr th {\n",
       "        vertical-align: top;\n",
       "    }\n",
       "\n",
       "    .dataframe thead th {\n",
       "        text-align: right;\n",
       "    }\n",
       "</style>\n",
       "<table border=\"1\" class=\"dataframe\">\n",
       "  <thead>\n",
       "    <tr style=\"text-align: right;\">\n",
       "      <th></th>\n",
       "      <th>sepal length (cm)</th>\n",
       "      <th>sepal width (cm)</th>\n",
       "      <th>petal length (cm)</th>\n",
       "      <th>petal width (cm)</th>\n",
       "      <th>species</th>\n",
       "    </tr>\n",
       "  </thead>\n",
       "  <tbody>\n",
       "    <tr>\n",
       "      <th>0</th>\n",
       "      <td>5.1</td>\n",
       "      <td>3.5</td>\n",
       "      <td>1.4</td>\n",
       "      <td>0.2</td>\n",
       "      <td>setosa</td>\n",
       "    </tr>\n",
       "    <tr>\n",
       "      <th>1</th>\n",
       "      <td>4.9</td>\n",
       "      <td>3.0</td>\n",
       "      <td>1.4</td>\n",
       "      <td>0.2</td>\n",
       "      <td>setosa</td>\n",
       "    </tr>\n",
       "    <tr>\n",
       "      <th>2</th>\n",
       "      <td>4.7</td>\n",
       "      <td>3.2</td>\n",
       "      <td>1.3</td>\n",
       "      <td>0.2</td>\n",
       "      <td>setosa</td>\n",
       "    </tr>\n",
       "    <tr>\n",
       "      <th>3</th>\n",
       "      <td>4.6</td>\n",
       "      <td>3.1</td>\n",
       "      <td>1.5</td>\n",
       "      <td>0.2</td>\n",
       "      <td>setosa</td>\n",
       "    </tr>\n",
       "    <tr>\n",
       "      <th>4</th>\n",
       "      <td>5.0</td>\n",
       "      <td>3.6</td>\n",
       "      <td>1.4</td>\n",
       "      <td>0.2</td>\n",
       "      <td>setosa</td>\n",
       "    </tr>\n",
       "  </tbody>\n",
       "</table>\n",
       "</div>"
      ],
      "text/plain": [
       "   sepal length (cm)  sepal width (cm)  petal length (cm)  petal width (cm)  \\\n",
       "0                5.1               3.5                1.4               0.2   \n",
       "1                4.9               3.0                1.4               0.2   \n",
       "2                4.7               3.2                1.3               0.2   \n",
       "3                4.6               3.1                1.5               0.2   \n",
       "4                5.0               3.6                1.4               0.2   \n",
       "\n",
       "  species  \n",
       "0  setosa  \n",
       "1  setosa  \n",
       "2  setosa  \n",
       "3  setosa  \n",
       "4  setosa  "
      ]
     },
     "execution_count": 3,
     "metadata": {},
     "output_type": "execute_result"
    }
   ],
   "source": [
    "# Load dataset\n",
    "df = pd.read_csv(\"C:/Users/arya.hisma/Downloads/000. UDEMY/Udemy - Pytorch/Logistic Regression Using Pytorch - Customer Churn/dataset/iris_dataset_with_categorical_labels.csv\")\n",
    "\n",
    "# Display data\n",
    "df.head(5)"
   ]
  },
  {
   "cell_type": "code",
   "execution_count": 4,
   "metadata": {},
   "outputs": [
    {
     "data": {
      "text/plain": [
       "(150, 5)"
      ]
     },
     "execution_count": 4,
     "metadata": {},
     "output_type": "execute_result"
    }
   ],
   "source": [
    "df.shape"
   ]
  },
  {
   "cell_type": "code",
   "execution_count": 5,
   "metadata": {},
   "outputs": [
    {
     "data": {
      "text/plain": [
       "sepal length (cm)    0\n",
       "sepal width (cm)     0\n",
       "petal length (cm)    0\n",
       "petal width (cm)     0\n",
       "species              0\n",
       "dtype: int64"
      ]
     },
     "execution_count": 5,
     "metadata": {},
     "output_type": "execute_result"
    }
   ],
   "source": [
    "df.isnull().sum()"
   ]
  },
  {
   "cell_type": "code",
   "execution_count": 6,
   "metadata": {},
   "outputs": [
    {
     "data": {
      "text/plain": [
       "(150, 5)"
      ]
     },
     "execution_count": 6,
     "metadata": {},
     "output_type": "execute_result"
    }
   ],
   "source": [
    "# Hapus missing value\n",
    "\n",
    "df = df.dropna()\n",
    "df.shape"
   ]
  },
  {
   "cell_type": "code",
   "execution_count": 7,
   "metadata": {},
   "outputs": [
    {
     "data": {
      "text/html": [
       "<div>\n",
       "<style scoped>\n",
       "    .dataframe tbody tr th:only-of-type {\n",
       "        vertical-align: middle;\n",
       "    }\n",
       "\n",
       "    .dataframe tbody tr th {\n",
       "        vertical-align: top;\n",
       "    }\n",
       "\n",
       "    .dataframe thead th {\n",
       "        text-align: right;\n",
       "    }\n",
       "</style>\n",
       "<table border=\"1\" class=\"dataframe\">\n",
       "  <thead>\n",
       "    <tr style=\"text-align: right;\">\n",
       "      <th></th>\n",
       "      <th>sepal length (cm)</th>\n",
       "      <th>sepal width (cm)</th>\n",
       "      <th>petal length (cm)</th>\n",
       "      <th>petal width (cm)</th>\n",
       "      <th>species</th>\n",
       "    </tr>\n",
       "  </thead>\n",
       "  <tbody>\n",
       "    <tr>\n",
       "      <th>0</th>\n",
       "      <td>5.1</td>\n",
       "      <td>3.5</td>\n",
       "      <td>1.4</td>\n",
       "      <td>0.2</td>\n",
       "      <td>setosa</td>\n",
       "    </tr>\n",
       "    <tr>\n",
       "      <th>1</th>\n",
       "      <td>4.9</td>\n",
       "      <td>3.0</td>\n",
       "      <td>1.4</td>\n",
       "      <td>0.2</td>\n",
       "      <td>setosa</td>\n",
       "    </tr>\n",
       "    <tr>\n",
       "      <th>2</th>\n",
       "      <td>4.7</td>\n",
       "      <td>3.2</td>\n",
       "      <td>1.3</td>\n",
       "      <td>0.2</td>\n",
       "      <td>setosa</td>\n",
       "    </tr>\n",
       "    <tr>\n",
       "      <th>3</th>\n",
       "      <td>4.6</td>\n",
       "      <td>3.1</td>\n",
       "      <td>1.5</td>\n",
       "      <td>0.2</td>\n",
       "      <td>setosa</td>\n",
       "    </tr>\n",
       "    <tr>\n",
       "      <th>4</th>\n",
       "      <td>5.0</td>\n",
       "      <td>3.6</td>\n",
       "      <td>1.4</td>\n",
       "      <td>0.2</td>\n",
       "      <td>setosa</td>\n",
       "    </tr>\n",
       "  </tbody>\n",
       "</table>\n",
       "</div>"
      ],
      "text/plain": [
       "   sepal length (cm)  sepal width (cm)  petal length (cm)  petal width (cm)  \\\n",
       "0                5.1               3.5                1.4               0.2   \n",
       "1                4.9               3.0                1.4               0.2   \n",
       "2                4.7               3.2                1.3               0.2   \n",
       "3                4.6               3.1                1.5               0.2   \n",
       "4                5.0               3.6                1.4               0.2   \n",
       "\n",
       "  species  \n",
       "0  setosa  \n",
       "1  setosa  \n",
       "2  setosa  \n",
       "3  setosa  \n",
       "4  setosa  "
      ]
     },
     "execution_count": 7,
     "metadata": {},
     "output_type": "execute_result"
    }
   ],
   "source": [
    "# Remove unnecessary columns\n",
    "df_clean = df.drop([], axis=1)\n",
    "df_clean.head(5)"
   ]
  },
  {
   "cell_type": "code",
   "execution_count": 8,
   "metadata": {},
   "outputs": [
    {
     "name": "stdout",
     "output_type": "stream",
     "text": [
      "<class 'pandas.core.frame.DataFrame'>\n",
      "RangeIndex: 150 entries, 0 to 149\n",
      "Data columns (total 5 columns):\n",
      " #   Column             Non-Null Count  Dtype  \n",
      "---  ------             --------------  -----  \n",
      " 0   sepal length (cm)  150 non-null    float64\n",
      " 1   sepal width (cm)   150 non-null    float64\n",
      " 2   petal length (cm)  150 non-null    float64\n",
      " 3   petal width (cm)   150 non-null    float64\n",
      " 4   species            150 non-null    object \n",
      "dtypes: float64(4), object(1)\n",
      "memory usage: 6.0+ KB\n"
     ]
    }
   ],
   "source": [
    "# Data Info\n",
    "df_clean.info()"
   ]
  },
  {
   "cell_type": "code",
   "execution_count": 9,
   "metadata": {},
   "outputs": [],
   "source": [
    "from sklearn.preprocessing import LabelEncoder\n",
    "\n",
    "# Label Encoding species jadi angka 0,1,2\n",
    "le = LabelEncoder()\n",
    "df_clean['species'] = le.fit_transform(df_clean['species'])"
   ]
  },
  {
   "cell_type": "code",
   "execution_count": 10,
   "metadata": {},
   "outputs": [
    {
     "data": {
      "text/html": [
       "<div>\n",
       "<style scoped>\n",
       "    .dataframe tbody tr th:only-of-type {\n",
       "        vertical-align: middle;\n",
       "    }\n",
       "\n",
       "    .dataframe tbody tr th {\n",
       "        vertical-align: top;\n",
       "    }\n",
       "\n",
       "    .dataframe thead th {\n",
       "        text-align: right;\n",
       "    }\n",
       "</style>\n",
       "<table border=\"1\" class=\"dataframe\">\n",
       "  <thead>\n",
       "    <tr style=\"text-align: right;\">\n",
       "      <th></th>\n",
       "      <th>sepal length (cm)</th>\n",
       "      <th>sepal width (cm)</th>\n",
       "      <th>petal length (cm)</th>\n",
       "      <th>petal width (cm)</th>\n",
       "      <th>species</th>\n",
       "    </tr>\n",
       "  </thead>\n",
       "  <tbody>\n",
       "    <tr>\n",
       "      <th>0</th>\n",
       "      <td>5.1</td>\n",
       "      <td>3.5</td>\n",
       "      <td>1.4</td>\n",
       "      <td>0.2</td>\n",
       "      <td>0</td>\n",
       "    </tr>\n",
       "    <tr>\n",
       "      <th>1</th>\n",
       "      <td>4.9</td>\n",
       "      <td>3.0</td>\n",
       "      <td>1.4</td>\n",
       "      <td>0.2</td>\n",
       "      <td>0</td>\n",
       "    </tr>\n",
       "    <tr>\n",
       "      <th>2</th>\n",
       "      <td>4.7</td>\n",
       "      <td>3.2</td>\n",
       "      <td>1.3</td>\n",
       "      <td>0.2</td>\n",
       "      <td>0</td>\n",
       "    </tr>\n",
       "    <tr>\n",
       "      <th>3</th>\n",
       "      <td>4.6</td>\n",
       "      <td>3.1</td>\n",
       "      <td>1.5</td>\n",
       "      <td>0.2</td>\n",
       "      <td>0</td>\n",
       "    </tr>\n",
       "    <tr>\n",
       "      <th>4</th>\n",
       "      <td>5.0</td>\n",
       "      <td>3.6</td>\n",
       "      <td>1.4</td>\n",
       "      <td>0.2</td>\n",
       "      <td>0</td>\n",
       "    </tr>\n",
       "  </tbody>\n",
       "</table>\n",
       "</div>"
      ],
      "text/plain": [
       "   sepal length (cm)  sepal width (cm)  petal length (cm)  petal width (cm)  \\\n",
       "0                5.1               3.5                1.4               0.2   \n",
       "1                4.9               3.0                1.4               0.2   \n",
       "2                4.7               3.2                1.3               0.2   \n",
       "3                4.6               3.1                1.5               0.2   \n",
       "4                5.0               3.6                1.4               0.2   \n",
       "\n",
       "   species  \n",
       "0        0  \n",
       "1        0  \n",
       "2        0  \n",
       "3        0  \n",
       "4        0  "
      ]
     },
     "execution_count": 10,
     "metadata": {},
     "output_type": "execute_result"
    }
   ],
   "source": [
    "df_clean.head(5)"
   ]
  },
  {
   "cell_type": "code",
   "execution_count": 11,
   "metadata": {},
   "outputs": [
    {
     "data": {
      "text/html": [
       "<div>\n",
       "<style scoped>\n",
       "    .dataframe tbody tr th:only-of-type {\n",
       "        vertical-align: middle;\n",
       "    }\n",
       "\n",
       "    .dataframe tbody tr th {\n",
       "        vertical-align: top;\n",
       "    }\n",
       "\n",
       "    .dataframe thead th {\n",
       "        text-align: right;\n",
       "    }\n",
       "</style>\n",
       "<table border=\"1\" class=\"dataframe\">\n",
       "  <thead>\n",
       "    <tr style=\"text-align: right;\">\n",
       "      <th></th>\n",
       "      <th>sepal length (cm)</th>\n",
       "      <th>sepal width (cm)</th>\n",
       "      <th>petal length (cm)</th>\n",
       "      <th>petal width (cm)</th>\n",
       "    </tr>\n",
       "  </thead>\n",
       "  <tbody>\n",
       "    <tr>\n",
       "      <th>0</th>\n",
       "      <td>5.1</td>\n",
       "      <td>3.5</td>\n",
       "      <td>1.4</td>\n",
       "      <td>0.2</td>\n",
       "    </tr>\n",
       "    <tr>\n",
       "      <th>1</th>\n",
       "      <td>4.9</td>\n",
       "      <td>3.0</td>\n",
       "      <td>1.4</td>\n",
       "      <td>0.2</td>\n",
       "    </tr>\n",
       "    <tr>\n",
       "      <th>2</th>\n",
       "      <td>4.7</td>\n",
       "      <td>3.2</td>\n",
       "      <td>1.3</td>\n",
       "      <td>0.2</td>\n",
       "    </tr>\n",
       "    <tr>\n",
       "      <th>3</th>\n",
       "      <td>4.6</td>\n",
       "      <td>3.1</td>\n",
       "      <td>1.5</td>\n",
       "      <td>0.2</td>\n",
       "    </tr>\n",
       "    <tr>\n",
       "      <th>4</th>\n",
       "      <td>5.0</td>\n",
       "      <td>3.6</td>\n",
       "      <td>1.4</td>\n",
       "      <td>0.2</td>\n",
       "    </tr>\n",
       "    <tr>\n",
       "      <th>...</th>\n",
       "      <td>...</td>\n",
       "      <td>...</td>\n",
       "      <td>...</td>\n",
       "      <td>...</td>\n",
       "    </tr>\n",
       "    <tr>\n",
       "      <th>145</th>\n",
       "      <td>6.7</td>\n",
       "      <td>3.0</td>\n",
       "      <td>5.2</td>\n",
       "      <td>2.3</td>\n",
       "    </tr>\n",
       "    <tr>\n",
       "      <th>146</th>\n",
       "      <td>6.3</td>\n",
       "      <td>2.5</td>\n",
       "      <td>5.0</td>\n",
       "      <td>1.9</td>\n",
       "    </tr>\n",
       "    <tr>\n",
       "      <th>147</th>\n",
       "      <td>6.5</td>\n",
       "      <td>3.0</td>\n",
       "      <td>5.2</td>\n",
       "      <td>2.0</td>\n",
       "    </tr>\n",
       "    <tr>\n",
       "      <th>148</th>\n",
       "      <td>6.2</td>\n",
       "      <td>3.4</td>\n",
       "      <td>5.4</td>\n",
       "      <td>2.3</td>\n",
       "    </tr>\n",
       "    <tr>\n",
       "      <th>149</th>\n",
       "      <td>5.9</td>\n",
       "      <td>3.0</td>\n",
       "      <td>5.1</td>\n",
       "      <td>1.8</td>\n",
       "    </tr>\n",
       "  </tbody>\n",
       "</table>\n",
       "<p>150 rows × 4 columns</p>\n",
       "</div>"
      ],
      "text/plain": [
       "     sepal length (cm)  sepal width (cm)  petal length (cm)  petal width (cm)\n",
       "0                  5.1               3.5                1.4               0.2\n",
       "1                  4.9               3.0                1.4               0.2\n",
       "2                  4.7               3.2                1.3               0.2\n",
       "3                  4.6               3.1                1.5               0.2\n",
       "4                  5.0               3.6                1.4               0.2\n",
       "..                 ...               ...                ...               ...\n",
       "145                6.7               3.0                5.2               2.3\n",
       "146                6.3               2.5                5.0               1.9\n",
       "147                6.5               3.0                5.2               2.0\n",
       "148                6.2               3.4                5.4               2.3\n",
       "149                5.9               3.0                5.1               1.8\n",
       "\n",
       "[150 rows x 4 columns]"
      ]
     },
     "execution_count": 11,
     "metadata": {},
     "output_type": "execute_result"
    }
   ],
   "source": [
    "# Tentukan fitur dan label\n",
    "X = df_clean.drop('species', axis=1)\n",
    "y = df_clean['species']\n",
    "\n",
    "X"
   ]
  },
  {
   "cell_type": "code",
   "execution_count": 12,
   "metadata": {},
   "outputs": [],
   "source": [
    "# Pisahkan kolom numerik dan kategorikal\n",
    "numerical_cols = X.select_dtypes(include=['float64', 'int64']).columns\n",
    "categorical_cols = X.select_dtypes(include=['object']).columns"
   ]
  },
  {
   "cell_type": "code",
   "execution_count": 13,
   "metadata": {},
   "outputs": [
    {
     "data": {
      "text/plain": [
       "(Index(['sepal length (cm)', 'sepal width (cm)', 'petal length (cm)',\n",
       "        'petal width (cm)'],\n",
       "       dtype='object'),\n",
       " Index([], dtype='object'))"
      ]
     },
     "execution_count": 13,
     "metadata": {},
     "output_type": "execute_result"
    }
   ],
   "source": [
    "numerical_cols, categorical_cols"
   ]
  },
  {
   "cell_type": "code",
   "execution_count": 14,
   "metadata": {},
   "outputs": [],
   "source": [
    "from sklearn.compose import ColumnTransformer\n",
    "from sklearn.preprocessing import MinMaxScaler, OneHotEncoder, OrdinalEncoder, StandardScaler\n",
    "from sklearn.pipeline import Pipeline\n",
    "\n",
    "# Buat Transformer\n",
    "preprocessor = ColumnTransformer(\n",
    "    transformers=[\n",
    "        ('num', StandardScaler(), numerical_cols) # Scaling kolom numerik\n",
    "        # ('cat', OneHotEncoder(drop='first'), categorical_cols) # OneHot kolom kategorikal\n",
    "    ]\n",
    ")"
   ]
  },
  {
   "cell_type": "code",
   "execution_count": 15,
   "metadata": {},
   "outputs": [
    {
     "data": {
      "text/html": [
       "<style>#sk-container-id-1 {\n",
       "  /* Definition of color scheme common for light and dark mode */\n",
       "  --sklearn-color-text: #000;\n",
       "  --sklearn-color-text-muted: #666;\n",
       "  --sklearn-color-line: gray;\n",
       "  /* Definition of color scheme for unfitted estimators */\n",
       "  --sklearn-color-unfitted-level-0: #fff5e6;\n",
       "  --sklearn-color-unfitted-level-1: #f6e4d2;\n",
       "  --sklearn-color-unfitted-level-2: #ffe0b3;\n",
       "  --sklearn-color-unfitted-level-3: chocolate;\n",
       "  /* Definition of color scheme for fitted estimators */\n",
       "  --sklearn-color-fitted-level-0: #f0f8ff;\n",
       "  --sklearn-color-fitted-level-1: #d4ebff;\n",
       "  --sklearn-color-fitted-level-2: #b3dbfd;\n",
       "  --sklearn-color-fitted-level-3: cornflowerblue;\n",
       "\n",
       "  /* Specific color for light theme */\n",
       "  --sklearn-color-text-on-default-background: var(--sg-text-color, var(--theme-code-foreground, var(--jp-content-font-color1, black)));\n",
       "  --sklearn-color-background: var(--sg-background-color, var(--theme-background, var(--jp-layout-color0, white)));\n",
       "  --sklearn-color-border-box: var(--sg-text-color, var(--theme-code-foreground, var(--jp-content-font-color1, black)));\n",
       "  --sklearn-color-icon: #696969;\n",
       "\n",
       "  @media (prefers-color-scheme: dark) {\n",
       "    /* Redefinition of color scheme for dark theme */\n",
       "    --sklearn-color-text-on-default-background: var(--sg-text-color, var(--theme-code-foreground, var(--jp-content-font-color1, white)));\n",
       "    --sklearn-color-background: var(--sg-background-color, var(--theme-background, var(--jp-layout-color0, #111)));\n",
       "    --sklearn-color-border-box: var(--sg-text-color, var(--theme-code-foreground, var(--jp-content-font-color1, white)));\n",
       "    --sklearn-color-icon: #878787;\n",
       "  }\n",
       "}\n",
       "\n",
       "#sk-container-id-1 {\n",
       "  color: var(--sklearn-color-text);\n",
       "}\n",
       "\n",
       "#sk-container-id-1 pre {\n",
       "  padding: 0;\n",
       "}\n",
       "\n",
       "#sk-container-id-1 input.sk-hidden--visually {\n",
       "  border: 0;\n",
       "  clip: rect(1px 1px 1px 1px);\n",
       "  clip: rect(1px, 1px, 1px, 1px);\n",
       "  height: 1px;\n",
       "  margin: -1px;\n",
       "  overflow: hidden;\n",
       "  padding: 0;\n",
       "  position: absolute;\n",
       "  width: 1px;\n",
       "}\n",
       "\n",
       "#sk-container-id-1 div.sk-dashed-wrapped {\n",
       "  border: 1px dashed var(--sklearn-color-line);\n",
       "  margin: 0 0.4em 0.5em 0.4em;\n",
       "  box-sizing: border-box;\n",
       "  padding-bottom: 0.4em;\n",
       "  background-color: var(--sklearn-color-background);\n",
       "}\n",
       "\n",
       "#sk-container-id-1 div.sk-container {\n",
       "  /* jupyter's `normalize.less` sets `[hidden] { display: none; }`\n",
       "     but bootstrap.min.css set `[hidden] { display: none !important; }`\n",
       "     so we also need the `!important` here to be able to override the\n",
       "     default hidden behavior on the sphinx rendered scikit-learn.org.\n",
       "     See: https://github.com/scikit-learn/scikit-learn/issues/21755 */\n",
       "  display: inline-block !important;\n",
       "  position: relative;\n",
       "}\n",
       "\n",
       "#sk-container-id-1 div.sk-text-repr-fallback {\n",
       "  display: none;\n",
       "}\n",
       "\n",
       "div.sk-parallel-item,\n",
       "div.sk-serial,\n",
       "div.sk-item {\n",
       "  /* draw centered vertical line to link estimators */\n",
       "  background-image: linear-gradient(var(--sklearn-color-text-on-default-background), var(--sklearn-color-text-on-default-background));\n",
       "  background-size: 2px 100%;\n",
       "  background-repeat: no-repeat;\n",
       "  background-position: center center;\n",
       "}\n",
       "\n",
       "/* Parallel-specific style estimator block */\n",
       "\n",
       "#sk-container-id-1 div.sk-parallel-item::after {\n",
       "  content: \"\";\n",
       "  width: 100%;\n",
       "  border-bottom: 2px solid var(--sklearn-color-text-on-default-background);\n",
       "  flex-grow: 1;\n",
       "}\n",
       "\n",
       "#sk-container-id-1 div.sk-parallel {\n",
       "  display: flex;\n",
       "  align-items: stretch;\n",
       "  justify-content: center;\n",
       "  background-color: var(--sklearn-color-background);\n",
       "  position: relative;\n",
       "}\n",
       "\n",
       "#sk-container-id-1 div.sk-parallel-item {\n",
       "  display: flex;\n",
       "  flex-direction: column;\n",
       "}\n",
       "\n",
       "#sk-container-id-1 div.sk-parallel-item:first-child::after {\n",
       "  align-self: flex-end;\n",
       "  width: 50%;\n",
       "}\n",
       "\n",
       "#sk-container-id-1 div.sk-parallel-item:last-child::after {\n",
       "  align-self: flex-start;\n",
       "  width: 50%;\n",
       "}\n",
       "\n",
       "#sk-container-id-1 div.sk-parallel-item:only-child::after {\n",
       "  width: 0;\n",
       "}\n",
       "\n",
       "/* Serial-specific style estimator block */\n",
       "\n",
       "#sk-container-id-1 div.sk-serial {\n",
       "  display: flex;\n",
       "  flex-direction: column;\n",
       "  align-items: center;\n",
       "  background-color: var(--sklearn-color-background);\n",
       "  padding-right: 1em;\n",
       "  padding-left: 1em;\n",
       "}\n",
       "\n",
       "\n",
       "/* Toggleable style: style used for estimator/Pipeline/ColumnTransformer box that is\n",
       "clickable and can be expanded/collapsed.\n",
       "- Pipeline and ColumnTransformer use this feature and define the default style\n",
       "- Estimators will overwrite some part of the style using the `sk-estimator` class\n",
       "*/\n",
       "\n",
       "/* Pipeline and ColumnTransformer style (default) */\n",
       "\n",
       "#sk-container-id-1 div.sk-toggleable {\n",
       "  /* Default theme specific background. It is overwritten whether we have a\n",
       "  specific estimator or a Pipeline/ColumnTransformer */\n",
       "  background-color: var(--sklearn-color-background);\n",
       "}\n",
       "\n",
       "/* Toggleable label */\n",
       "#sk-container-id-1 label.sk-toggleable__label {\n",
       "  cursor: pointer;\n",
       "  display: flex;\n",
       "  width: 100%;\n",
       "  margin-bottom: 0;\n",
       "  padding: 0.5em;\n",
       "  box-sizing: border-box;\n",
       "  text-align: center;\n",
       "  align-items: start;\n",
       "  justify-content: space-between;\n",
       "  gap: 0.5em;\n",
       "}\n",
       "\n",
       "#sk-container-id-1 label.sk-toggleable__label .caption {\n",
       "  font-size: 0.6rem;\n",
       "  font-weight: lighter;\n",
       "  color: var(--sklearn-color-text-muted);\n",
       "}\n",
       "\n",
       "#sk-container-id-1 label.sk-toggleable__label-arrow:before {\n",
       "  /* Arrow on the left of the label */\n",
       "  content: \"▸\";\n",
       "  float: left;\n",
       "  margin-right: 0.25em;\n",
       "  color: var(--sklearn-color-icon);\n",
       "}\n",
       "\n",
       "#sk-container-id-1 label.sk-toggleable__label-arrow:hover:before {\n",
       "  color: var(--sklearn-color-text);\n",
       "}\n",
       "\n",
       "/* Toggleable content - dropdown */\n",
       "\n",
       "#sk-container-id-1 div.sk-toggleable__content {\n",
       "  max-height: 0;\n",
       "  max-width: 0;\n",
       "  overflow: hidden;\n",
       "  text-align: left;\n",
       "  /* unfitted */\n",
       "  background-color: var(--sklearn-color-unfitted-level-0);\n",
       "}\n",
       "\n",
       "#sk-container-id-1 div.sk-toggleable__content.fitted {\n",
       "  /* fitted */\n",
       "  background-color: var(--sklearn-color-fitted-level-0);\n",
       "}\n",
       "\n",
       "#sk-container-id-1 div.sk-toggleable__content pre {\n",
       "  margin: 0.2em;\n",
       "  border-radius: 0.25em;\n",
       "  color: var(--sklearn-color-text);\n",
       "  /* unfitted */\n",
       "  background-color: var(--sklearn-color-unfitted-level-0);\n",
       "}\n",
       "\n",
       "#sk-container-id-1 div.sk-toggleable__content.fitted pre {\n",
       "  /* unfitted */\n",
       "  background-color: var(--sklearn-color-fitted-level-0);\n",
       "}\n",
       "\n",
       "#sk-container-id-1 input.sk-toggleable__control:checked~div.sk-toggleable__content {\n",
       "  /* Expand drop-down */\n",
       "  max-height: 200px;\n",
       "  max-width: 100%;\n",
       "  overflow: auto;\n",
       "}\n",
       "\n",
       "#sk-container-id-1 input.sk-toggleable__control:checked~label.sk-toggleable__label-arrow:before {\n",
       "  content: \"▾\";\n",
       "}\n",
       "\n",
       "/* Pipeline/ColumnTransformer-specific style */\n",
       "\n",
       "#sk-container-id-1 div.sk-label input.sk-toggleable__control:checked~label.sk-toggleable__label {\n",
       "  color: var(--sklearn-color-text);\n",
       "  background-color: var(--sklearn-color-unfitted-level-2);\n",
       "}\n",
       "\n",
       "#sk-container-id-1 div.sk-label.fitted input.sk-toggleable__control:checked~label.sk-toggleable__label {\n",
       "  background-color: var(--sklearn-color-fitted-level-2);\n",
       "}\n",
       "\n",
       "/* Estimator-specific style */\n",
       "\n",
       "/* Colorize estimator box */\n",
       "#sk-container-id-1 div.sk-estimator input.sk-toggleable__control:checked~label.sk-toggleable__label {\n",
       "  /* unfitted */\n",
       "  background-color: var(--sklearn-color-unfitted-level-2);\n",
       "}\n",
       "\n",
       "#sk-container-id-1 div.sk-estimator.fitted input.sk-toggleable__control:checked~label.sk-toggleable__label {\n",
       "  /* fitted */\n",
       "  background-color: var(--sklearn-color-fitted-level-2);\n",
       "}\n",
       "\n",
       "#sk-container-id-1 div.sk-label label.sk-toggleable__label,\n",
       "#sk-container-id-1 div.sk-label label {\n",
       "  /* The background is the default theme color */\n",
       "  color: var(--sklearn-color-text-on-default-background);\n",
       "}\n",
       "\n",
       "/* On hover, darken the color of the background */\n",
       "#sk-container-id-1 div.sk-label:hover label.sk-toggleable__label {\n",
       "  color: var(--sklearn-color-text);\n",
       "  background-color: var(--sklearn-color-unfitted-level-2);\n",
       "}\n",
       "\n",
       "/* Label box, darken color on hover, fitted */\n",
       "#sk-container-id-1 div.sk-label.fitted:hover label.sk-toggleable__label.fitted {\n",
       "  color: var(--sklearn-color-text);\n",
       "  background-color: var(--sklearn-color-fitted-level-2);\n",
       "}\n",
       "\n",
       "/* Estimator label */\n",
       "\n",
       "#sk-container-id-1 div.sk-label label {\n",
       "  font-family: monospace;\n",
       "  font-weight: bold;\n",
       "  display: inline-block;\n",
       "  line-height: 1.2em;\n",
       "}\n",
       "\n",
       "#sk-container-id-1 div.sk-label-container {\n",
       "  text-align: center;\n",
       "}\n",
       "\n",
       "/* Estimator-specific */\n",
       "#sk-container-id-1 div.sk-estimator {\n",
       "  font-family: monospace;\n",
       "  border: 1px dotted var(--sklearn-color-border-box);\n",
       "  border-radius: 0.25em;\n",
       "  box-sizing: border-box;\n",
       "  margin-bottom: 0.5em;\n",
       "  /* unfitted */\n",
       "  background-color: var(--sklearn-color-unfitted-level-0);\n",
       "}\n",
       "\n",
       "#sk-container-id-1 div.sk-estimator.fitted {\n",
       "  /* fitted */\n",
       "  background-color: var(--sklearn-color-fitted-level-0);\n",
       "}\n",
       "\n",
       "/* on hover */\n",
       "#sk-container-id-1 div.sk-estimator:hover {\n",
       "  /* unfitted */\n",
       "  background-color: var(--sklearn-color-unfitted-level-2);\n",
       "}\n",
       "\n",
       "#sk-container-id-1 div.sk-estimator.fitted:hover {\n",
       "  /* fitted */\n",
       "  background-color: var(--sklearn-color-fitted-level-2);\n",
       "}\n",
       "\n",
       "/* Specification for estimator info (e.g. \"i\" and \"?\") */\n",
       "\n",
       "/* Common style for \"i\" and \"?\" */\n",
       "\n",
       ".sk-estimator-doc-link,\n",
       "a:link.sk-estimator-doc-link,\n",
       "a:visited.sk-estimator-doc-link {\n",
       "  float: right;\n",
       "  font-size: smaller;\n",
       "  line-height: 1em;\n",
       "  font-family: monospace;\n",
       "  background-color: var(--sklearn-color-background);\n",
       "  border-radius: 1em;\n",
       "  height: 1em;\n",
       "  width: 1em;\n",
       "  text-decoration: none !important;\n",
       "  margin-left: 0.5em;\n",
       "  text-align: center;\n",
       "  /* unfitted */\n",
       "  border: var(--sklearn-color-unfitted-level-1) 1pt solid;\n",
       "  color: var(--sklearn-color-unfitted-level-1);\n",
       "}\n",
       "\n",
       ".sk-estimator-doc-link.fitted,\n",
       "a:link.sk-estimator-doc-link.fitted,\n",
       "a:visited.sk-estimator-doc-link.fitted {\n",
       "  /* fitted */\n",
       "  border: var(--sklearn-color-fitted-level-1) 1pt solid;\n",
       "  color: var(--sklearn-color-fitted-level-1);\n",
       "}\n",
       "\n",
       "/* On hover */\n",
       "div.sk-estimator:hover .sk-estimator-doc-link:hover,\n",
       ".sk-estimator-doc-link:hover,\n",
       "div.sk-label-container:hover .sk-estimator-doc-link:hover,\n",
       ".sk-estimator-doc-link:hover {\n",
       "  /* unfitted */\n",
       "  background-color: var(--sklearn-color-unfitted-level-3);\n",
       "  color: var(--sklearn-color-background);\n",
       "  text-decoration: none;\n",
       "}\n",
       "\n",
       "div.sk-estimator.fitted:hover .sk-estimator-doc-link.fitted:hover,\n",
       ".sk-estimator-doc-link.fitted:hover,\n",
       "div.sk-label-container:hover .sk-estimator-doc-link.fitted:hover,\n",
       ".sk-estimator-doc-link.fitted:hover {\n",
       "  /* fitted */\n",
       "  background-color: var(--sklearn-color-fitted-level-3);\n",
       "  color: var(--sklearn-color-background);\n",
       "  text-decoration: none;\n",
       "}\n",
       "\n",
       "/* Span, style for the box shown on hovering the info icon */\n",
       ".sk-estimator-doc-link span {\n",
       "  display: none;\n",
       "  z-index: 9999;\n",
       "  position: relative;\n",
       "  font-weight: normal;\n",
       "  right: .2ex;\n",
       "  padding: .5ex;\n",
       "  margin: .5ex;\n",
       "  width: min-content;\n",
       "  min-width: 20ex;\n",
       "  max-width: 50ex;\n",
       "  color: var(--sklearn-color-text);\n",
       "  box-shadow: 2pt 2pt 4pt #999;\n",
       "  /* unfitted */\n",
       "  background: var(--sklearn-color-unfitted-level-0);\n",
       "  border: .5pt solid var(--sklearn-color-unfitted-level-3);\n",
       "}\n",
       "\n",
       ".sk-estimator-doc-link.fitted span {\n",
       "  /* fitted */\n",
       "  background: var(--sklearn-color-fitted-level-0);\n",
       "  border: var(--sklearn-color-fitted-level-3);\n",
       "}\n",
       "\n",
       ".sk-estimator-doc-link:hover span {\n",
       "  display: block;\n",
       "}\n",
       "\n",
       "/* \"?\"-specific style due to the `<a>` HTML tag */\n",
       "\n",
       "#sk-container-id-1 a.estimator_doc_link {\n",
       "  float: right;\n",
       "  font-size: 1rem;\n",
       "  line-height: 1em;\n",
       "  font-family: monospace;\n",
       "  background-color: var(--sklearn-color-background);\n",
       "  border-radius: 1rem;\n",
       "  height: 1rem;\n",
       "  width: 1rem;\n",
       "  text-decoration: none;\n",
       "  /* unfitted */\n",
       "  color: var(--sklearn-color-unfitted-level-1);\n",
       "  border: var(--sklearn-color-unfitted-level-1) 1pt solid;\n",
       "}\n",
       "\n",
       "#sk-container-id-1 a.estimator_doc_link.fitted {\n",
       "  /* fitted */\n",
       "  border: var(--sklearn-color-fitted-level-1) 1pt solid;\n",
       "  color: var(--sklearn-color-fitted-level-1);\n",
       "}\n",
       "\n",
       "/* On hover */\n",
       "#sk-container-id-1 a.estimator_doc_link:hover {\n",
       "  /* unfitted */\n",
       "  background-color: var(--sklearn-color-unfitted-level-3);\n",
       "  color: var(--sklearn-color-background);\n",
       "  text-decoration: none;\n",
       "}\n",
       "\n",
       "#sk-container-id-1 a.estimator_doc_link.fitted:hover {\n",
       "  /* fitted */\n",
       "  background-color: var(--sklearn-color-fitted-level-3);\n",
       "}\n",
       "</style><div id=\"sk-container-id-1\" class=\"sk-top-container\"><div class=\"sk-text-repr-fallback\"><pre>Pipeline(steps=[(&#x27;preprocessor&#x27;,\n",
       "                 ColumnTransformer(transformers=[(&#x27;num&#x27;, StandardScaler(),\n",
       "                                                  Index([&#x27;sepal length (cm)&#x27;, &#x27;sepal width (cm)&#x27;, &#x27;petal length (cm)&#x27;,\n",
       "       &#x27;petal width (cm)&#x27;],\n",
       "      dtype=&#x27;object&#x27;))]))])</pre><b>In a Jupyter environment, please rerun this cell to show the HTML representation or trust the notebook. <br />On GitHub, the HTML representation is unable to render, please try loading this page with nbviewer.org.</b></div><div class=\"sk-container\" hidden><div class=\"sk-item sk-dashed-wrapped\"><div class=\"sk-label-container\"><div class=\"sk-label  sk-toggleable\"><input class=\"sk-toggleable__control sk-hidden--visually\" id=\"sk-estimator-id-1\" type=\"checkbox\" ><label for=\"sk-estimator-id-1\" class=\"sk-toggleable__label  sk-toggleable__label-arrow\"><div><div>Pipeline</div></div><div><a class=\"sk-estimator-doc-link \" rel=\"noreferrer\" target=\"_blank\" href=\"https://scikit-learn.org/1.6/modules/generated/sklearn.pipeline.Pipeline.html\">?<span>Documentation for Pipeline</span></a><span class=\"sk-estimator-doc-link \">i<span>Not fitted</span></span></div></label><div class=\"sk-toggleable__content \"><pre>Pipeline(steps=[(&#x27;preprocessor&#x27;,\n",
       "                 ColumnTransformer(transformers=[(&#x27;num&#x27;, StandardScaler(),\n",
       "                                                  Index([&#x27;sepal length (cm)&#x27;, &#x27;sepal width (cm)&#x27;, &#x27;petal length (cm)&#x27;,\n",
       "       &#x27;petal width (cm)&#x27;],\n",
       "      dtype=&#x27;object&#x27;))]))])</pre></div> </div></div><div class=\"sk-serial\"><div class=\"sk-item sk-dashed-wrapped\"><div class=\"sk-label-container\"><div class=\"sk-label  sk-toggleable\"><input class=\"sk-toggleable__control sk-hidden--visually\" id=\"sk-estimator-id-2\" type=\"checkbox\" ><label for=\"sk-estimator-id-2\" class=\"sk-toggleable__label  sk-toggleable__label-arrow\"><div><div>preprocessor: ColumnTransformer</div></div><div><a class=\"sk-estimator-doc-link \" rel=\"noreferrer\" target=\"_blank\" href=\"https://scikit-learn.org/1.6/modules/generated/sklearn.compose.ColumnTransformer.html\">?<span>Documentation for preprocessor: ColumnTransformer</span></a></div></label><div class=\"sk-toggleable__content \"><pre>ColumnTransformer(transformers=[(&#x27;num&#x27;, StandardScaler(),\n",
       "                                 Index([&#x27;sepal length (cm)&#x27;, &#x27;sepal width (cm)&#x27;, &#x27;petal length (cm)&#x27;,\n",
       "       &#x27;petal width (cm)&#x27;],\n",
       "      dtype=&#x27;object&#x27;))])</pre></div> </div></div><div class=\"sk-parallel\"><div class=\"sk-parallel-item\"><div class=\"sk-item\"><div class=\"sk-label-container\"><div class=\"sk-label  sk-toggleable\"><input class=\"sk-toggleable__control sk-hidden--visually\" id=\"sk-estimator-id-3\" type=\"checkbox\" ><label for=\"sk-estimator-id-3\" class=\"sk-toggleable__label  sk-toggleable__label-arrow\"><div><div>num</div></div></label><div class=\"sk-toggleable__content \"><pre>Index([&#x27;sepal length (cm)&#x27;, &#x27;sepal width (cm)&#x27;, &#x27;petal length (cm)&#x27;,\n",
       "       &#x27;petal width (cm)&#x27;],\n",
       "      dtype=&#x27;object&#x27;)</pre></div> </div></div><div class=\"sk-serial\"><div class=\"sk-item\"><div class=\"sk-estimator  sk-toggleable\"><input class=\"sk-toggleable__control sk-hidden--visually\" id=\"sk-estimator-id-4\" type=\"checkbox\" ><label for=\"sk-estimator-id-4\" class=\"sk-toggleable__label  sk-toggleable__label-arrow\"><div><div>StandardScaler</div></div><div><a class=\"sk-estimator-doc-link \" rel=\"noreferrer\" target=\"_blank\" href=\"https://scikit-learn.org/1.6/modules/generated/sklearn.preprocessing.StandardScaler.html\">?<span>Documentation for StandardScaler</span></a></div></label><div class=\"sk-toggleable__content \"><pre>StandardScaler()</pre></div> </div></div></div></div></div></div></div></div></div></div></div>"
      ],
      "text/plain": [
       "Pipeline(steps=[('preprocessor',\n",
       "                 ColumnTransformer(transformers=[('num', StandardScaler(),\n",
       "                                                  Index(['sepal length (cm)', 'sepal width (cm)', 'petal length (cm)',\n",
       "       'petal width (cm)'],\n",
       "      dtype='object'))]))])"
      ]
     },
     "execution_count": 15,
     "metadata": {},
     "output_type": "execute_result"
    }
   ],
   "source": [
    "# Buat Pipeline\n",
    "pipeline = Pipeline(steps=[('preprocessor', preprocessor)])\n",
    "pipeline"
   ]
  },
  {
   "cell_type": "code",
   "execution_count": 16,
   "metadata": {},
   "outputs": [],
   "source": [
    "# Split Train Test Split\n",
    "X_train, X_test, y_train, y_train = train_test_split(X, y, test_size=0.2, random_state=42)"
   ]
  },
  {
   "cell_type": "code",
   "execution_count": 17,
   "metadata": {},
   "outputs": [],
   "source": [
    "# Transform X_train dan X_test\n",
    "X_train_processed = pipeline.fit_transform(X_train)  \n",
    "X_test_processed = pipeline.transform(X_test)"
   ]
  },
  {
   "cell_type": "code",
   "execution_count": 18,
   "metadata": {},
   "outputs": [
    {
     "data": {
      "text/plain": [
       "array([[-1.47393679,  1.20365799, -1.56253475, -1.31260282],\n",
       "       [-0.13307079,  2.99237573, -1.27600637, -1.04563275],\n",
       "       [ 1.08589829,  0.08570939,  0.38585821,  0.28921757],\n",
       "       [-1.23014297,  0.75647855, -1.2187007 , -1.31260282],\n",
       "       [-1.7177306 ,  0.30929911, -1.39061772, -1.31260282],\n",
       "       [ 0.59831066, -1.25582892,  0.72969227,  0.95664273],\n",
       "       [ 0.72020757,  0.30929911,  0.44316389,  0.4227026 ],\n",
       "       [-0.74255534,  0.98006827, -1.27600637, -1.31260282],\n",
       "       [-0.98634915,  1.20365799, -1.33331205, -1.31260282],\n",
       "       [-0.74255534,  2.32160658, -1.27600637, -1.44608785],\n",
       "       [-0.01117388, -0.80864948,  0.78699794,  0.95664273],\n",
       "       [ 0.23261993,  0.75647855,  0.44316389,  0.55618763],\n",
       "       [ 1.08589829,  0.08570939,  0.55777524,  0.4227026 ],\n",
       "       [-0.49876152,  1.87442714, -1.39061772, -1.04563275],\n",
       "       [-0.49876152,  1.4272477 , -1.27600637, -1.31260282],\n",
       "       [-0.37686461, -1.47941864, -0.01528151, -0.24472256],\n",
       "       [ 0.59831066, -0.58505976,  0.78699794,  0.4227026 ],\n",
       "       [ 0.72020757,  0.08570939,  1.01622064,  0.8231577 ],\n",
       "       [ 0.96400139, -0.13788033,  0.38585821,  0.28921757],\n",
       "       [ 1.69538284,  1.20365799,  1.3600547 ,  1.75755292],\n",
       "       [-0.13307079, -0.36147005,  0.27124686,  0.15573254],\n",
       "       [ 2.18297047, -0.13788033,  1.64658307,  1.22361279],\n",
       "       [-0.2549677 , -0.13788033,  0.44316389,  0.4227026 ],\n",
       "       [-0.86445224,  0.98006827, -1.33331205, -1.31260282],\n",
       "       [ 2.30486738, -0.58505976,  1.70388875,  1.09012776],\n",
       "       [-0.01117388, -0.80864948,  0.21394119, -0.24472256],\n",
       "       [-0.74255534,  0.75647855, -1.33331205, -1.31260282],\n",
       "       [-0.98634915,  0.98006827, -1.39061772, -1.17911778],\n",
       "       [-0.86445224,  1.65083742, -1.04678367, -1.04563275],\n",
       "       [-0.98634915, -2.37377751, -0.12989286, -0.24472256],\n",
       "       [ 0.59831066, -0.80864948,  0.67238659,  0.8231577 ],\n",
       "       [-1.23014297,  0.75647855, -1.04678367, -1.31260282],\n",
       "       [-0.98634915, -0.13788033, -1.2187007 , -1.31260282],\n",
       "       [-0.86445224,  0.53288883, -1.16139502, -0.91214772],\n",
       "       [-0.2549677 , -0.80864948,  0.27124686,  0.15573254],\n",
       "       [-0.86445224,  0.75647855, -1.27600637, -1.31260282],\n",
       "       [-0.13307079, -0.13788033,  0.27124686,  0.02224751],\n",
       "       [ 2.30486738,  1.65083742,  1.70388875,  1.35709783],\n",
       "       [-1.47393679,  0.30929911, -1.33331205, -1.31260282],\n",
       "       [ 0.47641375, -0.36147005,  0.32855254,  0.15573254],\n",
       "       [-0.13307079, -1.25582892,  0.72969227,  1.09012776],\n",
       "       [-0.37686461,  2.5451963 , -1.33331205, -1.31260282],\n",
       "       [ 0.23261993, -0.13788033,  0.61508092,  0.8231577 ],\n",
       "       [-0.01117388, -0.80864948,  0.78699794,  0.95664273],\n",
       "       [ 0.23261993, -1.92659808,  0.15663551, -0.24472256],\n",
       "       [-0.49876152, -0.13788033,  0.44316389,  0.4227026 ],\n",
       "       [ 0.47641375,  0.75647855,  0.95891497,  1.49058286],\n",
       "       [-0.37686461, -1.70300836,  0.15663551,  0.15573254],\n",
       "       [-0.49876152,  1.87442714, -1.16139502, -1.04563275],\n",
       "       [-0.98634915, -1.70300836, -0.24450422, -0.24472256],\n",
       "       [ 0.72020757, -0.80864948,  0.90160929,  0.95664273],\n",
       "       [-0.98634915,  0.53288883, -1.33331205, -1.31260282],\n",
       "       [-0.98634915,  0.30929911, -1.4479234 , -1.31260282],\n",
       "       [-0.37686461, -1.47941864,  0.04202416, -0.11123753],\n",
       "       [ 1.08589829, -0.13788033,  0.72969227,  0.68967267],\n",
       "       [-1.10824606,  0.08570939, -1.27600637, -1.31260282],\n",
       "       [-0.01117388, -0.58505976,  0.78699794,  1.62406789],\n",
       "       [-0.98634915,  0.75647855, -1.27600637, -1.31260282],\n",
       "       [-0.98634915,  0.98006827, -1.2187007 , -0.77866269],\n",
       "       [ 0.11072303,  0.30929911,  0.61508092,  0.8231577 ],\n",
       "       [-0.86445224, -1.25582892, -0.41642124, -0.11123753],\n",
       "       [ 1.32969211,  0.30929911,  1.130832  ,  1.49058286],\n",
       "       [ 0.23261993, -0.80864948,  0.78699794,  0.55618763],\n",
       "       [ 0.35451684, -1.0322392 ,  1.07352632,  0.28921757],\n",
       "       [ 2.30486738, -0.13788033,  1.3600547 ,  1.49058286],\n",
       "       [-0.37686461, -1.25582892,  0.15663551,  0.15573254],\n",
       "       [-1.7177306 , -0.36147005, -1.33331205, -1.31260282],\n",
       "       [-1.83962751, -0.13788033, -1.50522907, -1.44608785],\n",
       "       [ 0.23261993, -1.92659808,  0.72969227,  0.4227026 ],\n",
       "       [ 1.69538284,  0.30929911,  1.30274902,  0.8231577 ],\n",
       "       [-1.47393679,  0.08570939, -1.27600637, -1.31260282],\n",
       "       [-0.86445224,  0.98006827, -1.33331205, -1.17911778],\n",
       "       [-1.7177306 , -0.13788033, -1.39061772, -1.31260282],\n",
       "       [ 0.59831066, -1.25582892,  0.67238659,  0.4227026 ],\n",
       "       [ 0.59831066,  0.75647855,  1.07352632,  1.62406789],\n",
       "       [-1.47393679,  0.75647855, -1.33331205, -1.17911778],\n",
       "       [ 1.2077952 , -0.13788033,  1.01622064,  1.22361279],\n",
       "       [ 0.59831066,  0.53288883,  1.30274902,  1.75755292],\n",
       "       [-1.35203988,  0.30929911, -1.39061772, -1.31260282],\n",
       "       [ 0.35451684, -0.36147005,  0.55777524,  0.28921757],\n",
       "       [ 0.84210448, -0.58505976,  0.50046957,  0.4227026 ],\n",
       "       [ 0.47641375, -0.58505976,  0.61508092,  0.8231577 ],\n",
       "       [ 1.45158902,  0.30929911,  0.55777524,  0.28921757],\n",
       "       [ 0.72020757,  0.30929911,  0.90160929,  1.49058286],\n",
       "       [-0.86445224,  1.65083742, -1.2187007 , -1.31260282],\n",
       "       [ 1.32969211,  0.08570939,  0.95891497,  1.22361279],\n",
       "       [ 0.11072303, -0.13788033,  0.27124686,  0.4227026 ],\n",
       "       [ 0.84210448, -0.13788033,  0.84430362,  1.09012776],\n",
       "       [-0.13307079, -1.0322392 , -0.12989286, -0.24472256],\n",
       "       [-0.74255534, -0.80864948,  0.09932984,  0.28921757],\n",
       "       [ 0.35451684, -0.13788033,  0.50046957,  0.28921757],\n",
       "       [-1.5958337 , -1.70300836, -1.39061772, -1.17911778],\n",
       "       [ 0.96400139, -0.36147005,  0.50046957,  0.15573254],\n",
       "       [-0.37686461, -1.0322392 ,  0.38585821,  0.02224751],\n",
       "       [-0.62065843,  1.4272477 , -1.27600637, -1.31260282],\n",
       "       [-0.2549677 , -0.13788033,  0.21394119,  0.15573254],\n",
       "       [ 1.81727975, -0.36147005,  1.47466605,  0.8231577 ],\n",
       "       [ 1.08589829,  0.53288883,  1.130832  ,  1.22361279],\n",
       "       [-0.86445224,  1.4272477 , -1.27600637, -1.04563275],\n",
       "       [-1.10824606, -1.47941864, -0.24450422, -0.24472256],\n",
       "       [ 1.08589829,  0.53288883,  1.130832  ,  1.75755292],\n",
       "       [ 1.69538284, -0.13788033,  1.18813767,  0.55618763],\n",
       "       [-1.10824606,  1.20365799, -1.33331205, -1.44608785],\n",
       "       [ 1.08589829,  0.08570939,  1.07352632,  1.62406789],\n",
       "       [-1.10824606, -0.13788033, -1.33331205, -1.31260282],\n",
       "       [ 1.32969211,  0.08570939,  0.67238659,  0.4227026 ],\n",
       "       [ 1.93917666, -0.58505976,  1.3600547 ,  0.95664273],\n",
       "       [ 0.59831066, -0.36147005,  1.07352632,  0.8231577 ],\n",
       "       [-0.13307079, -0.58505976,  0.21394119,  0.15573254],\n",
       "       [ 0.84210448, -0.13788033,  1.01622064,  0.8231577 ],\n",
       "       [ 0.59831066, -1.70300836,  0.38585821,  0.15573254],\n",
       "       [ 0.72020757, -0.36147005,  0.32855254,  0.15573254],\n",
       "       [-0.2549677 , -0.58505976,  0.67238659,  1.09012776],\n",
       "       [ 0.11072303, -0.13788033,  0.78699794,  0.8231577 ],\n",
       "       [-0.49876152,  0.75647855, -1.16139502, -1.31260282],\n",
       "       [ 0.35451684, -0.58505976,  0.15663551,  0.15573254],\n",
       "       [-1.10824606, -1.25582892,  0.44316389,  0.68967267],\n",
       "       [-0.01117388,  2.09801686, -1.4479234 , -1.31260282],\n",
       "       [-0.01117388, -1.0322392 ,  0.15663551,  0.02224751],\n",
       "       [ 1.57348593, -0.13788033,  1.24544335,  1.22361279]])"
      ]
     },
     "execution_count": 18,
     "metadata": {},
     "output_type": "execute_result"
    }
   ],
   "source": [
    "X_train_processed"
   ]
  },
  {
   "cell_type": "code",
   "execution_count": 19,
   "metadata": {},
   "outputs": [
    {
     "data": {
      "text/plain": [
       "array([[ 0.35451684, -0.58505976,  0.55777524,  0.02224751],\n",
       "       [-0.13307079,  1.65083742, -1.16139502, -1.17911778],\n",
       "       [ 2.30486738, -1.0322392 ,  1.8185001 ,  1.49058286],\n",
       "       [ 0.23261993, -0.36147005,  0.44316389,  0.4227026 ],\n",
       "       [ 1.2077952 , -0.58505976,  0.61508092,  0.28921757],\n",
       "       [-0.49876152,  0.75647855, -1.27600637, -1.04563275],\n",
       "       [-0.2549677 , -0.36147005, -0.07258719,  0.15573254],\n",
       "       [ 1.32969211,  0.08570939,  0.78699794,  1.49058286],\n",
       "       [ 0.47641375, -1.92659808,  0.44316389,  0.4227026 ],\n",
       "       [-0.01117388, -0.80864948,  0.09932984,  0.02224751],\n",
       "       [ 0.84210448,  0.30929911,  0.78699794,  1.09012776],\n",
       "       [-1.23014297, -0.13788033, -1.33331205, -1.44608785],\n",
       "       [-0.37686461,  0.98006827, -1.39061772, -1.31260282],\n",
       "       [-1.10824606,  0.08570939, -1.27600637, -1.44608785],\n",
       "       [-0.86445224,  1.65083742, -1.27600637, -1.17911778],\n",
       "       [ 0.59831066,  0.53288883,  0.55777524,  0.55618763],\n",
       "       [ 0.84210448, -0.13788033,  1.18813767,  1.35709783],\n",
       "       [-0.2549677 , -1.25582892,  0.09932984, -0.11123753],\n",
       "       [-0.13307079, -0.58505976,  0.44316389,  0.15573254],\n",
       "       [ 0.72020757, -0.58505976,  1.07352632,  1.35709783],\n",
       "       [-1.35203988,  0.30929911, -1.2187007 , -1.31260282],\n",
       "       [ 0.35451684, -0.13788033,  0.67238659,  0.8231577 ],\n",
       "       [-0.98634915,  0.75647855, -1.2187007 , -1.04563275],\n",
       "       [ 0.72020757, -0.58505976,  1.07352632,  1.22361279],\n",
       "       [ 2.5486612 ,  1.65083742,  1.53197172,  1.09012776],\n",
       "       [ 1.08589829, -0.13788033,  0.84430362,  1.49058286],\n",
       "       [ 1.08589829, -1.25582892,  1.18813767,  0.8231577 ],\n",
       "       [ 1.2077952 ,  0.30929911,  1.24544335,  1.49058286],\n",
       "       [-1.23014297, -0.13788033, -1.33331205, -1.17911778],\n",
       "       [-1.23014297,  0.08570939, -1.2187007 , -1.31260282]])"
      ]
     },
     "execution_count": 19,
     "metadata": {},
     "output_type": "execute_result"
    }
   ],
   "source": [
    "X_test_processed"
   ]
  },
  {
   "cell_type": "code",
   "execution_count": 20,
   "metadata": {},
   "outputs": [],
   "source": [
    "# # Ambil nama kolom hasil one hot encoder dan scaling\n",
    "# ohe = pipeline.named_steps['preprocessor'].named_transformers_['cat']\n",
    "# encoded_col_names = ohe.get_feature_names_out(categorical_cols)\n",
    "# encoded_col_names"
   ]
  },
  {
   "cell_type": "code",
   "execution_count": 21,
   "metadata": {},
   "outputs": [],
   "source": [
    "# # Gabungkan semua nama kolom : fitur numerik + fitur kategorikal encoded\n",
    "# final_feature_names = list(numerical_cols) + list(encoded_col_names)\n",
    "# final_feature_names"
   ]
  },
  {
   "cell_type": "code",
   "execution_count": 22,
   "metadata": {},
   "outputs": [
    {
     "data": {
      "text/plain": [
       "array([-1.47393679,  1.20365799, -1.56253475, -1.31260282])"
      ]
     },
     "execution_count": 22,
     "metadata": {},
     "output_type": "execute_result"
    }
   ],
   "source": [
    "X_train_processed[0]"
   ]
  },
  {
   "cell_type": "code",
   "execution_count": 23,
   "metadata": {},
   "outputs": [],
   "source": [
    "# Tentukan Kolom\n",
    "numerical_cols = ['sepal length (cm)', 'sepal width (cm)', 'petal length (cm)', 'petal width (cm)']\n",
    "categorical_onehot_cols = []\n",
    "categorical_ordinal_cols = []"
   ]
  },
  {
   "cell_type": "code",
   "execution_count": 24,
   "metadata": {},
   "outputs": [],
   "source": [
    "# Buat Transformer\n",
    "preprocessor = ColumnTransformer(\n",
    "    transformers = [\n",
    "        ('num', StandardScaler(), numerical_cols)\n",
    "        # ('onehot', OneHotEncoder(drop='first'), categorical_onehot_cols),\n",
    "        # ('ordinal', OrdinalEncoder(), categorical_ordinal_cols)\n",
    "    ]\n",
    ")"
   ]
  },
  {
   "cell_type": "code",
   "execution_count": 25,
   "metadata": {},
   "outputs": [
    {
     "data": {
      "text/html": [
       "<style>#sk-container-id-2 {\n",
       "  /* Definition of color scheme common for light and dark mode */\n",
       "  --sklearn-color-text: #000;\n",
       "  --sklearn-color-text-muted: #666;\n",
       "  --sklearn-color-line: gray;\n",
       "  /* Definition of color scheme for unfitted estimators */\n",
       "  --sklearn-color-unfitted-level-0: #fff5e6;\n",
       "  --sklearn-color-unfitted-level-1: #f6e4d2;\n",
       "  --sklearn-color-unfitted-level-2: #ffe0b3;\n",
       "  --sklearn-color-unfitted-level-3: chocolate;\n",
       "  /* Definition of color scheme for fitted estimators */\n",
       "  --sklearn-color-fitted-level-0: #f0f8ff;\n",
       "  --sklearn-color-fitted-level-1: #d4ebff;\n",
       "  --sklearn-color-fitted-level-2: #b3dbfd;\n",
       "  --sklearn-color-fitted-level-3: cornflowerblue;\n",
       "\n",
       "  /* Specific color for light theme */\n",
       "  --sklearn-color-text-on-default-background: var(--sg-text-color, var(--theme-code-foreground, var(--jp-content-font-color1, black)));\n",
       "  --sklearn-color-background: var(--sg-background-color, var(--theme-background, var(--jp-layout-color0, white)));\n",
       "  --sklearn-color-border-box: var(--sg-text-color, var(--theme-code-foreground, var(--jp-content-font-color1, black)));\n",
       "  --sklearn-color-icon: #696969;\n",
       "\n",
       "  @media (prefers-color-scheme: dark) {\n",
       "    /* Redefinition of color scheme for dark theme */\n",
       "    --sklearn-color-text-on-default-background: var(--sg-text-color, var(--theme-code-foreground, var(--jp-content-font-color1, white)));\n",
       "    --sklearn-color-background: var(--sg-background-color, var(--theme-background, var(--jp-layout-color0, #111)));\n",
       "    --sklearn-color-border-box: var(--sg-text-color, var(--theme-code-foreground, var(--jp-content-font-color1, white)));\n",
       "    --sklearn-color-icon: #878787;\n",
       "  }\n",
       "}\n",
       "\n",
       "#sk-container-id-2 {\n",
       "  color: var(--sklearn-color-text);\n",
       "}\n",
       "\n",
       "#sk-container-id-2 pre {\n",
       "  padding: 0;\n",
       "}\n",
       "\n",
       "#sk-container-id-2 input.sk-hidden--visually {\n",
       "  border: 0;\n",
       "  clip: rect(1px 1px 1px 1px);\n",
       "  clip: rect(1px, 1px, 1px, 1px);\n",
       "  height: 1px;\n",
       "  margin: -1px;\n",
       "  overflow: hidden;\n",
       "  padding: 0;\n",
       "  position: absolute;\n",
       "  width: 1px;\n",
       "}\n",
       "\n",
       "#sk-container-id-2 div.sk-dashed-wrapped {\n",
       "  border: 1px dashed var(--sklearn-color-line);\n",
       "  margin: 0 0.4em 0.5em 0.4em;\n",
       "  box-sizing: border-box;\n",
       "  padding-bottom: 0.4em;\n",
       "  background-color: var(--sklearn-color-background);\n",
       "}\n",
       "\n",
       "#sk-container-id-2 div.sk-container {\n",
       "  /* jupyter's `normalize.less` sets `[hidden] { display: none; }`\n",
       "     but bootstrap.min.css set `[hidden] { display: none !important; }`\n",
       "     so we also need the `!important` here to be able to override the\n",
       "     default hidden behavior on the sphinx rendered scikit-learn.org.\n",
       "     See: https://github.com/scikit-learn/scikit-learn/issues/21755 */\n",
       "  display: inline-block !important;\n",
       "  position: relative;\n",
       "}\n",
       "\n",
       "#sk-container-id-2 div.sk-text-repr-fallback {\n",
       "  display: none;\n",
       "}\n",
       "\n",
       "div.sk-parallel-item,\n",
       "div.sk-serial,\n",
       "div.sk-item {\n",
       "  /* draw centered vertical line to link estimators */\n",
       "  background-image: linear-gradient(var(--sklearn-color-text-on-default-background), var(--sklearn-color-text-on-default-background));\n",
       "  background-size: 2px 100%;\n",
       "  background-repeat: no-repeat;\n",
       "  background-position: center center;\n",
       "}\n",
       "\n",
       "/* Parallel-specific style estimator block */\n",
       "\n",
       "#sk-container-id-2 div.sk-parallel-item::after {\n",
       "  content: \"\";\n",
       "  width: 100%;\n",
       "  border-bottom: 2px solid var(--sklearn-color-text-on-default-background);\n",
       "  flex-grow: 1;\n",
       "}\n",
       "\n",
       "#sk-container-id-2 div.sk-parallel {\n",
       "  display: flex;\n",
       "  align-items: stretch;\n",
       "  justify-content: center;\n",
       "  background-color: var(--sklearn-color-background);\n",
       "  position: relative;\n",
       "}\n",
       "\n",
       "#sk-container-id-2 div.sk-parallel-item {\n",
       "  display: flex;\n",
       "  flex-direction: column;\n",
       "}\n",
       "\n",
       "#sk-container-id-2 div.sk-parallel-item:first-child::after {\n",
       "  align-self: flex-end;\n",
       "  width: 50%;\n",
       "}\n",
       "\n",
       "#sk-container-id-2 div.sk-parallel-item:last-child::after {\n",
       "  align-self: flex-start;\n",
       "  width: 50%;\n",
       "}\n",
       "\n",
       "#sk-container-id-2 div.sk-parallel-item:only-child::after {\n",
       "  width: 0;\n",
       "}\n",
       "\n",
       "/* Serial-specific style estimator block */\n",
       "\n",
       "#sk-container-id-2 div.sk-serial {\n",
       "  display: flex;\n",
       "  flex-direction: column;\n",
       "  align-items: center;\n",
       "  background-color: var(--sklearn-color-background);\n",
       "  padding-right: 1em;\n",
       "  padding-left: 1em;\n",
       "}\n",
       "\n",
       "\n",
       "/* Toggleable style: style used for estimator/Pipeline/ColumnTransformer box that is\n",
       "clickable and can be expanded/collapsed.\n",
       "- Pipeline and ColumnTransformer use this feature and define the default style\n",
       "- Estimators will overwrite some part of the style using the `sk-estimator` class\n",
       "*/\n",
       "\n",
       "/* Pipeline and ColumnTransformer style (default) */\n",
       "\n",
       "#sk-container-id-2 div.sk-toggleable {\n",
       "  /* Default theme specific background. It is overwritten whether we have a\n",
       "  specific estimator or a Pipeline/ColumnTransformer */\n",
       "  background-color: var(--sklearn-color-background);\n",
       "}\n",
       "\n",
       "/* Toggleable label */\n",
       "#sk-container-id-2 label.sk-toggleable__label {\n",
       "  cursor: pointer;\n",
       "  display: flex;\n",
       "  width: 100%;\n",
       "  margin-bottom: 0;\n",
       "  padding: 0.5em;\n",
       "  box-sizing: border-box;\n",
       "  text-align: center;\n",
       "  align-items: start;\n",
       "  justify-content: space-between;\n",
       "  gap: 0.5em;\n",
       "}\n",
       "\n",
       "#sk-container-id-2 label.sk-toggleable__label .caption {\n",
       "  font-size: 0.6rem;\n",
       "  font-weight: lighter;\n",
       "  color: var(--sklearn-color-text-muted);\n",
       "}\n",
       "\n",
       "#sk-container-id-2 label.sk-toggleable__label-arrow:before {\n",
       "  /* Arrow on the left of the label */\n",
       "  content: \"▸\";\n",
       "  float: left;\n",
       "  margin-right: 0.25em;\n",
       "  color: var(--sklearn-color-icon);\n",
       "}\n",
       "\n",
       "#sk-container-id-2 label.sk-toggleable__label-arrow:hover:before {\n",
       "  color: var(--sklearn-color-text);\n",
       "}\n",
       "\n",
       "/* Toggleable content - dropdown */\n",
       "\n",
       "#sk-container-id-2 div.sk-toggleable__content {\n",
       "  max-height: 0;\n",
       "  max-width: 0;\n",
       "  overflow: hidden;\n",
       "  text-align: left;\n",
       "  /* unfitted */\n",
       "  background-color: var(--sklearn-color-unfitted-level-0);\n",
       "}\n",
       "\n",
       "#sk-container-id-2 div.sk-toggleable__content.fitted {\n",
       "  /* fitted */\n",
       "  background-color: var(--sklearn-color-fitted-level-0);\n",
       "}\n",
       "\n",
       "#sk-container-id-2 div.sk-toggleable__content pre {\n",
       "  margin: 0.2em;\n",
       "  border-radius: 0.25em;\n",
       "  color: var(--sklearn-color-text);\n",
       "  /* unfitted */\n",
       "  background-color: var(--sklearn-color-unfitted-level-0);\n",
       "}\n",
       "\n",
       "#sk-container-id-2 div.sk-toggleable__content.fitted pre {\n",
       "  /* unfitted */\n",
       "  background-color: var(--sklearn-color-fitted-level-0);\n",
       "}\n",
       "\n",
       "#sk-container-id-2 input.sk-toggleable__control:checked~div.sk-toggleable__content {\n",
       "  /* Expand drop-down */\n",
       "  max-height: 200px;\n",
       "  max-width: 100%;\n",
       "  overflow: auto;\n",
       "}\n",
       "\n",
       "#sk-container-id-2 input.sk-toggleable__control:checked~label.sk-toggleable__label-arrow:before {\n",
       "  content: \"▾\";\n",
       "}\n",
       "\n",
       "/* Pipeline/ColumnTransformer-specific style */\n",
       "\n",
       "#sk-container-id-2 div.sk-label input.sk-toggleable__control:checked~label.sk-toggleable__label {\n",
       "  color: var(--sklearn-color-text);\n",
       "  background-color: var(--sklearn-color-unfitted-level-2);\n",
       "}\n",
       "\n",
       "#sk-container-id-2 div.sk-label.fitted input.sk-toggleable__control:checked~label.sk-toggleable__label {\n",
       "  background-color: var(--sklearn-color-fitted-level-2);\n",
       "}\n",
       "\n",
       "/* Estimator-specific style */\n",
       "\n",
       "/* Colorize estimator box */\n",
       "#sk-container-id-2 div.sk-estimator input.sk-toggleable__control:checked~label.sk-toggleable__label {\n",
       "  /* unfitted */\n",
       "  background-color: var(--sklearn-color-unfitted-level-2);\n",
       "}\n",
       "\n",
       "#sk-container-id-2 div.sk-estimator.fitted input.sk-toggleable__control:checked~label.sk-toggleable__label {\n",
       "  /* fitted */\n",
       "  background-color: var(--sklearn-color-fitted-level-2);\n",
       "}\n",
       "\n",
       "#sk-container-id-2 div.sk-label label.sk-toggleable__label,\n",
       "#sk-container-id-2 div.sk-label label {\n",
       "  /* The background is the default theme color */\n",
       "  color: var(--sklearn-color-text-on-default-background);\n",
       "}\n",
       "\n",
       "/* On hover, darken the color of the background */\n",
       "#sk-container-id-2 div.sk-label:hover label.sk-toggleable__label {\n",
       "  color: var(--sklearn-color-text);\n",
       "  background-color: var(--sklearn-color-unfitted-level-2);\n",
       "}\n",
       "\n",
       "/* Label box, darken color on hover, fitted */\n",
       "#sk-container-id-2 div.sk-label.fitted:hover label.sk-toggleable__label.fitted {\n",
       "  color: var(--sklearn-color-text);\n",
       "  background-color: var(--sklearn-color-fitted-level-2);\n",
       "}\n",
       "\n",
       "/* Estimator label */\n",
       "\n",
       "#sk-container-id-2 div.sk-label label {\n",
       "  font-family: monospace;\n",
       "  font-weight: bold;\n",
       "  display: inline-block;\n",
       "  line-height: 1.2em;\n",
       "}\n",
       "\n",
       "#sk-container-id-2 div.sk-label-container {\n",
       "  text-align: center;\n",
       "}\n",
       "\n",
       "/* Estimator-specific */\n",
       "#sk-container-id-2 div.sk-estimator {\n",
       "  font-family: monospace;\n",
       "  border: 1px dotted var(--sklearn-color-border-box);\n",
       "  border-radius: 0.25em;\n",
       "  box-sizing: border-box;\n",
       "  margin-bottom: 0.5em;\n",
       "  /* unfitted */\n",
       "  background-color: var(--sklearn-color-unfitted-level-0);\n",
       "}\n",
       "\n",
       "#sk-container-id-2 div.sk-estimator.fitted {\n",
       "  /* fitted */\n",
       "  background-color: var(--sklearn-color-fitted-level-0);\n",
       "}\n",
       "\n",
       "/* on hover */\n",
       "#sk-container-id-2 div.sk-estimator:hover {\n",
       "  /* unfitted */\n",
       "  background-color: var(--sklearn-color-unfitted-level-2);\n",
       "}\n",
       "\n",
       "#sk-container-id-2 div.sk-estimator.fitted:hover {\n",
       "  /* fitted */\n",
       "  background-color: var(--sklearn-color-fitted-level-2);\n",
       "}\n",
       "\n",
       "/* Specification for estimator info (e.g. \"i\" and \"?\") */\n",
       "\n",
       "/* Common style for \"i\" and \"?\" */\n",
       "\n",
       ".sk-estimator-doc-link,\n",
       "a:link.sk-estimator-doc-link,\n",
       "a:visited.sk-estimator-doc-link {\n",
       "  float: right;\n",
       "  font-size: smaller;\n",
       "  line-height: 1em;\n",
       "  font-family: monospace;\n",
       "  background-color: var(--sklearn-color-background);\n",
       "  border-radius: 1em;\n",
       "  height: 1em;\n",
       "  width: 1em;\n",
       "  text-decoration: none !important;\n",
       "  margin-left: 0.5em;\n",
       "  text-align: center;\n",
       "  /* unfitted */\n",
       "  border: var(--sklearn-color-unfitted-level-1) 1pt solid;\n",
       "  color: var(--sklearn-color-unfitted-level-1);\n",
       "}\n",
       "\n",
       ".sk-estimator-doc-link.fitted,\n",
       "a:link.sk-estimator-doc-link.fitted,\n",
       "a:visited.sk-estimator-doc-link.fitted {\n",
       "  /* fitted */\n",
       "  border: var(--sklearn-color-fitted-level-1) 1pt solid;\n",
       "  color: var(--sklearn-color-fitted-level-1);\n",
       "}\n",
       "\n",
       "/* On hover */\n",
       "div.sk-estimator:hover .sk-estimator-doc-link:hover,\n",
       ".sk-estimator-doc-link:hover,\n",
       "div.sk-label-container:hover .sk-estimator-doc-link:hover,\n",
       ".sk-estimator-doc-link:hover {\n",
       "  /* unfitted */\n",
       "  background-color: var(--sklearn-color-unfitted-level-3);\n",
       "  color: var(--sklearn-color-background);\n",
       "  text-decoration: none;\n",
       "}\n",
       "\n",
       "div.sk-estimator.fitted:hover .sk-estimator-doc-link.fitted:hover,\n",
       ".sk-estimator-doc-link.fitted:hover,\n",
       "div.sk-label-container:hover .sk-estimator-doc-link.fitted:hover,\n",
       ".sk-estimator-doc-link.fitted:hover {\n",
       "  /* fitted */\n",
       "  background-color: var(--sklearn-color-fitted-level-3);\n",
       "  color: var(--sklearn-color-background);\n",
       "  text-decoration: none;\n",
       "}\n",
       "\n",
       "/* Span, style for the box shown on hovering the info icon */\n",
       ".sk-estimator-doc-link span {\n",
       "  display: none;\n",
       "  z-index: 9999;\n",
       "  position: relative;\n",
       "  font-weight: normal;\n",
       "  right: .2ex;\n",
       "  padding: .5ex;\n",
       "  margin: .5ex;\n",
       "  width: min-content;\n",
       "  min-width: 20ex;\n",
       "  max-width: 50ex;\n",
       "  color: var(--sklearn-color-text);\n",
       "  box-shadow: 2pt 2pt 4pt #999;\n",
       "  /* unfitted */\n",
       "  background: var(--sklearn-color-unfitted-level-0);\n",
       "  border: .5pt solid var(--sklearn-color-unfitted-level-3);\n",
       "}\n",
       "\n",
       ".sk-estimator-doc-link.fitted span {\n",
       "  /* fitted */\n",
       "  background: var(--sklearn-color-fitted-level-0);\n",
       "  border: var(--sklearn-color-fitted-level-3);\n",
       "}\n",
       "\n",
       ".sk-estimator-doc-link:hover span {\n",
       "  display: block;\n",
       "}\n",
       "\n",
       "/* \"?\"-specific style due to the `<a>` HTML tag */\n",
       "\n",
       "#sk-container-id-2 a.estimator_doc_link {\n",
       "  float: right;\n",
       "  font-size: 1rem;\n",
       "  line-height: 1em;\n",
       "  font-family: monospace;\n",
       "  background-color: var(--sklearn-color-background);\n",
       "  border-radius: 1rem;\n",
       "  height: 1rem;\n",
       "  width: 1rem;\n",
       "  text-decoration: none;\n",
       "  /* unfitted */\n",
       "  color: var(--sklearn-color-unfitted-level-1);\n",
       "  border: var(--sklearn-color-unfitted-level-1) 1pt solid;\n",
       "}\n",
       "\n",
       "#sk-container-id-2 a.estimator_doc_link.fitted {\n",
       "  /* fitted */\n",
       "  border: var(--sklearn-color-fitted-level-1) 1pt solid;\n",
       "  color: var(--sklearn-color-fitted-level-1);\n",
       "}\n",
       "\n",
       "/* On hover */\n",
       "#sk-container-id-2 a.estimator_doc_link:hover {\n",
       "  /* unfitted */\n",
       "  background-color: var(--sklearn-color-unfitted-level-3);\n",
       "  color: var(--sklearn-color-background);\n",
       "  text-decoration: none;\n",
       "}\n",
       "\n",
       "#sk-container-id-2 a.estimator_doc_link.fitted:hover {\n",
       "  /* fitted */\n",
       "  background-color: var(--sklearn-color-fitted-level-3);\n",
       "}\n",
       "</style><div id=\"sk-container-id-2\" class=\"sk-top-container\"><div class=\"sk-text-repr-fallback\"><pre>Pipeline(steps=[(&#x27;preprocessor&#x27;,\n",
       "                 ColumnTransformer(transformers=[(&#x27;num&#x27;, StandardScaler(),\n",
       "                                                  [&#x27;sepal length (cm)&#x27;,\n",
       "                                                   &#x27;sepal width (cm)&#x27;,\n",
       "                                                   &#x27;petal length (cm)&#x27;,\n",
       "                                                   &#x27;petal width (cm)&#x27;])]))])</pre><b>In a Jupyter environment, please rerun this cell to show the HTML representation or trust the notebook. <br />On GitHub, the HTML representation is unable to render, please try loading this page with nbviewer.org.</b></div><div class=\"sk-container\" hidden><div class=\"sk-item sk-dashed-wrapped\"><div class=\"sk-label-container\"><div class=\"sk-label  sk-toggleable\"><input class=\"sk-toggleable__control sk-hidden--visually\" id=\"sk-estimator-id-5\" type=\"checkbox\" ><label for=\"sk-estimator-id-5\" class=\"sk-toggleable__label  sk-toggleable__label-arrow\"><div><div>Pipeline</div></div><div><a class=\"sk-estimator-doc-link \" rel=\"noreferrer\" target=\"_blank\" href=\"https://scikit-learn.org/1.6/modules/generated/sklearn.pipeline.Pipeline.html\">?<span>Documentation for Pipeline</span></a><span class=\"sk-estimator-doc-link \">i<span>Not fitted</span></span></div></label><div class=\"sk-toggleable__content \"><pre>Pipeline(steps=[(&#x27;preprocessor&#x27;,\n",
       "                 ColumnTransformer(transformers=[(&#x27;num&#x27;, StandardScaler(),\n",
       "                                                  [&#x27;sepal length (cm)&#x27;,\n",
       "                                                   &#x27;sepal width (cm)&#x27;,\n",
       "                                                   &#x27;petal length (cm)&#x27;,\n",
       "                                                   &#x27;petal width (cm)&#x27;])]))])</pre></div> </div></div><div class=\"sk-serial\"><div class=\"sk-item sk-dashed-wrapped\"><div class=\"sk-label-container\"><div class=\"sk-label  sk-toggleable\"><input class=\"sk-toggleable__control sk-hidden--visually\" id=\"sk-estimator-id-6\" type=\"checkbox\" ><label for=\"sk-estimator-id-6\" class=\"sk-toggleable__label  sk-toggleable__label-arrow\"><div><div>preprocessor: ColumnTransformer</div></div><div><a class=\"sk-estimator-doc-link \" rel=\"noreferrer\" target=\"_blank\" href=\"https://scikit-learn.org/1.6/modules/generated/sklearn.compose.ColumnTransformer.html\">?<span>Documentation for preprocessor: ColumnTransformer</span></a></div></label><div class=\"sk-toggleable__content \"><pre>ColumnTransformer(transformers=[(&#x27;num&#x27;, StandardScaler(),\n",
       "                                 [&#x27;sepal length (cm)&#x27;, &#x27;sepal width (cm)&#x27;,\n",
       "                                  &#x27;petal length (cm)&#x27;, &#x27;petal width (cm)&#x27;])])</pre></div> </div></div><div class=\"sk-parallel\"><div class=\"sk-parallel-item\"><div class=\"sk-item\"><div class=\"sk-label-container\"><div class=\"sk-label  sk-toggleable\"><input class=\"sk-toggleable__control sk-hidden--visually\" id=\"sk-estimator-id-7\" type=\"checkbox\" ><label for=\"sk-estimator-id-7\" class=\"sk-toggleable__label  sk-toggleable__label-arrow\"><div><div>num</div></div></label><div class=\"sk-toggleable__content \"><pre>[&#x27;sepal length (cm)&#x27;, &#x27;sepal width (cm)&#x27;, &#x27;petal length (cm)&#x27;, &#x27;petal width (cm)&#x27;]</pre></div> </div></div><div class=\"sk-serial\"><div class=\"sk-item\"><div class=\"sk-estimator  sk-toggleable\"><input class=\"sk-toggleable__control sk-hidden--visually\" id=\"sk-estimator-id-8\" type=\"checkbox\" ><label for=\"sk-estimator-id-8\" class=\"sk-toggleable__label  sk-toggleable__label-arrow\"><div><div>StandardScaler</div></div><div><a class=\"sk-estimator-doc-link \" rel=\"noreferrer\" target=\"_blank\" href=\"https://scikit-learn.org/1.6/modules/generated/sklearn.preprocessing.StandardScaler.html\">?<span>Documentation for StandardScaler</span></a></div></label><div class=\"sk-toggleable__content \"><pre>StandardScaler()</pre></div> </div></div></div></div></div></div></div></div></div></div></div>"
      ],
      "text/plain": [
       "Pipeline(steps=[('preprocessor',\n",
       "                 ColumnTransformer(transformers=[('num', StandardScaler(),\n",
       "                                                  ['sepal length (cm)',\n",
       "                                                   'sepal width (cm)',\n",
       "                                                   'petal length (cm)',\n",
       "                                                   'petal width (cm)'])]))])"
      ]
     },
     "execution_count": 25,
     "metadata": {},
     "output_type": "execute_result"
    }
   ],
   "source": [
    "# Buat Pipeline\n",
    "pipeline = Pipeline(steps=[('preprocessor', preprocessor)])\n",
    "pipeline"
   ]
  },
  {
   "cell_type": "code",
   "execution_count": 26,
   "metadata": {},
   "outputs": [],
   "source": [
    "# Split Data Train Test\n",
    "X_train, X_test, y_train, y_test = train_test_split(X,\n",
    "                                                    y,\n",
    "                                                    test_size=0.2,\n",
    "                                                    random_state=42,\n",
    "                                                    stratify=y)"
   ]
  },
  {
   "cell_type": "code",
   "execution_count": 27,
   "metadata": {},
   "outputs": [
    {
     "data": {
      "text/plain": [
       "(120, 4)"
      ]
     },
     "execution_count": 27,
     "metadata": {},
     "output_type": "execute_result"
    }
   ],
   "source": [
    "X_train.shape"
   ]
  },
  {
   "cell_type": "code",
   "execution_count": 28,
   "metadata": {},
   "outputs": [],
   "source": [
    "# Fit Transform\n",
    "X_train_processed = pipeline.fit_transform(X_train)\n",
    "X_test_processed = pipeline.transform(X_test)"
   ]
  },
  {
   "cell_type": "code",
   "execution_count": 29,
   "metadata": {},
   "outputs": [
    {
     "data": {
      "text/html": [
       "<div>\n",
       "<style scoped>\n",
       "    .dataframe tbody tr th:only-of-type {\n",
       "        vertical-align: middle;\n",
       "    }\n",
       "\n",
       "    .dataframe tbody tr th {\n",
       "        vertical-align: top;\n",
       "    }\n",
       "\n",
       "    .dataframe thead th {\n",
       "        text-align: right;\n",
       "    }\n",
       "</style>\n",
       "<table border=\"1\" class=\"dataframe\">\n",
       "  <thead>\n",
       "    <tr style=\"text-align: right;\">\n",
       "      <th></th>\n",
       "      <th>sepal length (cm)</th>\n",
       "      <th>sepal width (cm)</th>\n",
       "      <th>petal length (cm)</th>\n",
       "      <th>petal width (cm)</th>\n",
       "    </tr>\n",
       "  </thead>\n",
       "  <tbody>\n",
       "    <tr>\n",
       "      <th>8</th>\n",
       "      <td>4.4</td>\n",
       "      <td>2.9</td>\n",
       "      <td>1.4</td>\n",
       "      <td>0.2</td>\n",
       "    </tr>\n",
       "  </tbody>\n",
       "</table>\n",
       "</div>"
      ],
      "text/plain": [
       "   sepal length (cm)  sepal width (cm)  petal length (cm)  petal width (cm)\n",
       "8                4.4               2.9                1.4               0.2"
      ]
     },
     "execution_count": 29,
     "metadata": {},
     "output_type": "execute_result"
    }
   ],
   "source": [
    "X_train.head(1)"
   ]
  },
  {
   "cell_type": "code",
   "execution_count": 30,
   "metadata": {},
   "outputs": [
    {
     "data": {
      "text/plain": [
       "array([-1.72156775, -0.33210111, -1.34572231, -1.32327558])"
      ]
     },
     "execution_count": 30,
     "metadata": {},
     "output_type": "execute_result"
    }
   ],
   "source": [
    "X_train_processed[0]"
   ]
  },
  {
   "cell_type": "code",
   "execution_count": 31,
   "metadata": {},
   "outputs": [],
   "source": [
    "# # Ambil Transformers\n",
    "# ohe = pipeline.named_steps['preprocessor'].named_transformers_['onehot']\n",
    "# ordinal = pipeline.named_steps['preprocessor'].named_transformers_['ordinal']\n",
    "\n",
    "# ohe, ordinal"
   ]
  },
  {
   "cell_type": "code",
   "execution_count": 32,
   "metadata": {},
   "outputs": [],
   "source": [
    "# # Ambil Nama Kolom Hasil One Hot Encoder\n",
    "# onehot_feature_names = ohe.get_feature_names_out(categorical_onehot_cols)\n",
    "\n",
    "# # Gabungkan Semua Kolom\n",
    "# final_feature_names = (\n",
    "#     numerical_cols +\n",
    "#     list(onehot_feature_names) +\n",
    "#     categorical_ordinal_cols\n",
    "# )\n",
    "\n",
    "# final_feature_names"
   ]
  },
  {
   "cell_type": "code",
   "execution_count": 33,
   "metadata": {},
   "outputs": [],
   "source": [
    "# # Cek Hasil Encoding\n",
    "# # Ambil Encodernya\n",
    "# ordinal_encoder = pipeline.named_steps['preprocessor'].named_transformers_['ordinal']\n",
    "# print(ordinal_encoder.categories_)\n",
    "# categories = ordinal_encoder.categories_\n",
    "\n",
    "# # Gabungkan jadi dict nama kolom dan kategorinya\n",
    "# ordinal_col_info = dict(zip(categorical_ordinal_cols, categories))\n",
    "\n",
    "# for col, cat in ordinal_col_info.items():\n",
    "#     print(f\"{col}: {list(cat)}\")\n",
    "\n",
    "# # Tampilkan Hasil Mapping Kategori ke Angka\n",
    "# for cols, cats in zip(categorical_ordinal_cols, ordinal_encoder.categories_):\n",
    "#     print(f\"Kolom {cols} kategori : angka\")\n",
    "    \n",
    "#     for i, cat in enumerate(cats):\n",
    "#         print(f\"{cat} : {i}\")"
   ]
  },
  {
   "cell_type": "code",
   "execution_count": 34,
   "metadata": {},
   "outputs": [
    {
     "data": {
      "text/plain": [
       "((120, 4), (30, 4), (120,), (30,))"
      ]
     },
     "execution_count": 34,
     "metadata": {},
     "output_type": "execute_result"
    }
   ],
   "source": [
    "# Data Yang Dipakai\n",
    "X_train_processed.shape, X_test_processed.shape, y_train.shape, y_test.shape"
   ]
  },
  {
   "cell_type": "code",
   "execution_count": 35,
   "metadata": {},
   "outputs": [
    {
     "data": {
      "text/plain": [
       "(numpy.ndarray,\n",
       " numpy.ndarray,\n",
       " pandas.core.series.Series,\n",
       " pandas.core.series.Series)"
      ]
     },
     "execution_count": 35,
     "metadata": {},
     "output_type": "execute_result"
    }
   ],
   "source": [
    "type(X_train_processed), type(X_test_processed), type(y_train), type(y_test)"
   ]
  },
  {
   "cell_type": "code",
   "execution_count": 36,
   "metadata": {},
   "outputs": [
    {
     "data": {
      "text/plain": [
       "(torch.Size([120, 4]),\n",
       " torch.Size([30, 4]),\n",
       " torch.Size([120]),\n",
       " torch.Size([30]))"
      ]
     },
     "execution_count": 36,
     "metadata": {},
     "output_type": "execute_result"
    }
   ],
   "source": [
    "# Create model\n",
    "# konversi ke tensor pytorch (karena format sebelumnya adalah dataframe, maka diganti terlebih dahulu ke numpy)\n",
    "X_train_tensor = torch.tensor(X_train_processed,dtype=torch.float32)\n",
    "X_test_tensor = torch.tensor(X_test_processed,dtype=torch.float32)\n",
    "y_train_tensor = torch.tensor(y_train.to_numpy(), dtype=torch.long)\n",
    "y_test_tensor = torch.tensor(y_test.to_numpy(), dtype=torch.long)\n",
    "\n",
    "# X_train_tensor = torch.tensor(X_train)\n",
    "# X_test_tensor = torch.tensor(X_test)\n",
    "# y_train_tensor = torch.tensor(y_train).unsqueeze(dim=1)\n",
    "# y_test_tensor = torch.tensor(y_test).unsqueeze(dim=1)\n",
    "\n",
    "X_train_tensor.shape, X_test_tensor.shape, y_train_tensor.shape, y_test_tensor.shape"
   ]
  },
  {
   "cell_type": "code",
   "execution_count": 37,
   "metadata": {},
   "outputs": [
    {
     "name": "stdout",
     "output_type": "stream",
     "text": [
      "tensor([0, 1, 2])\n"
     ]
    }
   ],
   "source": [
    "print(torch.unique(y_train_tensor)) "
   ]
  },
  {
   "cell_type": "code",
   "execution_count": 38,
   "metadata": {},
   "outputs": [
    {
     "data": {
      "text/plain": [
       "tensor([0, 2, 1, 0, 1, 2, 1, 2, 2, 2, 2, 1, 1, 1, 1, 0, 0, 2, 2, 0, 1, 0, 2, 0,\n",
       "        1, 2, 2, 0, 2, 0, 0, 1, 1, 0, 2, 2, 1, 1, 2, 1, 0, 1, 0, 2, 0, 0, 2, 0,\n",
       "        0, 0, 0, 1, 2, 1, 0, 2, 1, 2, 0, 2, 0, 1, 2, 0, 1, 1, 2, 1, 1, 2, 0, 0,\n",
       "        0, 2, 1, 2, 1, 2, 2, 1, 0, 2, 1, 0, 2, 0, 2, 1, 1, 0, 1, 2, 0, 0, 2, 2,\n",
       "        2, 1, 2, 0, 2, 1, 2, 2, 0, 1, 1, 1, 1, 1, 0, 2, 1, 1, 0, 0, 0, 0, 1, 0])"
      ]
     },
     "execution_count": 38,
     "metadata": {},
     "output_type": "execute_result"
    }
   ],
   "source": [
    "y_train_tensor"
   ]
  },
  {
   "cell_type": "code",
   "execution_count": 39,
   "metadata": {},
   "outputs": [
    {
     "data": {
      "text/plain": [
       "4"
      ]
     },
     "execution_count": 39,
     "metadata": {},
     "output_type": "execute_result"
    }
   ],
   "source": [
    "X_train_tensor.shape[1]"
   ]
  },
  {
   "cell_type": "code",
   "execution_count": null,
   "metadata": {},
   "outputs": [
    {
     "name": "stdout",
     "output_type": "stream",
     "text": [
      "4\n",
      "3\n"
     ]
    },
    {
     "data": {
      "text/plain": [
       "Sequential(\n",
       "  (0): Linear(in_features=4, out_features=10, bias=True)\n",
       "  (1): ReLU()\n",
       "  (2): Linear(in_features=10, out_features=3, bias=True)\n",
       ")"
      ]
     },
     "execution_count": 40,
     "metadata": {},
     "output_type": "execute_result"
    }
   ],
   "source": [
    "# LR Model 1\n",
    "\n",
    "# class LRModel (nn.Module):\n",
    "#     def __init__(self, input_dim):\n",
    "#         super(LRModel, self).__init__()\n",
    "#         self.linear = nn.Linear(input_dim, 1)\n",
    "        \n",
    "#     def forward(self, x):\n",
    "#         return torch.sigmoid(self.linear(x))\n",
    "\n",
    "input_dim = X_train_tensor.shape[1]\n",
    "output_dim = df_clean['species'].nunique()\n",
    "print(input_dim)\n",
    "print(output_dim)\n",
    "\n",
    "model1 = nn.Sequential(\n",
    "    nn.Linear(input_dim, 16),\n",
    "    nn.ReLU(),\n",
    "    nn.Linear(16, output_dim)  # 3 kelas output\n",
    ")\n",
    "\n",
    "model1"
   ]
  },
  {
   "cell_type": "code",
   "execution_count": 41,
   "metadata": {},
   "outputs": [],
   "source": [
    "# Loss & Optimize\n",
    "\n",
    "criterion = nn.CrossEntropyLoss()\n",
    "optimizer = optim.Adam(model1.parameters(), lr=0.01)"
   ]
  },
  {
   "cell_type": "code",
   "execution_count": 42,
   "metadata": {},
   "outputs": [
    {
     "name": "stdout",
     "output_type": "stream",
     "text": [
      "Epoch : [10/1000] | Loss_train : 0.9618 | Loss_test : 0.9715 | Accuracy_train : 0.6500  | Accuracy Test : 0.6667\n",
      "Epoch : [20/1000] | Loss_train : 0.6999 | Loss_test : 0.7292 | Accuracy_train : 0.7583  | Accuracy Test : 0.7000\n",
      "Epoch : [30/1000] | Loss_train : 0.4787 | Loss_test : 0.5342 | Accuracy_train : 0.8083  | Accuracy Test : 0.7000\n",
      "Epoch : [40/1000] | Loss_train : 0.3571 | Loss_test : 0.4172 | Accuracy_train : 0.8750  | Accuracy Test : 0.7333\n",
      "Epoch : [50/1000] | Loss_train : 0.2843 | Loss_test : 0.3311 | Accuracy_train : 0.9167  | Accuracy Test : 0.8667\n",
      "Epoch : [60/1000] | Loss_train : 0.2321 | Loss_test : 0.2785 | Accuracy_train : 0.9417  | Accuracy Test : 0.8667\n",
      "Epoch : [70/1000] | Loss_train : 0.1903 | Loss_test : 0.2321 | Accuracy_train : 0.9417  | Accuracy Test : 0.9000\n",
      "Epoch : [80/1000] | Loss_train : 0.1557 | Loss_test : 0.1916 | Accuracy_train : 0.9583  | Accuracy Test : 0.9667\n",
      "Epoch : [90/1000] | Loss_train : 0.1282 | Loss_test : 0.1591 | Accuracy_train : 0.9583  | Accuracy Test : 0.9667\n",
      "Epoch : [100/1000] | Loss_train : 0.1073 | Loss_test : 0.1354 | Accuracy_train : 0.9667  | Accuracy Test : 0.9667\n",
      "Epoch : [110/1000] | Loss_train : 0.0917 | Loss_test : 0.1176 | Accuracy_train : 0.9750  | Accuracy Test : 0.9667\n",
      "Epoch : [120/1000] | Loss_train : 0.0804 | Loss_test : 0.1041 | Accuracy_train : 0.9750  | Accuracy Test : 0.9667\n",
      "Epoch : [130/1000] | Loss_train : 0.0721 | Loss_test : 0.0936 | Accuracy_train : 0.9750  | Accuracy Test : 0.9667\n",
      "Epoch : [140/1000] | Loss_train : 0.0661 | Loss_test : 0.0860 | Accuracy_train : 0.9750  | Accuracy Test : 0.9667\n",
      "Epoch : [150/1000] | Loss_train : 0.0616 | Loss_test : 0.0804 | Accuracy_train : 0.9750  | Accuracy Test : 0.9667\n",
      "Epoch : [160/1000] | Loss_train : 0.0582 | Loss_test : 0.0759 | Accuracy_train : 0.9750  | Accuracy Test : 0.9667\n",
      "Epoch : [170/1000] | Loss_train : 0.0553 | Loss_test : 0.0722 | Accuracy_train : 0.9750  | Accuracy Test : 0.9667\n",
      "Epoch : [180/1000] | Loss_train : 0.0530 | Loss_test : 0.0691 | Accuracy_train : 0.9750  | Accuracy Test : 0.9667\n",
      "Epoch : [190/1000] | Loss_train : 0.0511 | Loss_test : 0.0666 | Accuracy_train : 0.9750  | Accuracy Test : 0.9667\n",
      "Epoch : [200/1000] | Loss_train : 0.0494 | Loss_test : 0.0644 | Accuracy_train : 0.9833  | Accuracy Test : 0.9667\n",
      "Epoch : [210/1000] | Loss_train : 0.0480 | Loss_test : 0.0625 | Accuracy_train : 0.9833  | Accuracy Test : 0.9667\n",
      "Epoch : [220/1000] | Loss_train : 0.0468 | Loss_test : 0.0608 | Accuracy_train : 0.9833  | Accuracy Test : 0.9667\n",
      "Epoch : [230/1000] | Loss_train : 0.0457 | Loss_test : 0.0594 | Accuracy_train : 0.9833  | Accuracy Test : 0.9667\n",
      "Epoch : [240/1000] | Loss_train : 0.0448 | Loss_test : 0.0583 | Accuracy_train : 0.9833  | Accuracy Test : 0.9667\n",
      "Epoch : [250/1000] | Loss_train : 0.0440 | Loss_test : 0.0575 | Accuracy_train : 0.9833  | Accuracy Test : 0.9667\n",
      "Epoch : [260/1000] | Loss_train : 0.0432 | Loss_test : 0.0570 | Accuracy_train : 0.9833  | Accuracy Test : 0.9667\n",
      "Epoch : [270/1000] | Loss_train : 0.0425 | Loss_test : 0.0566 | Accuracy_train : 0.9833  | Accuracy Test : 0.9667\n",
      "Epoch : [280/1000] | Loss_train : 0.0419 | Loss_test : 0.0562 | Accuracy_train : 0.9833  | Accuracy Test : 0.9667\n",
      "Epoch : [290/1000] | Loss_train : 0.0414 | Loss_test : 0.0560 | Accuracy_train : 0.9833  | Accuracy Test : 0.9667\n",
      "Epoch : [300/1000] | Loss_train : 0.0409 | Loss_test : 0.0558 | Accuracy_train : 0.9833  | Accuracy Test : 0.9667\n",
      "Epoch : [310/1000] | Loss_train : 0.0404 | Loss_test : 0.0557 | Accuracy_train : 0.9833  | Accuracy Test : 0.9667\n",
      "Epoch : [320/1000] | Loss_train : 0.0400 | Loss_test : 0.0556 | Accuracy_train : 0.9833  | Accuracy Test : 0.9667\n",
      "Epoch : [330/1000] | Loss_train : 0.0396 | Loss_test : 0.0555 | Accuracy_train : 0.9833  | Accuracy Test : 0.9667\n",
      "Epoch : [340/1000] | Loss_train : 0.0393 | Loss_test : 0.0556 | Accuracy_train : 0.9833  | Accuracy Test : 0.9667\n",
      "Epoch : [350/1000] | Loss_train : 0.0390 | Loss_test : 0.0557 | Accuracy_train : 0.9833  | Accuracy Test : 0.9667\n",
      "Epoch : [360/1000] | Loss_train : 0.0387 | Loss_test : 0.0559 | Accuracy_train : 0.9833  | Accuracy Test : 0.9667\n",
      "Epoch : [370/1000] | Loss_train : 0.0384 | Loss_test : 0.0559 | Accuracy_train : 0.9833  | Accuracy Test : 0.9667\n",
      "Epoch : [380/1000] | Loss_train : 0.0382 | Loss_test : 0.0559 | Accuracy_train : 0.9833  | Accuracy Test : 0.9667\n",
      "Epoch : [390/1000] | Loss_train : 0.0380 | Loss_test : 0.0559 | Accuracy_train : 0.9833  | Accuracy Test : 0.9667\n",
      "Epoch : [400/1000] | Loss_train : 0.0377 | Loss_test : 0.0559 | Accuracy_train : 0.9833  | Accuracy Test : 0.9667\n",
      "Epoch : [410/1000] | Loss_train : 0.0375 | Loss_test : 0.0559 | Accuracy_train : 0.9833  | Accuracy Test : 0.9667\n",
      "Epoch : [420/1000] | Loss_train : 0.0374 | Loss_test : 0.0558 | Accuracy_train : 0.9833  | Accuracy Test : 0.9667\n",
      "Epoch : [430/1000] | Loss_train : 0.0372 | Loss_test : 0.0558 | Accuracy_train : 0.9833  | Accuracy Test : 0.9667\n",
      "Epoch : [440/1000] | Loss_train : 0.0370 | Loss_test : 0.0558 | Accuracy_train : 0.9833  | Accuracy Test : 0.9667\n",
      "Epoch : [450/1000] | Loss_train : 0.0368 | Loss_test : 0.0558 | Accuracy_train : 0.9833  | Accuracy Test : 0.9667\n",
      "Epoch : [460/1000] | Loss_train : 0.0367 | Loss_test : 0.0558 | Accuracy_train : 0.9833  | Accuracy Test : 0.9667\n",
      "Epoch : [470/1000] | Loss_train : 0.0365 | Loss_test : 0.0559 | Accuracy_train : 0.9833  | Accuracy Test : 0.9667\n",
      "Epoch : [480/1000] | Loss_train : 0.0363 | Loss_test : 0.0560 | Accuracy_train : 0.9833  | Accuracy Test : 0.9667\n",
      "Epoch : [490/1000] | Loss_train : 0.0361 | Loss_test : 0.0561 | Accuracy_train : 0.9833  | Accuracy Test : 0.9667\n",
      "Epoch : [500/1000] | Loss_train : 0.0360 | Loss_test : 0.0563 | Accuracy_train : 0.9833  | Accuracy Test : 0.9667\n",
      "Epoch : [510/1000] | Loss_train : 0.0358 | Loss_test : 0.0565 | Accuracy_train : 0.9833  | Accuracy Test : 0.9667\n",
      "Epoch : [520/1000] | Loss_train : 0.0356 | Loss_test : 0.0567 | Accuracy_train : 0.9833  | Accuracy Test : 0.9667\n",
      "Epoch : [530/1000] | Loss_train : 0.0354 | Loss_test : 0.0570 | Accuracy_train : 0.9833  | Accuracy Test : 0.9667\n",
      "Epoch : [540/1000] | Loss_train : 0.0352 | Loss_test : 0.0573 | Accuracy_train : 0.9833  | Accuracy Test : 0.9667\n",
      "Epoch : [550/1000] | Loss_train : 0.0350 | Loss_test : 0.0577 | Accuracy_train : 0.9833  | Accuracy Test : 0.9667\n",
      "Epoch : [560/1000] | Loss_train : 0.0348 | Loss_test : 0.0582 | Accuracy_train : 0.9833  | Accuracy Test : 0.9667\n",
      "Epoch : [570/1000] | Loss_train : 0.0346 | Loss_test : 0.0588 | Accuracy_train : 0.9833  | Accuracy Test : 0.9667\n",
      "Epoch : [580/1000] | Loss_train : 0.0344 | Loss_test : 0.0594 | Accuracy_train : 0.9833  | Accuracy Test : 0.9667\n",
      "Epoch : [590/1000] | Loss_train : 0.0342 | Loss_test : 0.0601 | Accuracy_train : 0.9833  | Accuracy Test : 0.9667\n",
      "Epoch : [600/1000] | Loss_train : 0.0339 | Loss_test : 0.0608 | Accuracy_train : 0.9833  | Accuracy Test : 0.9667\n",
      "Epoch : [610/1000] | Loss_train : 0.0337 | Loss_test : 0.0617 | Accuracy_train : 0.9833  | Accuracy Test : 0.9667\n",
      "Epoch : [620/1000] | Loss_train : 0.0334 | Loss_test : 0.0628 | Accuracy_train : 0.9833  | Accuracy Test : 0.9667\n",
      "Epoch : [630/1000] | Loss_train : 0.0332 | Loss_test : 0.0640 | Accuracy_train : 0.9833  | Accuracy Test : 0.9667\n",
      "Epoch : [640/1000] | Loss_train : 0.0329 | Loss_test : 0.0655 | Accuracy_train : 0.9833  | Accuracy Test : 0.9667\n",
      "Epoch : [650/1000] | Loss_train : 0.0327 | Loss_test : 0.0676 | Accuracy_train : 0.9833  | Accuracy Test : 0.9667\n",
      "Epoch : [660/1000] | Loss_train : 0.0324 | Loss_test : 0.0697 | Accuracy_train : 0.9833  | Accuracy Test : 0.9667\n",
      "Epoch : [670/1000] | Loss_train : 0.0322 | Loss_test : 0.0719 | Accuracy_train : 0.9833  | Accuracy Test : 0.9667\n",
      "Epoch : [680/1000] | Loss_train : 0.0320 | Loss_test : 0.0740 | Accuracy_train : 0.9833  | Accuracy Test : 0.9667\n",
      "Epoch : [690/1000] | Loss_train : 0.0318 | Loss_test : 0.0761 | Accuracy_train : 0.9833  | Accuracy Test : 0.9667\n",
      "Epoch : [700/1000] | Loss_train : 0.0316 | Loss_test : 0.0783 | Accuracy_train : 0.9833  | Accuracy Test : 0.9667\n",
      "Epoch : [710/1000] | Loss_train : 0.0313 | Loss_test : 0.0804 | Accuracy_train : 0.9833  | Accuracy Test : 0.9667\n",
      "Epoch : [720/1000] | Loss_train : 0.0302 | Loss_test : 0.0833 | Accuracy_train : 0.9833  | Accuracy Test : 0.9667\n",
      "Epoch : [730/1000] | Loss_train : 0.0289 | Loss_test : 0.0904 | Accuracy_train : 0.9833  | Accuracy Test : 0.9667\n",
      "Epoch : [740/1000] | Loss_train : 0.0285 | Loss_test : 0.0985 | Accuracy_train : 0.9833  | Accuracy Test : 0.9667\n",
      "Epoch : [750/1000] | Loss_train : 0.0279 | Loss_test : 0.0970 | Accuracy_train : 0.9833  | Accuracy Test : 0.9667\n",
      "Epoch : [760/1000] | Loss_train : 0.0275 | Loss_test : 0.0994 | Accuracy_train : 0.9833  | Accuracy Test : 0.9667\n",
      "Epoch : [770/1000] | Loss_train : 0.0272 | Loss_test : 0.1036 | Accuracy_train : 0.9833  | Accuracy Test : 0.9667\n",
      "Epoch : [780/1000] | Loss_train : 0.0268 | Loss_test : 0.1047 | Accuracy_train : 0.9833  | Accuracy Test : 0.9667\n",
      "Epoch : [790/1000] | Loss_train : 0.0265 | Loss_test : 0.1066 | Accuracy_train : 0.9833  | Accuracy Test : 0.9667\n",
      "Epoch : [800/1000] | Loss_train : 0.0262 | Loss_test : 0.1091 | Accuracy_train : 0.9833  | Accuracy Test : 0.9667\n",
      "Epoch : [810/1000] | Loss_train : 0.0259 | Loss_test : 0.1109 | Accuracy_train : 0.9833  | Accuracy Test : 0.9667\n",
      "Epoch : [820/1000] | Loss_train : 0.0257 | Loss_test : 0.1123 | Accuracy_train : 0.9833  | Accuracy Test : 0.9667\n",
      "Epoch : [830/1000] | Loss_train : 0.0255 | Loss_test : 0.1139 | Accuracy_train : 0.9833  | Accuracy Test : 0.9667\n",
      "Epoch : [840/1000] | Loss_train : 0.0252 | Loss_test : 0.1153 | Accuracy_train : 0.9833  | Accuracy Test : 0.9667\n",
      "Epoch : [850/1000] | Loss_train : 0.0251 | Loss_test : 0.1166 | Accuracy_train : 0.9833  | Accuracy Test : 0.9667\n",
      "Epoch : [860/1000] | Loss_train : 0.0249 | Loss_test : 0.1179 | Accuracy_train : 0.9833  | Accuracy Test : 0.9667\n",
      "Epoch : [870/1000] | Loss_train : 0.0247 | Loss_test : 0.1192 | Accuracy_train : 0.9833  | Accuracy Test : 0.9667\n",
      "Epoch : [880/1000] | Loss_train : 0.0245 | Loss_test : 0.1204 | Accuracy_train : 0.9833  | Accuracy Test : 0.9667\n",
      "Epoch : [890/1000] | Loss_train : 0.0244 | Loss_test : 0.1217 | Accuracy_train : 0.9833  | Accuracy Test : 0.9667\n",
      "Epoch : [900/1000] | Loss_train : 0.0243 | Loss_test : 0.1233 | Accuracy_train : 0.9833  | Accuracy Test : 0.9667\n",
      "Epoch : [910/1000] | Loss_train : 0.0241 | Loss_test : 0.1244 | Accuracy_train : 0.9833  | Accuracy Test : 0.9667\n",
      "Epoch : [920/1000] | Loss_train : 0.0240 | Loss_test : 0.1254 | Accuracy_train : 0.9833  | Accuracy Test : 0.9667\n",
      "Epoch : [930/1000] | Loss_train : 0.0239 | Loss_test : 0.1268 | Accuracy_train : 0.9833  | Accuracy Test : 0.9667\n",
      "Epoch : [940/1000] | Loss_train : 0.0238 | Loss_test : 0.1277 | Accuracy_train : 0.9833  | Accuracy Test : 0.9667\n",
      "Epoch : [950/1000] | Loss_train : 0.0237 | Loss_test : 0.1288 | Accuracy_train : 0.9833  | Accuracy Test : 0.9667\n",
      "Epoch : [960/1000] | Loss_train : 0.0236 | Loss_test : 0.1299 | Accuracy_train : 0.9833  | Accuracy Test : 0.9667\n",
      "Epoch : [970/1000] | Loss_train : 0.0235 | Loss_test : 0.1310 | Accuracy_train : 0.9833  | Accuracy Test : 0.9667\n",
      "Epoch : [980/1000] | Loss_train : 0.0234 | Loss_test : 0.1321 | Accuracy_train : 0.9833  | Accuracy Test : 0.9667\n",
      "Epoch : [990/1000] | Loss_train : 0.0233 | Loss_test : 0.1331 | Accuracy_train : 0.9833  | Accuracy Test : 0.9667\n",
      "Epoch : [1000/1000] | Loss_train : 0.0232 | Loss_test : 0.1340 | Accuracy_train : 0.9833  | Accuracy Test : 0.9667\n"
     ]
    }
   ],
   "source": [
    "# Training Loop\n",
    "torch.manual_seed(42)\n",
    "\n",
    "epochs = 1000\n",
    "losses_train = []\n",
    "losses_test = []\n",
    "\n",
    "for epoch in range(epochs):\n",
    "    model1.train()\n",
    "    \n",
    "    output_train = model1(X_train_tensor)\n",
    "\n",
    "    loss_train = criterion(output_train,  y_train_tensor)\n",
    "    \n",
    "    losses_train.append(loss_train.item())\n",
    "    \n",
    "    _, output_label_train = torch.max(output_train, 1)\n",
    "        \n",
    "    accuracy_train = (output_label_train == y_train_tensor).float().mean()\n",
    "        \n",
    "    optimizer.zero_grad()\n",
    "    \n",
    "    loss_train.backward()\n",
    "    \n",
    "    optimizer.step()\n",
    "    \n",
    "    # Evaluasi akurasi\n",
    "    from sklearn.metrics import confusion_matrix, classification_report\n",
    "\n",
    "    model1.eval()\n",
    "    with torch.no_grad():\n",
    "        output_test = model1(X_test_tensor)\n",
    "        \n",
    "        loss_test = criterion(output_test,  y_test_tensor)\n",
    "        \n",
    "        losses_test.append(loss_test.item())\n",
    "        \n",
    "        _, output_label_test = torch.max(output_test, 1)\n",
    "                \n",
    "        accuracy_test = (output_label_test == y_test_tensor).float().mean()\n",
    "    \n",
    "    if (epoch + 1) % 10 == 0:\n",
    "        print(f\"Epoch : [{epoch+1}/{epochs}] | Loss_train : {loss_train.item():.4f} | Loss_test : {loss_test.item():.4f} | Accuracy_train : {accuracy_train:.4f}  | Accuracy Test : {accuracy_test:.4f}\")"
   ]
  },
  {
   "cell_type": "code",
   "execution_count": 43,
   "metadata": {},
   "outputs": [
    {
     "name": "stdout",
     "output_type": "stream",
     "text": [
      "confusion matrix : [[40  0  0]\n",
      " [ 0 39  1]\n",
      " [ 0  1 39]]\n",
      "Classification report :               precision    recall  f1-score   support\n",
      "\n",
      "           0       1.00      1.00      1.00        40\n",
      "           1       0.97      0.97      0.97        40\n",
      "           2       0.97      0.97      0.97        40\n",
      "\n",
      "    accuracy                           0.98       120\n",
      "   macro avg       0.98      0.98      0.98       120\n",
      "weighted avg       0.98      0.98      0.98       120\n",
      "\n"
     ]
    }
   ],
   "source": [
    "# konversi ke numpy untuk sklearn\n",
    "y_true_train = y_train_tensor.numpy()\n",
    "y_pred_train = output_label_train.numpy()\n",
    "\n",
    "# Confusion matrix data train\n",
    "cm_train = confusion_matrix(y_true_train, y_pred_train)\n",
    "print(f\"confusion matrix : {cm_train}\")\n",
    "\n",
    "# Classification report (precision, recall, f1-score) data train\n",
    "cr_train = classification_report(y_true_train, y_pred_train)\n",
    "print(f\"Classification report : {cr_train}\")"
   ]
  },
  {
   "cell_type": "code",
   "execution_count": 44,
   "metadata": {},
   "outputs": [
    {
     "name": "stdout",
     "output_type": "stream",
     "text": [
      "confusion matrix : [[10  0  0]\n",
      " [ 0  9  1]\n",
      " [ 0  0 10]]\n",
      "Classification report :               precision    recall  f1-score   support\n",
      "\n",
      "           0       1.00      1.00      1.00        10\n",
      "           1       1.00      0.90      0.95        10\n",
      "           2       0.91      1.00      0.95        10\n",
      "\n",
      "    accuracy                           0.97        30\n",
      "   macro avg       0.97      0.97      0.97        30\n",
      "weighted avg       0.97      0.97      0.97        30\n",
      "\n"
     ]
    }
   ],
   "source": [
    "# konversi ke numpy untuk sklearn\n",
    "y_true_test = y_test_tensor.numpy()\n",
    "y_pred_test = output_label_test.numpy()\n",
    "        \n",
    "# Confusion matrix data test\n",
    "cm_test = confusion_matrix(y_true_test, y_pred_test)\n",
    "print(f\"confusion matrix : {cm_test}\")\n",
    "\n",
    "# Classification report (precision, recall, f1-score) data test\n",
    "cr_test = classification_report(y_true_test, y_pred_test)\n",
    "print(f\"Classification report : {cr_test}\")"
   ]
  },
  {
   "cell_type": "code",
   "execution_count": 45,
   "metadata": {},
   "outputs": [
    {
     "data": {
      "image/png": "[encoded data removed]",
      "text/plain": [
       "<Figure size 600x400 with 2 Axes>"
      ]
     },
     "metadata": {},
     "output_type": "display_data"
    }
   ],
   "source": [
    "import seaborn as sns\n",
    "import matplotlib.pyplot as plt\n",
    "from sklearn.metrics import confusion_matrix, classification_report\n",
    "\n",
    "# Visualisasi\n",
    "plt.figure(figsize=(6,4))\n",
    "sns.heatmap(cm_train, annot=True, fmt='d', cmap='Blues', xticklabels=['Setosa', 'Versocolo', 'Virginica'], \n",
    "            yticklabels=['Setosa', 'Versocolo', 'Virginica'])\n",
    "plt.xlabel('Predicted Label')\n",
    "plt.ylabel('True Label')\n",
    "plt.title('Confusion Matrix')\n",
    "plt.show()"
   ]
  },
  {
   "cell_type": "code",
   "execution_count": 46,
   "metadata": {},
   "outputs": [
    {
     "data": {
      "image/png": "[encoded data removed]",
      "text/plain": [
       "<Figure size 600x400 with 2 Axes>"
      ]
     },
     "metadata": {},
     "output_type": "display_data"
    }
   ],
   "source": [
    "import seaborn as sns\n",
    "import matplotlib.pyplot as plt\n",
    "from sklearn.metrics import confusion_matrix, classification_report\n",
    "\n",
    "# Visualisasi\n",
    "plt.figure(figsize=(6,4))\n",
    "sns.heatmap(cm_test, annot=True, fmt='d', cmap='Blues', xticklabels=['Setosa', 'Versocolo', 'Virginica'], \n",
    "            yticklabels=['Setosa', 'Versocolo', 'Virginica'])\n",
    "plt.xlabel('Predicted Label')\n",
    "plt.ylabel('True Label')\n",
    "plt.title('Confusion Matrix')\n",
    "plt.show()"
   ]
  },
  {
   "cell_type": "code",
   "execution_count": 47,
   "metadata": {},
   "outputs": [
    {
     "data": {
      "text/plain": [
       "torch.Tensor"
      ]
     },
     "execution_count": 47,
     "metadata": {},
     "output_type": "execute_result"
    }
   ],
   "source": [
    "type(output_label_test)"
   ]
  },
  {
   "cell_type": "code",
   "execution_count": 48,
   "metadata": {},
   "outputs": [
    {
     "data": {
      "text/plain": [
       "torch.Tensor"
      ]
     },
     "execution_count": 48,
     "metadata": {},
     "output_type": "execute_result"
    }
   ],
   "source": [
    "type(y_test_tensor)"
   ]
  },
  {
   "cell_type": "code",
   "execution_count": 49,
   "metadata": {},
   "outputs": [
    {
     "name": "stdout",
     "output_type": "stream",
     "text": [
      "[1.1894290447235107, 1.1587008237838745, 1.1301093101501465, 1.1034671068191528, 1.0785162448883057, 1.05461847782135, 1.031367301940918, 1.00834059715271, 0.9851477742195129, 0.9617949724197388, 0.9381565451622009, 0.9137449860572815, 0.8884166479110718, 0.8624764084815979, 0.8359278440475464, 0.8090188503265381, 0.7819889783859253, 0.7547496557235718, 0.727234423160553, 0.699851930141449, 0.672828733921051, 0.6464939713478088, 0.6210981011390686, 0.5968466997146606, 0.5739533305168152, 0.5522487759590149, 0.5318911075592041, 0.5128887891769409, 0.4951950013637543, 0.47869884967803955, 0.4632647931575775, 0.448729932308197, 0.4349941611289978, 0.42204704880714417, 0.4098120629787445, 0.3982052803039551, 0.3871617913246155, 0.37661978602409363, 0.366597980260849, 0.3570935130119324, 0.3480840027332306, 0.3395904302597046, 0.3315800130367279, 0.3239649534225464, 0.3166576325893402, 0.3096795380115509, 0.30299216508865356, 0.29655754566192627, 0.2903304994106293, 0.28426793217658997, 0.27838334441185, 0.27267616987228394, 0.26713836193084717, 0.2616839110851288, 0.25637388229370117, 0.2512137293815613, 0.24619649350643158, 0.241358682513237, 0.23664584755897522, 0.23211082816123962, 0.22767584025859833, 0.22327111661434174, 0.2189335823059082, 0.21465826034545898, 0.21043792366981506, 0.20627140998840332, 0.20216304063796997, 0.19811727106571198, 0.19413845241069794, 0.19027705490589142, 0.18650437891483307, 0.1828043907880783, 0.17917612195014954, 0.17561936378479004, 0.17212896049022675, 0.16870427131652832, 0.1653473973274231, 0.16205976903438568, 0.15884456038475037, 0.1557047963142395, 0.1526496261358261, 0.14967913925647736, 0.14678815007209778, 0.14397548139095306, 0.1411520391702652, 0.13839249312877655, 0.13569892942905426, 0.1330777108669281, 0.1305757462978363, 0.12820030748844147, 0.12589521706104279, 0.12365284562110901, 0.12142554670572281, 0.11923347413539886, 0.11709348857402802, 0.1150064617395401, 0.11297311633825302, 0.11101897060871124, 0.10913156718015671, 0.10728711634874344, 0.10549085587263107, 0.10374725610017776, 0.10206644237041473, 0.10043705254793167, 0.09885885566473007, 0.09733142703771591, 0.09587540477514267, 0.09445346146821976, 0.09307680279016495, 0.0917457714676857, 0.09044281393289566, 0.08917241543531418, 0.08794225752353668, 0.08675257861614227, 0.08560068905353546, 0.0844857320189476, 0.08340673893690109, 0.08236279338598251, 0.08135291188955307, 0.08037610352039337, 0.07941806316375732, 0.07849101722240448, 0.07759404182434082, 0.07672636955976486, 0.07588712126016617, 0.07507539540529251, 0.07429023087024689, 0.07353071123361588, 0.07279586046934128, 0.07208473980426788, 0.07139656692743301, 0.0707305297255516, 0.07008552551269531, 0.06946062296628952, 0.06885502487421036, 0.06826790422201157, 0.0676991194486618, 0.0671488344669342, 0.06661523878574371, 0.06609708815813065, 0.06559398025274277, 0.06510759890079498, 0.06463433802127838, 0.06417378783226013, 0.0637253150343895, 0.0632883831858635, 0.06286249309778214, 0.062447208911180496, 0.06204208359122276, 0.06164707615971565, 0.061261631548404694, 0.060885149985551834, 0.06051728501915932, 0.06015767529606819, 0.0598059706389904, 0.059461891651153564, 0.059125106781721115, 0.058795373886823654, 0.05847243219614029, 0.058156028389930725, 0.05784592777490616, 0.05754220113158226, 0.05724559351801872, 0.05695571377873421, 0.05667148530483246, 0.05639274790883064, 0.05611933022737503, 0.0558510459959507, 0.055587731301784515, 0.055332250893116, 0.05508338287472725, 0.054839298129081726, 0.054599449038505554, 0.05436376482248306, 0.054132070392370224, 0.053904321044683456, 0.05368030443787575, 0.05345994234085083, 0.05324316397309303, 0.05302979424595833, 0.05281974375247955, 0.052612919360399246, 0.05240922421216965, 0.05220857635140419, 0.0520109198987484, 0.051816146820783615, 0.051624201238155365, 0.051435213536024094, 0.05125473812222481, 0.051077183336019516, 0.05090246722102165, 0.050730518996715546, 0.0505613349378109, 0.050394754856824875, 0.05023070424795151, 0.050069138407707214, 0.049909986555576324, 0.04975319281220436, 0.049598708748817444, 0.049446482211351395, 0.049296457320451736, 0.04914858564734459, 0.049002811312675476, 0.048859067261219025, 0.04871731996536255, 0.04857752472162247, 0.048439666628837585, 0.048303645104169846, 0.04816944897174835, 0.04803704842925072, 0.047906409949064255, 0.047777481377124786, 0.04765085503458977, 0.04752591624855995, 0.04740261286497116, 0.0472809337079525, 0.047161076217889786, 0.04704294353723526, 0.0469263419508934, 0.04681123420596123, 0.046697575598955154, 0.04658534750342369, 0.04647452011704445, 0.04636514186859131, 0.046257637441158295, 0.0461520217359066, 0.046047698706388474, 0.04594464600086212, 0.04584283009171486, 0.045742232352495193, 0.04564284533262253, 0.045544616878032684, 0.04544752836227417, 0.04535156860947609, 0.04525673761963844, 0.04516299441456795, 0.0450703389942646, 0.044978734105825424, 0.04488818347454071, 0.04479866474866867, 0.04471014440059662, 0.04462261497974396, 0.04453607648611069, 0.04445050656795502, 0.04436586797237396, 0.04428217560052872, 0.04419939965009689, 0.044117506593465805, 0.044036541134119034, 0.04395642131567001, 0.04387718439102173, 0.04379880800843239, 0.043721240013837814, 0.043644532561302185, 0.04356861859560013, 0.04349353164434433, 0.043419234454631805, 0.04334573820233345, 0.04327300935983658, 0.04320104792714119, 0.043129850178956985, 0.043059393763542175, 0.04298967868089676, 0.04292069375514984, 0.04285244271159172, 0.042784906923770905, 0.0427180640399456, 0.04265191778540611, 0.04258647933602333, 0.04252170771360397, 0.04245759919285774, 0.04239419847726822, 0.04233145713806152, 0.04226936772465706, 0.04220792278647423, 0.042147137224674225, 0.042086947709321976, 0.04202740266919136, 0.041968461126089096, 0.04191012308001518, 0.04185241088271141, 0.041795287281274796, 0.04173874482512474, 0.04168277606368065, 0.041627395898103714, 0.04157256707549095, 0.04151831939816475, 0.041464611887931824, 0.041411470621824265, 0.04135885089635849, 0.041306789964437485, 0.04125523194670677, 0.041204214096069336, 0.04115373641252518, 0.041103728115558624, 0.04105423763394356, 0.04100526496767998, 0.040956761687994, 0.04090876504778862, 0.04086128622293472, 0.04081430658698082, 0.04076781123876572, 0.04072178527712822, 0.04067625477910042, 0.04063117131590843, 0.040586549788713455, 0.04054238647222519, 0.04049863666296005, 0.040455352514982224, 0.04041248932480812, 0.04037005454301834, 0.04032803699374199, 0.04028641805052757, 0.04024524241685867, 0.04020446166396141, 0.040164075791835785, 0.0401240698993206, 0.040084466338157654, 0.04004525765776634, 0.04000641778111458, 0.039967961609363556, 0.0399295911192894, 0.03989098593592644, 0.03985266759991646, 0.03981461748480797, 0.03977688029408455, 0.039739444851875305, 0.039702318608760834, 0.03966551274061203, 0.039629016071558, 0.03959283605217934, 0.03955698758363724, 0.0395214669406414, 0.03948625549674034, 0.03945137932896614, 0.039416830986738205, 0.03938261792063713, 0.03934870660305023, 0.0393151231110096, 0.039281852543354034, 0.03924889117479324, 0.039216261357069016, 0.03918393328785896, 0.039151933044195175, 0.03912022337317467, 0.039088837802410126, 0.039057716727256775, 0.03902691602706909, 0.03899640589952469, 0.038966186344623566, 0.03893624618649483, 0.038906585425138474, 0.0388772077858448, 0.038848139345645905, 0.0388193316757679, 0.03879079967737198, 0.03876251354813576, 0.038734495639801025, 0.03870673477649689, 0.03867921605706215, 0.03865193575620651, 0.03862489387392998, 0.038598086684942245, 0.038571517914533615, 0.03854517638683319, 0.038519058376550674, 0.03849314898252487, 0.03846746310591698, 0.0384419821202755, 0.03841672092676163, 0.03839165344834328, 0.038366805762052536, 0.03834213316440582, 0.03831767290830612, 0.03829341381788254, 0.038269318640232086, 0.03824540227651596, 0.03822169825434685, 0.03819815069437027, 0.038174767047166824, 0.038151588290929794, 0.0381285697221756, 0.038105711340904236, 0.03808301314711571, 0.038060467690229416, 0.038038089871406555, 0.03801589831709862, 0.03799382224678993, 0.037971895188093185, 0.03795013576745987, 0.037928506731987, 0.03790699690580368, 0.037885647267103195, 0.03786444664001465, 0.037843380123376846, 0.037822429090738297, 0.03780162334442139, 0.03778093308210373, 0.037760358303785324, 0.03773992508649826, 0.03771958127617836, 0.0376993753015995, 0.03767929598689079, 0.03765932843089104, 0.03763945773243904, 0.037619706243276596, 0.03760005533695221, 0.03758051246404648, 0.03756106644868851, 0.037541721016168594, 0.03752246871590614, 0.03750330209732056, 0.03748422488570213, 0.03746523708105087, 0.03744634613394737, 0.03742752969264984, 0.03740879148244858, 0.037390146404504776, 0.03737156465649605, 0.037353064864873886, 0.037334639579057693, 0.03731625899672508, 0.03729797527194023, 0.03727976232767105, 0.03726159408688545, 0.037243474274873734, 0.03722544014453888, 0.037207476794719696, 0.03718957677483559, 0.03717171773314476, 0.03715389966964722, 0.037136148661375046, 0.037118442356586456, 0.03710078448057175, 0.037083156406879425, 0.03706560283899307, 0.0370480902493, 0.03703063726425171, 0.037013255059719086, 0.03699590265750885, 0.0369785875082016, 0.03696130961179733, 0.03694404661655426, 0.03692682832479477, 0.03690965101122856, 0.03689248859882355, 0.03687532991170883, 0.036858223378658295, 0.03684113919734955, 0.0368240587413311, 0.03680700063705444, 0.036789946258068085, 0.03677293285727501, 0.03675591200590134, 0.03673890605568886, 0.036721911281347275, 0.036704909056425095, 0.0366879440844059, 0.036670975387096405, 0.0366540402173996, 0.0366370789706707, 0.03662015125155449, 0.036603204905986786, 0.03658626228570938, 0.03656931221485138, 0.03655233606696129, 0.03653537482023239, 0.03651841729879379, 0.03650142252445221, 0.03648441284894943, 0.03646739572286606, 0.03645036369562149, 0.036433298140764236, 0.03641623258590698, 0.036399152129888535, 0.0363820418715477, 0.03636493161320686, 0.036347802728414536, 0.03633064404129982, 0.03631345555186272, 0.03629641234874725, 0.03627956658601761, 0.03626270964741707, 0.03624582663178444, 0.03622891381382942, 0.03621198609471321, 0.03619501367211342, 0.03617801144719124, 0.036160971969366074, 0.036143891513347626, 0.036126758903265, 0.03610961511731148, 0.03609241172671318, 0.036075178533792496, 0.03605789691209793, 0.036040544509887695, 0.03602317348122597, 0.036005739122629166, 0.035988256335258484, 0.03597073256969452, 0.03595317155122757, 0.03593558073043823, 0.03591793403029442, 0.03590025380253792, 0.03588248789310455, 0.0358646959066391, 0.035846829414367676, 0.03582889214158058, 0.035810913890600204, 0.03579284995794296, 0.03577476739883423, 0.03575659170746803, 0.035738371312618256, 0.0357201062142849, 0.035701971501111984, 0.035683806985616684, 0.03566557914018631, 0.03564729914069176, 0.03562898188829422, 0.03561060130596161, 0.035592153668403625, 0.035573702305555344, 0.03555519878864288, 0.03553662449121475, 0.03551799803972244, 0.03549931198358536, 0.035480547696352005, 0.035461727529764175, 0.03544282913208008, 0.035423874855041504, 0.03540485352277756, 0.035385746508836746, 0.03536659851670265, 0.035347361117601395, 0.03532804548740387, 0.03530866652727127, 0.035289216786623, 0.03526969254016876, 0.03525010123848915, 0.03523043543100357, 0.035210687667131424, 0.035190872848033905, 0.035170990973711014, 0.035151027143001556, 0.03513098508119583, 0.03511087968945503, 0.03509069234132767, 0.03507043048739433, 0.035050101578235626, 0.03502969071269035, 0.0350092314183712, 0.034988705068826675, 0.03496808931231499, 0.034947432577610016, 0.034926678985357285, 0.03490584343671799, 0.03488493710756302, 0.03486396372318268, 0.034842949360609055, 0.03482181951403618, 0.034800633788108826, 0.034779369831085205, 0.034758053719997406, 0.03473665937781334, 0.034715183079242706, 0.03469365835189819, 0.03467204421758652, 0.03465039283037186, 0.03462863340973854, 0.03460681810975075, 0.03458495810627937, 0.03456299006938934, 0.03454100713133812, 0.034518931061029434, 0.034496791660785675, 0.03447457402944565, 0.03445233032107353, 0.03443001210689545, 0.03440762683749199, 0.03438517823815346, 0.03436267748475075, 0.03434012085199356, 0.0343175083398819, 0.03429482504725456, 0.03427208960056305, 0.034249309450387955, 0.03422647714614868, 0.03420359268784523, 0.0341806523501873, 0.03415767848491669, 0.0341346375644207, 0.03411140665411949, 0.03408786281943321, 0.03406423702836037, 0.03404049202799797, 0.03401670604944229, 0.03399282693862915, 0.03396887704730034, 0.033944860100746155, 0.0339207798242569, 0.03389664366841316, 0.03387243300676346, 0.03384818881750107, 0.0338238961994648, 0.033799540251493454, 0.03377514332532883, 0.03375072404742241, 0.03372624143958092, 0.033701762557029724, 0.03367720916867256, 0.033652666956186295, 0.03362805023789406, 0.03360343351960182, 0.033578578382730484, 0.03355367109179497, 0.033528704196214676, 0.03350372985005379, 0.033478688448667526, 0.03345365449786186, 0.03342856839299202, 0.033403489738702774, 0.03337837755680084, 0.03335324302315712, 0.0333281047642231, 0.033302947878837585, 0.03327781707048416, 0.03325266018509865, 0.03322750702500343, 0.03320235386490822, 0.0331772081553936, 0.03315206244587898, 0.03312695026397705, 0.03310181945562363, 0.03307671844959259, 0.033051636070013046, 0.033026572316884995, 0.033001530915498734, 0.03297651186585426, 0.032951515167951584, 0.032926544547080994, 0.03290161117911339, 0.032876648008823395, 0.03285174071788788, 0.03282686322927475, 0.03280210494995117, 0.0327775813639164, 0.03275313600897789, 0.032728713005781174, 0.03270438686013222, 0.032680097967386246, 0.03265587240457535, 0.03263170272111893, 0.032607581466436386, 0.03258354216814041, 0.03255954384803772, 0.03253559768199921, 0.03251171484589577, 0.03248791769146919, 0.0324641577899456, 0.032440461218357086, 0.032416846603155136, 0.03239329159259796, 0.03236979618668556, 0.03234637528657913, 0.032322999089956284, 0.03229970484972, 0.03227647393941879, 0.03225331753492355, 0.03223023936152458, 0.03220723196864128, 0.03218428045511246, 0.0321614071726799, 0.03213861957192421, 0.03211589902639389, 0.03209324926137924, 0.03207068517804146, 0.03204819932579994, 0.0320257768034935, 0.03200343996286392, 0.031981177628040314, 0.03195900470018387, 0.031936902552843094, 0.03191487863659859, 0.03189294412732124, 0.03187107294797897, 0.03184930980205536, 0.031827617436647415, 0.03180600702762604, 0.03178447112441063, 0.03176303580403328, 0.03174168989062309, 0.03172040358185768, 0.031699229031801224, 0.031678132712841034, 0.031657103449106216, 0.03163617476820946, 0.03161533921957016, 0.03159457817673683, 0.03157390281558037, 0.031553320586681366, 0.03153281658887863, 0.03151239454746246, 0.03149208799004555, 0.03147183358669281, 0.031451694667339325, 0.03143153339624405, 0.03141101822257042, 0.031390540301799774, 0.03137010708451271, 0.031349726021289825, 0.031329382210969925, 0.03128676861524582, 0.03121030703186989, 0.031109804287552834, 0.03098919428884983, 0.030850593000650406, 0.030697377398610115, 0.03053247556090355, 0.03035872057080269, 0.030215024948120117, 0.030072249472141266, 0.029930340126156807, 0.029789302498102188, 0.029649021103978157, 0.02951156161725521, 0.029378391802310944, 0.02924715168774128, 0.029118336737155914, 0.028992054983973503, 0.028868691995739937, 0.02874867431819439, 0.028773656114935875, 0.028835207223892212, 0.02882487140595913, 0.028755705803632736, 0.028639495372772217, 0.028484338894486427, 0.028453856706619263, 0.02846330776810646, 0.02845977619290352, 0.0284445621073246, 0.028414003551006317, 0.028364310041069984, 0.028297411277890205, 0.02822091057896614, 0.02814268320798874, 0.028066139668226242, 0.027990778908133507, 0.027919577434659004, 0.027914810925722122, 0.027844034135341644, 0.02782272920012474, 0.027801228687167168, 0.027773529291152954, 0.027740590274333954, 0.027702374383807182, 0.027658803388476372, 0.027610503137111664, 0.02755868062376976, 0.02750450000166893, 0.027448462322354317, 0.02748459205031395, 0.02744390442967415, 0.02733265794813633, 0.027329742908477783, 0.027321424335241318, 0.02730492874979973, 0.027281589806079865, 0.02725251205265522, 0.027217287570238113, 0.027175046503543854, 0.027126338332891464, 0.02707349881529808, 0.027019072324037552, 0.026964370161294937, 0.026909517124295235, 0.026979345828294754, 0.026962580159306526, 0.02686464414000511, 0.02679830975830555, 0.026788735762238503, 0.026773205026984215, 0.026753049343824387, 0.02672862820327282, 0.02669922262430191, 0.02666454389691353, 0.026625467464327812, 0.02658366970717907, 0.02654055878520012, 0.026496388018131256, 0.02645180933177471, 0.026446539908647537, 0.026411885395646095, 0.026363350450992584, 0.026346782222390175, 0.026326267048716545, 0.026301970705389977, 0.026274291798472404, 0.026243487372994423, 0.026209812611341476, 0.026173723861575127, 0.026135925203561783, 0.026125119999051094, 0.026075826957821846, 0.026051828637719154, 0.026024432852864265, 0.026008207350969315, 0.02598024345934391, 0.025962652638554573, 0.025941770523786545, 0.025917956605553627, 0.0258913803845644, 0.025862278416752815, 0.025831159204244614, 0.02579873614013195, 0.025807742029428482, 0.02574869431555271, 0.025729244574904442, 0.025706490501761436, 0.02568095549941063, 0.025653965771198273, 0.025659004226326942, 0.02561303973197937, 0.0255971010774374, 0.02557862177491188, 0.02555777318775654, 0.02553469128906727, 0.025509625673294067, 0.02548297867178917, 0.025455227121710777, 0.025456441566348076, 0.025412555783987045, 0.02539632096886635, 0.025377802550792694, 0.02535710297524929, 0.02533462643623352, 0.025310849770903587, 0.025286097079515457, 0.02529158629477024, 0.025248205289244652, 0.025234252214431763, 0.025218278169631958, 0.02520001493394375, 0.025179684162139893, 0.02515796571969986, 0.025135308504104614, 0.02511187270283699, 0.02509048767387867, 0.02507600747048855, 0.02506318688392639, 0.02504858188331127, 0.02503170445561409, 0.025012824684381485, 0.02499263919889927, 0.024971742182970047, 0.024950163438916206, 0.02492779865860939, 0.024907046929001808, 0.024893801659345627, 0.024882322177290916, 0.024868573993444443, 0.0248528141528368, 0.024835500866174698, 0.024817340075969696, 0.02479846216738224, 0.024778634309768677, 0.024757828563451767, 0.0247364342212677, 0.024739451706409454, 0.024705788120627403, 0.02469552680850029, 0.02468285895884037, 0.024667905643582344, 0.024651914834976196, 0.024635622277855873, 0.02461879700422287, 0.02460075356066227, 0.024581508710980415, 0.024561820551753044, 0.024549853056669235, 0.024534933269023895, 0.024526195600628853, 0.024514736607670784, 0.024501079693436623, 0.024486763402819633, 0.024472413584589958, 0.02445737086236477, 0.02444082871079445, 0.0244230218231678, 0.02440493367612362, 0.02438725158572197, 0.024369774386286736, 0.024376224726438522, 0.02434414252638817, 0.02433464303612709, 0.024323752149939537, 0.024312229827046394, 0.024300310760736465, 0.02428748458623886, 0.024273309856653214, 0.024258064106106758, 0.02424236200749874, 0.024226630106568336, 0.02421075850725174, 0.024194544181227684, 0.024178024381399155, 0.02420974150300026, 0.024154240265488625, 0.024146178737282753, 0.024137252941727638, 0.024127406999468803, 0.024116655811667442, 0.0241050086915493, 0.02409251593053341, 0.024079252034425735, 0.024065392091870308, 0.024051133543252945, 0.024036657065153122, 0.024022333323955536, 0.02400732971727848, 0.023992646485567093, 0.024010878056287766, 0.023971501737833023, 0.023964768275618553, 0.023957258090376854, 0.0239486712962389, 0.0239391066133976, 0.023928826674818993, 0.0239179078489542, 0.023906202986836433, 0.02389371022582054, 0.023880677297711372, 0.02386745810508728, 0.023854197934269905, 0.023840870708227158, 0.023827463388442993, 0.023814011365175247, 0.023800643160939217, 0.023822136223316193, 0.023781267926096916, 0.023774994537234306, 0.02376837469637394, 0.023761102929711342, 0.023753074929118156, 0.023744234815239906, 0.023734625428915024, 0.023724233731627464, 0.02371317707002163, 0.023701608180999756, 0.023689718917012215, 0.02367766946554184, 0.023665564134716988, 0.023653479292988777, 0.02364172600209713, 0.023629477247595787, 0.023617632687091827, 0.02360580675303936, 0.023644812405109406, 0.023588428273797035, 0.02358343079686165, 0.023577969521284103, 0.023571547120809555, 0.023564398288726807, 0.02355688065290451, 0.02354886755347252, 0.023539941757917404, 0.023530052974820137, 0.023519549518823624, 0.02350953407585621, 0.023499073460698128, 0.023487834259867668, 0.02347690612077713, 0.023466352373361588, 0.023455752059817314, 0.02344503253698349, 0.023434335365891457, 0.023423759266734123, 0.023413274437189102, 0.02344748191535473, 0.02339838817715645, 0.023393969982862473, 0.02338905818760395, 0.023383816704154015, 0.02337830141186714, 0.023372240364551544, 0.023365188390016556, 0.023357074707746506, 0.023348243907094002, 0.023339059203863144, 0.023329710587859154, 0.023320121690630913, 0.023310357704758644, 0.02330111339688301, 0.023291561752557755, 0.023282093927264214, 0.023272907361388206, 0.02326325885951519, 0.02325361594557762, 0.023243984207510948, 0.02323462814092636]\n",
      "[1.177942156791687, 1.151333212852478, 1.1260240077972412, 1.101950764656067, 1.0793625116348267, 1.0577467679977417, 1.0364311933517456, 1.0150038003921509, 0.9934380650520325, 0.9715421795845032, 0.9492363333702087, 0.9262121915817261, 0.9022755026817322, 0.877799928188324, 0.8532233834266663, 0.8284823894500732, 0.8036306500434875, 0.7787351608276367, 0.7537094354629517, 0.7291866540908813, 0.7047830820083618, 0.6813046336174011, 0.6585376858711243, 0.63676518201828, 0.6163806915283203, 0.5974066257476807, 0.5798437595367432, 0.5635493993759155, 0.5483787059783936, 0.5341503024101257, 0.5207366347312927, 0.5079455971717834, 0.4955231249332428, 0.4834340810775757, 0.4716681241989136, 0.460205078125, 0.44905173778533936, 0.4381585121154785, 0.427604615688324, 0.4171890616416931, 0.40698114037513733, 0.39706847071647644, 0.38751736283302307, 0.3783378601074219, 0.36952638626098633, 0.36111268401145935, 0.3530701994895935, 0.34539663791656494, 0.33802908658981323, 0.33105677366256714, 0.324468195438385, 0.31819257140159607, 0.3122904896736145, 0.3066934049129486, 0.3013952076435089, 0.2965126037597656, 0.29184433817863464, 0.28732308745384216, 0.28288695216178894, 0.27845868468284607, 0.27402400970458984, 0.2695476710796356, 0.2650243937969208, 0.2604576647281647, 0.25586217641830444, 0.25110766291618347, 0.24624469876289368, 0.24143171310424805, 0.23669490218162537, 0.23207661509513855, 0.2275964319705963, 0.22321811318397522, 0.21894648671150208, 0.21478183567523956, 0.21072199940681458, 0.20676308870315552, 0.20285646617412567, 0.19901375472545624, 0.1952637881040573, 0.19160111248493195, 0.18802019953727722, 0.18451668322086334, 0.18108722567558289, 0.1777297407388687, 0.174443781375885, 0.1712290346622467, 0.16808615624904633, 0.1650151163339615, 0.1620289385318756, 0.15914365649223328, 0.15635690093040466, 0.1536664068698883, 0.15106958150863647, 0.14857469499111176, 0.14616340398788452, 0.1438337117433548, 0.14158377051353455, 0.13942815363407135, 0.13736370205879211, 0.13538692891597748, 0.13339468836784363, 0.13139502704143524, 0.1294633150100708, 0.12759996950626373, 0.12579870223999023, 0.12406683713197708, 0.12238619476556778, 0.1207503229379654, 0.11915719509124756, 0.11760500073432922, 0.11609821766614914, 0.11463554203510284, 0.11320711672306061, 0.1118130162358284, 0.11045233905315399, 0.10912471264600754, 0.1078297346830368, 0.10656730085611343, 0.1053377240896225, 0.10413847863674164, 0.10296951234340668, 0.10183066874742508, 0.10072211176156998, 0.09964386373758316, 0.09857772290706635, 0.09752258658409119, 0.09649966657161713, 0.09551714360713959, 0.09456843882799149, 0.09364994615316391, 0.09276151657104492, 0.0919022485613823, 0.09107127785682678, 0.09026853740215302, 0.08949533849954605, 0.08874717354774475, 0.08802368491888046, 0.08732383698225021, 0.08664720505475998, 0.08599204570055008, 0.08535674959421158, 0.08474015444517136, 0.08414123952388763, 0.08355890214443207, 0.08299222588539124, 0.08244030922651291, 0.08190255612134933, 0.08137813955545425, 0.08086641132831573, 0.08036632835865021, 0.0798773318529129, 0.07939895987510681, 0.07893075048923492, 0.07847224175930023, 0.07802299410104752, 0.07758266478776932, 0.07715079933404922, 0.07672710716724396, 0.07631120085716248, 0.07590284198522568, 0.07550177723169327, 0.07510644942522049, 0.0747172012925148, 0.07433411478996277, 0.07395710051059723, 0.0735861212015152, 0.07322121411561966, 0.07286237180233002, 0.07250956445932388, 0.07216423004865646, 0.07182599604129791, 0.07149481773376465, 0.07117073237895966, 0.07085377722978592, 0.07054375857114792, 0.07024066150188446, 0.06994430720806122, 0.06965447962284088, 0.069370798766613, 0.06909286975860596, 0.0688202753663063, 0.06855372339487076, 0.0682913288474083, 0.06803546100854874, 0.06778834760189056, 0.06754382699728012, 0.06730157881975174, 0.06706330180168152, 0.06682847440242767, 0.06659670174121857, 0.06636755168437958, 0.0661410465836525, 0.06591755896806717, 0.06569581478834152, 0.06547589600086212, 0.06525788456201553, 0.06504197418689728, 0.06482833623886108, 0.06461717188358307, 0.06440874934196472, 0.0642031729221344, 0.06400052458047867, 0.06380092352628708, 0.06360433995723724, 0.06341070681810379, 0.06321998685598373, 0.06303200125694275, 0.06284667551517487, 0.06266380101442337, 0.062483277171850204, 0.062304992228746414, 0.06212915852665901, 0.06195569410920143, 0.06178448349237442, 0.06161538138985634, 0.06144827976822853, 0.06128218397498131, 0.06111712008714676, 0.06095326691865921, 0.06079068407416344, 0.060629524290561676, 0.0604698583483696, 0.06031174585223198, 0.06015508249402046, 0.06001425161957741, 0.05989072471857071, 0.05976760759949684, 0.05964523181319237, 0.059523776173591614, 0.05940340831875801, 0.059284307062625885, 0.05916653946042061, 0.05905020609498024, 0.058935388922691345, 0.05882207304239273, 0.05871039628982544, 0.0586002953350544, 0.058491867035627365, 0.058385081589221954, 0.05828004702925682, 0.058176763355731964, 0.05809182673692703, 0.058016255497932434, 0.057942721992731094, 0.05787130817770958, 0.05780196189880371, 0.05773467943072319, 0.05766947939991951, 0.057606276124715805, 0.05754510313272476, 0.0574859194457531, 0.05742872878909111, 0.05737346038222313, 0.057320091873407364, 0.05726863443851471, 0.05721184238791466, 0.05715431645512581, 0.05709872394800186, 0.05704498291015625, 0.05699305236339569, 0.05694286897778511, 0.056894395500421524, 0.05684752017259598, 0.05680225417017937, 0.056758470833301544, 0.05671609565615654, 0.056675102561712265, 0.05663541704416275, 0.05659695714712143, 0.05655968561768532, 0.05652362480759621, 0.05648862570524216, 0.05645470321178436, 0.05642179399728775, 0.056389860808849335, 0.05635889992117882, 0.05632885545492172, 0.05629969760775566, 0.056271377950906754, 0.056243862956762314, 0.05621704086661339, 0.05619096755981445, 0.056165583431720734, 0.05614083632826805, 0.05611671507358551, 0.05609315633773804, 0.05607016757130623, 0.056047748774290085, 0.05602584779262543, 0.056004468351602554, 0.055983591824769974, 0.05596322566270828, 0.05594338849186897, 0.055924009531736374, 0.055905114859342575, 0.055886685848236084, 0.0558687262237072, 0.05585116147994995, 0.05583404377102852, 0.05581727251410484, 0.05580088868737221, 0.05578482896089554, 0.055769097059965134, 0.05575373023748398, 0.0557386614382267, 0.05572391673922539, 0.055709462612867355, 0.055695854127407074, 0.05568281188607216, 0.055670008063316345, 0.05565745756030083, 0.05564514175057411, 0.055633071810007095, 0.055621225386857986, 0.0556095652282238, 0.055598124861717224, 0.055586859583854675, 0.05557580292224884, 0.05556488409638405, 0.05555412918329239, 0.055543530732393265, 0.05553542077541351, 0.055529508739709854, 0.05552556365728378, 0.0555233433842659, 0.055522527545690536, 0.05552297085523605, 0.055524490773677826, 0.0555269792675972, 0.05553032085299492, 0.05553455278277397, 0.055539678782224655, 0.05554571375250816, 0.05555269494652748, 0.055560655891895294, 0.055569641292095184, 0.055579569190740585, 0.05559039115905762, 0.05560200288891792, 0.05561428144574165, 0.055627111345529556, 0.055640313774347305, 0.055653803050518036, 0.055667389184236526, 0.05568099021911621, 0.055694565176963806, 0.05570804700255394, 0.055721402168273926, 0.05573461577296257, 0.05574766919016838, 0.055760595947504044, 0.05577336251735687, 0.05578594654798508, 0.05579762905836105, 0.05580926686525345, 0.05582089722156525, 0.0558316707611084, 0.055841635912656784, 0.055850815027952194, 0.055859219282865524, 0.05586688220500946, 0.05587392300367355, 0.05588029325008392, 0.055886026471853256, 0.05589120462536812, 0.0558958575129509, 0.05589999258518219, 0.05590365454554558, 0.05590691789984703, 0.055909790098667145, 0.055912308394908905, 0.055914506316185, 0.055916376411914825, 0.05591794103384018, 0.05591926723718643, 0.055920325219631195, 0.05592108145356178, 0.0559215173125267, 0.055921971797943115, 0.05592260882258415, 0.055922981351614, 0.05592309683561325, 0.055922988802194595, 0.05592258274555206, 0.055921975523233414, 0.05592111870646477, 0.05592003092169762, 0.055918700993061066, 0.0559171587228775, 0.055915407836437225, 0.055913377553224564, 0.05591120198369026, 0.05590878799557686, 0.05590619146823883, 0.05590337887406349, 0.055900391191244125, 0.05589720234274864, 0.05589389428496361, 0.05589038506150246, 0.05588673800230026, 0.055882930755615234, 0.05587967485189438, 0.05587691068649292, 0.0558745414018631, 0.055872440338134766, 0.05587058141827583, 0.05586886405944824, 0.055867183953523636, 0.0558655671775341, 0.05586400255560875, 0.055862411856651306, 0.05586088448762894, 0.05585935339331627, 0.055857907980680466, 0.05585651844739914, 0.0558551549911499, 0.05585385113954544, 0.05585253983736038, 0.05585123971104622, 0.05584992468357086, 0.055848557502031326, 0.05584711581468582, 0.05584559217095375, 0.05584399029612541, 0.0558423213660717, 0.055840615183115005, 0.05583888292312622, 0.05583710968494415, 0.055835384875535965, 0.05583370476961136, 0.05583206191658974, 0.055830467492341995, 0.055828988552093506, 0.05582752451300621, 0.05582616850733757, 0.05582484230399132, 0.05582357943058014, 0.05582237243652344, 0.05582118406891823, 0.055820051580667496, 0.055819008499383926, 0.05581803619861603, 0.05581715330481529, 0.0558164119720459, 0.055815741419792175, 0.05581551417708397, 0.055815525352954865, 0.055815692991018295, 0.05581599846482277, 0.05581646040081978, 0.05581704154610634, 0.055817801505327225, 0.055818721652030945, 0.055819787085056305, 0.0558210164308548, 0.05582244694232941, 0.05582404509186745, 0.055825866758823395, 0.05582861974835396, 0.05583216995000839, 0.05583643913269043, 0.05584137886762619, 0.05584688112139702, 0.055852871388196945, 0.05585922300815582, 0.05586604028940201, 0.05587310716509819, 0.05588051304221153, 0.05588821694254875, 0.05589628219604492, 0.055904585868120193, 0.055913206189870834, 0.05592210218310356, 0.05593128502368927, 0.05594071000814438, 0.05595038831233978, 0.05596021190285683, 0.055970218032598495, 0.055980384349823, 0.05599071457982063, 0.056001365184783936, 0.0560123436152935, 0.056023623794317245, 0.056035205721855164, 0.05604710057377815, 0.05605928599834442, 0.056071795523166656, 0.056084536015987396, 0.056097570806741714, 0.05611085519194603, 0.05612436309456825, 0.05613820627331734, 0.0561523362994194, 0.05616680160164833, 0.05618162080645561, 0.05619692802429199, 0.05621260032057762, 0.05622880160808563, 0.056245505809783936, 0.05626269057393074, 0.056280482560396194, 0.056298863142728806, 0.05631780996918678, 0.05633733421564102, 0.05635743960738182, 0.0563780851662159, 0.05639934912323952, 0.056421201676130295, 0.056443654000759125, 0.05646674335002899, 0.05649041384458542, 0.05651473253965378, 0.056539688259363174, 0.056565217673778534, 0.05659126862883568, 0.05661790445446968, 0.05664506182074547, 0.05667274817824364, 0.0567009411752224, 0.05672964081168175, 0.05675889179110527, 0.05678843706846237, 0.05681817978620529, 0.05684793367981911, 0.05687754601240158, 0.056906770914793015, 0.056935589760541916, 0.05696403235197067, 0.05699219927191734, 0.05702025443315506, 0.0570484958589077, 0.057077281177043915, 0.05710668861865997, 0.05713696777820587, 0.057168181985616684, 0.057200390845537186, 0.057233452796936035, 0.057267289608716965, 0.05730179697275162, 0.05733693763613701, 0.057372648268938065, 0.057408854365348816, 0.0574457049369812, 0.05748328939080238, 0.05752170458436012, 0.05756107345223427, 0.0576014369726181, 0.05764294043183327, 0.057685550302267075, 0.057729147374629974, 0.05777370557188988, 0.057819195091724396, 0.05786546319723129, 0.05791240930557251, 0.057960089296102524, 0.058008406311273575, 0.05805744603276253, 0.05810721963644028, 0.058157823979854584, 0.058209218084812164, 0.05826147645711899, 0.05831458792090416, 0.05836855620145798, 0.0584232434630394, 0.05847876891493797, 0.058534979820251465, 0.05859190598130226, 0.05864940211176872, 0.0587075799703598, 0.05876635015010834, 0.0588257871568203, 0.058886025100946426, 0.05894690752029419, 0.05900857225060463, 0.05907099321484566, 0.059134211391210556, 0.05919814109802246, 0.05926281586289406, 0.05932820215821266, 0.059394318610429764, 0.0594610758125782, 0.059528566896915436, 0.0595967136323452, 0.05966554209589958, 0.0597352460026741, 0.059805676341056824, 0.05987687036395073, 0.059948865324258804, 0.0600215308368206, 0.06009497866034508, 0.060169171541929245, 0.06024143472313881, 0.060312334448099136, 0.060382548719644547, 0.060452744364738464, 0.06052348390221596, 0.06059502437710762, 0.0606674998998642, 0.06074066832661629, 0.060814302414655685, 0.06088784709572792, 0.060961026698350906, 0.06103358045220375, 0.06110551208257675, 0.06117691099643707, 0.06127575784921646, 0.061376556754112244, 0.061478033661842346, 0.06158049404621124, 0.061684031039476395, 0.06178874522447586, 0.061894383281469345, 0.06200089305639267, 0.06210809946060181, 0.06221584230661392, 0.06232410669326782, 0.062432851642370224, 0.06254225224256516, 0.06265262514352798, 0.06276405602693558, 0.0628768727183342, 0.06299112737178802, 0.06310698390007019, 0.06322430819272995, 0.06334304809570312, 0.06346303969621658, 0.06358414143323898, 0.06370628625154495, 0.06382939219474792, 0.06395348906517029, 0.06407864391803741, 0.06420493870973587, 0.06433239579200745, 0.06446105986833572, 0.0645909383893013, 0.06474754214286804, 0.06494378298521042, 0.06514117866754532, 0.06533969193696976, 0.0655391737818718, 0.06573961675167084, 0.06594099849462509, 0.06614328920841217, 0.06634649634361267, 0.06655097752809525, 0.06675652414560318, 0.06696288287639618, 0.06716977804899216, 0.06737697124481201, 0.06758428364992142, 0.06779178977012634, 0.06799956411123276, 0.06820782274007797, 0.06841686367988586, 0.06862688064575195, 0.0688379555940628, 0.06905004382133484, 0.06926313787698746, 0.06947699189186096, 0.06969145685434341, 0.06990645080804825, 0.07012183964252472, 0.07033757120370865, 0.07055377215147018, 0.07077043503522873, 0.07098782807588577, 0.07120589166879654, 0.07142474502325058, 0.07164429128170013, 0.07186440378427505, 0.07208364456892014, 0.07229502499103546, 0.07250666618347168, 0.07271835952997208, 0.07293020933866501, 0.07314224541187286, 0.07335446029901505, 0.07356688380241394, 0.0737796202301979, 0.07399269938468933, 0.07420598715543747, 0.07441946864128113, 0.07463305443525314, 0.0748467817902565, 0.07506050914525986, 0.07527420669794083, 0.07548807561397552, 0.07570197433233261, 0.07591596245765686, 0.07613010704517365, 0.07634441554546356, 0.07655884325504303, 0.07677333801984787, 0.07698798179626465, 0.07720263302326202, 0.07741726189851761, 0.07763194292783737, 0.07784656435251236, 0.07806124538183212, 0.0782758966088295, 0.07849054038524628, 0.07870528101921082, 0.07892003655433655, 0.07913471758365631, 0.07934941351413727, 0.07956425845623016, 0.0797792375087738, 0.07999423891305923, 0.08020935207605362, 0.08042462915182114, 0.08064018189907074, 0.0808665081858635, 0.08109838515520096, 0.08134905248880386, 0.0816134586930275, 0.08189015835523605, 0.08218321949243546, 0.08250220865011215, 0.0828602984547615, 0.08326219022274017, 0.0837164893746376, 0.08423130214214325, 0.08481260389089584, 0.08546307682991028, 0.08616440743207932, 0.08691652864217758, 0.08771822601556778, 0.08856678754091263, 0.08945664763450623, 0.09037984162569046, 0.09132584184408188, 0.09223818778991699, 0.09310948848724365, 0.09394755959510803, 0.09476708620786667, 0.09557972848415375, 0.09638606011867523, 0.09718725085258484, 0.097914919257164, 0.09848509728908539, 0.09882514178752899, 0.09890299290418625, 0.09874299168586731, 0.09841775894165039, 0.09802229702472687, 0.09764524549245834, 0.09734925627708435, 0.097166046500206, 0.09706611931324005, 0.09704332053661346, 0.09709303081035614, 0.09723666310310364, 0.09744814038276672, 0.09769771248102188, 0.09795965999364853, 0.09821959584951401, 0.09847716242074966, 0.09874402731657028, 0.0990377888083458, 0.09939945489168167, 0.0998304933309555, 0.10025389492511749, 0.10067473351955414, 0.10110946744680405, 0.1015927717089653, 0.10210359841585159, 0.10260400921106339, 0.10304731875658035, 0.10339229553937912, 0.10361706465482712, 0.10372735559940338, 0.10375428199768066, 0.10374371707439423, 0.10374203324317932, 0.10378504544496536, 0.10389246791601181, 0.10402426868677139, 0.10421483963727951, 0.10444250702857971, 0.10474010556936264, 0.10508060455322266, 0.10542474687099457, 0.1057308167219162, 0.10596788674592972, 0.10612557083368301, 0.1062169298529625, 0.1062723770737648, 0.10632896423339844, 0.10641925036907196, 0.10656353831291199, 0.10679566860198975, 0.10706225037574768, 0.10732268542051315, 0.10761112719774246, 0.10791587084531784, 0.10822008550167084, 0.10850534588098526, 0.10875646024942398, 0.10896585136651993, 0.10913538932800293, 0.10927613824605942, 0.10940452665090561, 0.10950373858213425, 0.10963931679725647, 0.10982359945774078, 0.1100517138838768, 0.11027247458696365, 0.11050878465175629, 0.1107407659292221, 0.11094789952039719, 0.11111483722925186, 0.11123694479465485, 0.1113215908408165, 0.11138593405485153, 0.1114516481757164, 0.11150357127189636, 0.11160966753959656, 0.11178015917539597, 0.11200551688671112, 0.11226063221693039, 0.1125137060880661, 0.11270231753587723, 0.11286512017250061, 0.11301007866859436, 0.11314794421195984, 0.11328757554292679, 0.11343362182378769, 0.11358536779880524, 0.11373841017484665, 0.11388760060071945, 0.11399611085653305, 0.11411754041910172, 0.11426203697919846, 0.11443039029836655, 0.11461416631937027, 0.11479934304952621, 0.11497138440608978, 0.11512109637260437, 0.11521409451961517, 0.11531193554401398, 0.11543376743793488, 0.11558721959590912, 0.11576668918132782, 0.11595605313777924, 0.1161351203918457, 0.11628706008195877, 0.1164049431681633, 0.11646444350481033, 0.11652960628271103, 0.11662602424621582, 0.11676476150751114, 0.11694043129682541, 0.11713406443595886, 0.11732073128223419, 0.11747846007347107, 0.11759661883115768, 0.11767931282520294, 0.11771459877490997, 0.11777517944574356, 0.11792101711034775, 0.11811412125825882, 0.11833541840314865, 0.11855573207139969, 0.11874578148126602, 0.11888647824525833, 0.118975430727005, 0.11902736872434616, 0.11906817555427551, 0.11909399181604385, 0.11918004602193832, 0.11934200674295425, 0.11956830322742462, 0.11982554942369461, 0.12006967514753342, 0.12026111036539078, 0.12037887424230576, 0.12042698264122009, 0.12043223530054092, 0.12043321877717972, 0.12043740600347519, 0.1205197274684906, 0.1206919401884079, 0.12093503028154373, 0.1212056502699852, 0.12145198881626129, 0.12163049727678299, 0.12172205001115799, 0.12173691391944885, 0.12171047180891037, 0.12168833613395691, 0.12171114981174469, 0.12180308252573013, 0.12193596363067627, 0.12214663624763489, 0.12241283059120178, 0.12269490212202072, 0.12294860929250717, 0.12313912063837051, 0.12325234711170197, 0.12329844385385513, 0.12330610305070877, 0.12331176549196243, 0.12334718555212021, 0.12343082576990128, 0.12356439977884293, 0.12373504787683487, 0.12388689815998077, 0.12405869364738464, 0.12424387782812119, 0.12443017959594727, 0.12460270524024963, 0.12474837899208069, 0.12485982477664948, 0.12493789941072464, 0.12499095499515533, 0.12503260374069214, 0.12507738173007965, 0.12513718008995056, 0.1252535581588745, 0.12537850439548492, 0.12550373375415802, 0.12559325993061066, 0.1257060468196869, 0.12585587799549103, 0.12604060769081116, 0.12624351680278778, 0.1264386624097824, 0.12659971415996552, 0.12670943140983582, 0.12676583230495453, 0.12678207457065582, 0.12678183615207672, 0.12679141759872437, 0.12683193385601044, 0.12691397964954376, 0.1270364373922348, 0.12718920409679413, 0.1273578256368637, 0.12753157317638397, 0.12771101295948029, 0.12789791822433472, 0.12808915972709656, 0.1282760202884674, 0.12844634056091309, 0.12858790159225464, 0.12869271636009216, 0.12875992059707642, 0.12879639863967896, 0.1288149654865265, 0.12883122265338898, 0.1288592517375946, 0.12890896201133728, 0.12898442149162292, 0.12911993265151978, 0.12926046550273895, 0.1293955147266388, 0.1295236498117447, 0.12961633503437042, 0.12974876165390015, 0.1299394816160202, 0.13018286228179932, 0.1304500699043274, 0.13069948554039001, 0.13089092075824738, 0.1309995800256729, 0.13102473318576813, 0.13098876178264618, 0.13092844188213348, 0.13091754913330078, 0.13096848130226135, 0.13107173144817352, 0.13116751611232758, 0.13124357163906097, 0.13130098581314087, 0.13135309517383575, 0.13141997158527374, 0.13152123987674713, 0.1316685825586319, 0.1318276822566986, 0.13205033540725708, 0.1323256939649582, 0.13262149691581726, 0.1328941136598587, 0.13310270011425018, 0.13322310149669647, 0.13325531780719757, 0.1332220435142517, 0.13315965235233307, 0.13310523331165314, 0.13308599591255188, 0.1331125795841217, 0.1331799030303955, 0.13330866396427155, 0.13346447050571442, 0.13357707858085632, 0.13364194333553314, 0.13368014991283417, 0.13376402854919434, 0.1338776797056198, 0.13403846323490143]\n"
     ]
    }
   ],
   "source": [
    "print(losses_train)\n",
    "print(losses_test)"
   ]
  },
  {
   "cell_type": "code",
   "execution_count": 50,
   "metadata": {},
   "outputs": [
    {
     "data": {
      "image/png": "[encoded data removed]",
      "text/plain": [
       "<Figure size 640x480 with 1 Axes>"
      ]
     },
     "metadata": {},
     "output_type": "display_data"
    }
   ],
   "source": [
    "# Plot loss per epoch\n",
    "plt.plot(range(epochs), losses_train, label='Train Loss')\n",
    "plt.plot(range(epochs), losses_test, label='Test Loss')\n",
    "plt.xlabel(\"Epoch\")\n",
    "plt.ylabel(\"Loss\")\n",
    "plt.title(\"Loss per Epoch\")\n",
    "plt.legend()\n",
    "plt.grid(True)\n",
    "plt.show()"
   ]
  },
  {
   "cell_type": "code",
   "execution_count": null,
   "metadata": {},
   "outputs": [
    {
     "data": {
      "text/plain": [
       "Sequential(\n",
       "  (0): Linear(in_features=4, out_features=16, bias=True)\n",
       "  (1): ReLU()\n",
       "  (2): Linear(in_features=16, out_features=3, bias=True)\n",
       ")"
      ]
     },
     "execution_count": 51,
     "metadata": {},
     "output_type": "execute_result"
    }
   ],
   "source": [
    "# class LRModel2 (nn.Module):\n",
    "#     def __init__(self, input_dim):\n",
    "#         super(LRModel2, self).__init__()\n",
    "#         self.fc1 = nn.Linear(input_dim, 16)\n",
    "#         self.relu = nn.ReLU()\n",
    "#         self.output = nn.Linear(16, 1)\n",
    "        \n",
    "#     def forward(self, x):\n",
    "#         x = self.fc1(x)\n",
    "#         x = self.relu(x)\n",
    "#         x = self.output(x)\n",
    "#         return torch.sigmoid(x)\n",
    "\n",
    "model2 = nn.Sequential(\n",
    "    nn.Linear(input_dim, 16),\n",
    "    nn.ReLU(),\n",
    "    nn.Linear(16, output_dim)\n",
    ")\n",
    "\n",
    "model2"
   ]
  },
  {
   "cell_type": "code",
   "execution_count": 52,
   "metadata": {},
   "outputs": [],
   "source": [
    "# Loss & Optimize\n",
    "\n",
    "criterion = nn.CrossEntropyLoss()\n",
    "optimizer = optim.Adam(model1.parameters(), lr=0.01)"
   ]
  },
  {
   "cell_type": "code",
   "execution_count": 53,
   "metadata": {},
   "outputs": [
    {
     "name": "stdout",
     "output_type": "stream",
     "text": [
      "Epoch : [10/1000] | Loss_train : 1.0461 | Loss_test : 1.0433 | Accuracy_train : 0.3667  | Accuracy Test : 0.4333\n",
      "Epoch : [20/1000] | Loss_train : 1.0461 | Loss_test : 1.0433 | Accuracy_train : 0.3667  | Accuracy Test : 0.4333\n",
      "Epoch : [30/1000] | Loss_train : 1.0461 | Loss_test : 1.0433 | Accuracy_train : 0.3667  | Accuracy Test : 0.4333\n",
      "Epoch : [40/1000] | Loss_train : 1.0461 | Loss_test : 1.0433 | Accuracy_train : 0.3667  | Accuracy Test : 0.4333\n",
      "Epoch : [50/1000] | Loss_train : 1.0461 | Loss_test : 1.0433 | Accuracy_train : 0.3667  | Accuracy Test : 0.4333\n",
      "Epoch : [60/1000] | Loss_train : 1.0461 | Loss_test : 1.0433 | Accuracy_train : 0.3667  | Accuracy Test : 0.4333\n",
      "Epoch : [70/1000] | Loss_train : 1.0461 | Loss_test : 1.0433 | Accuracy_train : 0.3667  | Accuracy Test : 0.4333\n",
      "Epoch : [80/1000] | Loss_train : 1.0461 | Loss_test : 1.0433 | Accuracy_train : 0.3667  | Accuracy Test : 0.4333\n",
      "Epoch : [90/1000] | Loss_train : 1.0461 | Loss_test : 1.0433 | Accuracy_train : 0.3667  | Accuracy Test : 0.4333\n",
      "Epoch : [100/1000] | Loss_train : 1.0461 | Loss_test : 1.0433 | Accuracy_train : 0.3667  | Accuracy Test : 0.4333\n",
      "Epoch : [110/1000] | Loss_train : 1.0461 | Loss_test : 1.0433 | Accuracy_train : 0.3667  | Accuracy Test : 0.4333\n",
      "Epoch : [120/1000] | Loss_train : 1.0461 | Loss_test : 1.0433 | Accuracy_train : 0.3667  | Accuracy Test : 0.4333\n",
      "Epoch : [130/1000] | Loss_train : 1.0461 | Loss_test : 1.0433 | Accuracy_train : 0.3667  | Accuracy Test : 0.4333\n",
      "Epoch : [140/1000] | Loss_train : 1.0461 | Loss_test : 1.0433 | Accuracy_train : 0.3667  | Accuracy Test : 0.4333\n",
      "Epoch : [150/1000] | Loss_train : 1.0461 | Loss_test : 1.0433 | Accuracy_train : 0.3667  | Accuracy Test : 0.4333\n",
      "Epoch : [160/1000] | Loss_train : 1.0461 | Loss_test : 1.0433 | Accuracy_train : 0.3667  | Accuracy Test : 0.4333\n",
      "Epoch : [170/1000] | Loss_train : 1.0461 | Loss_test : 1.0433 | Accuracy_train : 0.3667  | Accuracy Test : 0.4333\n",
      "Epoch : [180/1000] | Loss_train : 1.0461 | Loss_test : 1.0433 | Accuracy_train : 0.3667  | Accuracy Test : 0.4333\n",
      "Epoch : [190/1000] | Loss_train : 1.0461 | Loss_test : 1.0433 | Accuracy_train : 0.3667  | Accuracy Test : 0.4333\n",
      "Epoch : [200/1000] | Loss_train : 1.0461 | Loss_test : 1.0433 | Accuracy_train : 0.3667  | Accuracy Test : 0.4333\n",
      "Epoch : [210/1000] | Loss_train : 1.0461 | Loss_test : 1.0433 | Accuracy_train : 0.3667  | Accuracy Test : 0.4333\n",
      "Epoch : [220/1000] | Loss_train : 1.0461 | Loss_test : 1.0433 | Accuracy_train : 0.3667  | Accuracy Test : 0.4333\n",
      "Epoch : [230/1000] | Loss_train : 1.0461 | Loss_test : 1.0433 | Accuracy_train : 0.3667  | Accuracy Test : 0.4333\n",
      "Epoch : [240/1000] | Loss_train : 1.0461 | Loss_test : 1.0433 | Accuracy_train : 0.3667  | Accuracy Test : 0.4333\n",
      "Epoch : [250/1000] | Loss_train : 1.0461 | Loss_test : 1.0433 | Accuracy_train : 0.3667  | Accuracy Test : 0.4333\n",
      "Epoch : [260/1000] | Loss_train : 1.0461 | Loss_test : 1.0433 | Accuracy_train : 0.3667  | Accuracy Test : 0.4333\n",
      "Epoch : [270/1000] | Loss_train : 1.0461 | Loss_test : 1.0433 | Accuracy_train : 0.3667  | Accuracy Test : 0.4333\n",
      "Epoch : [280/1000] | Loss_train : 1.0461 | Loss_test : 1.0433 | Accuracy_train : 0.3667  | Accuracy Test : 0.4333\n",
      "Epoch : [290/1000] | Loss_train : 1.0461 | Loss_test : 1.0433 | Accuracy_train : 0.3667  | Accuracy Test : 0.4333\n",
      "Epoch : [300/1000] | Loss_train : 1.0461 | Loss_test : 1.0433 | Accuracy_train : 0.3667  | Accuracy Test : 0.4333\n",
      "Epoch : [310/1000] | Loss_train : 1.0461 | Loss_test : 1.0433 | Accuracy_train : 0.3667  | Accuracy Test : 0.4333\n",
      "Epoch : [320/1000] | Loss_train : 1.0461 | Loss_test : 1.0433 | Accuracy_train : 0.3667  | Accuracy Test : 0.4333\n",
      "Epoch : [330/1000] | Loss_train : 1.0461 | Loss_test : 1.0433 | Accuracy_train : 0.3667  | Accuracy Test : 0.4333\n",
      "Epoch : [340/1000] | Loss_train : 1.0461 | Loss_test : 1.0433 | Accuracy_train : 0.3667  | Accuracy Test : 0.4333\n",
      "Epoch : [350/1000] | Loss_train : 1.0461 | Loss_test : 1.0433 | Accuracy_train : 0.3667  | Accuracy Test : 0.4333\n",
      "Epoch : [360/1000] | Loss_train : 1.0461 | Loss_test : 1.0433 | Accuracy_train : 0.3667  | Accuracy Test : 0.4333\n",
      "Epoch : [370/1000] | Loss_train : 1.0461 | Loss_test : 1.0433 | Accuracy_train : 0.3667  | Accuracy Test : 0.4333\n",
      "Epoch : [380/1000] | Loss_train : 1.0461 | Loss_test : 1.0433 | Accuracy_train : 0.3667  | Accuracy Test : 0.4333\n",
      "Epoch : [390/1000] | Loss_train : 1.0461 | Loss_test : 1.0433 | Accuracy_train : 0.3667  | Accuracy Test : 0.4333\n",
      "Epoch : [400/1000] | Loss_train : 1.0461 | Loss_test : 1.0433 | Accuracy_train : 0.3667  | Accuracy Test : 0.4333\n",
      "Epoch : [410/1000] | Loss_train : 1.0461 | Loss_test : 1.0433 | Accuracy_train : 0.3667  | Accuracy Test : 0.4333\n",
      "Epoch : [420/1000] | Loss_train : 1.0461 | Loss_test : 1.0433 | Accuracy_train : 0.3667  | Accuracy Test : 0.4333\n",
      "Epoch : [430/1000] | Loss_train : 1.0461 | Loss_test : 1.0433 | Accuracy_train : 0.3667  | Accuracy Test : 0.4333\n",
      "Epoch : [440/1000] | Loss_train : 1.0461 | Loss_test : 1.0433 | Accuracy_train : 0.3667  | Accuracy Test : 0.4333\n",
      "Epoch : [450/1000] | Loss_train : 1.0461 | Loss_test : 1.0433 | Accuracy_train : 0.3667  | Accuracy Test : 0.4333\n",
      "Epoch : [460/1000] | Loss_train : 1.0461 | Loss_test : 1.0433 | Accuracy_train : 0.3667  | Accuracy Test : 0.4333\n",
      "Epoch : [470/1000] | Loss_train : 1.0461 | Loss_test : 1.0433 | Accuracy_train : 0.3667  | Accuracy Test : 0.4333\n",
      "Epoch : [480/1000] | Loss_train : 1.0461 | Loss_test : 1.0433 | Accuracy_train : 0.3667  | Accuracy Test : 0.4333\n",
      "Epoch : [490/1000] | Loss_train : 1.0461 | Loss_test : 1.0433 | Accuracy_train : 0.3667  | Accuracy Test : 0.4333\n",
      "Epoch : [500/1000] | Loss_train : 1.0461 | Loss_test : 1.0433 | Accuracy_train : 0.3667  | Accuracy Test : 0.4333\n",
      "Epoch : [510/1000] | Loss_train : 1.0461 | Loss_test : 1.0433 | Accuracy_train : 0.3667  | Accuracy Test : 0.4333\n",
      "Epoch : [520/1000] | Loss_train : 1.0461 | Loss_test : 1.0433 | Accuracy_train : 0.3667  | Accuracy Test : 0.4333\n",
      "Epoch : [530/1000] | Loss_train : 1.0461 | Loss_test : 1.0433 | Accuracy_train : 0.3667  | Accuracy Test : 0.4333\n",
      "Epoch : [540/1000] | Loss_train : 1.0461 | Loss_test : 1.0433 | Accuracy_train : 0.3667  | Accuracy Test : 0.4333\n",
      "Epoch : [550/1000] | Loss_train : 1.0461 | Loss_test : 1.0433 | Accuracy_train : 0.3667  | Accuracy Test : 0.4333\n",
      "Epoch : [560/1000] | Loss_train : 1.0461 | Loss_test : 1.0433 | Accuracy_train : 0.3667  | Accuracy Test : 0.4333\n",
      "Epoch : [570/1000] | Loss_train : 1.0461 | Loss_test : 1.0433 | Accuracy_train : 0.3667  | Accuracy Test : 0.4333\n",
      "Epoch : [580/1000] | Loss_train : 1.0461 | Loss_test : 1.0433 | Accuracy_train : 0.3667  | Accuracy Test : 0.4333\n",
      "Epoch : [590/1000] | Loss_train : 1.0461 | Loss_test : 1.0433 | Accuracy_train : 0.3667  | Accuracy Test : 0.4333\n",
      "Epoch : [600/1000] | Loss_train : 1.0461 | Loss_test : 1.0433 | Accuracy_train : 0.3667  | Accuracy Test : 0.4333\n",
      "Epoch : [610/1000] | Loss_train : 1.0461 | Loss_test : 1.0433 | Accuracy_train : 0.3667  | Accuracy Test : 0.4333\n",
      "Epoch : [620/1000] | Loss_train : 1.0461 | Loss_test : 1.0433 | Accuracy_train : 0.3667  | Accuracy Test : 0.4333\n",
      "Epoch : [630/1000] | Loss_train : 1.0461 | Loss_test : 1.0433 | Accuracy_train : 0.3667  | Accuracy Test : 0.4333\n",
      "Epoch : [640/1000] | Loss_train : 1.0461 | Loss_test : 1.0433 | Accuracy_train : 0.3667  | Accuracy Test : 0.4333\n",
      "Epoch : [650/1000] | Loss_train : 1.0461 | Loss_test : 1.0433 | Accuracy_train : 0.3667  | Accuracy Test : 0.4333\n",
      "Epoch : [660/1000] | Loss_train : 1.0461 | Loss_test : 1.0433 | Accuracy_train : 0.3667  | Accuracy Test : 0.4333\n",
      "Epoch : [670/1000] | Loss_train : 1.0461 | Loss_test : 1.0433 | Accuracy_train : 0.3667  | Accuracy Test : 0.4333\n",
      "Epoch : [680/1000] | Loss_train : 1.0461 | Loss_test : 1.0433 | Accuracy_train : 0.3667  | Accuracy Test : 0.4333\n",
      "Epoch : [690/1000] | Loss_train : 1.0461 | Loss_test : 1.0433 | Accuracy_train : 0.3667  | Accuracy Test : 0.4333\n",
      "Epoch : [700/1000] | Loss_train : 1.0461 | Loss_test : 1.0433 | Accuracy_train : 0.3667  | Accuracy Test : 0.4333\n",
      "Epoch : [710/1000] | Loss_train : 1.0461 | Loss_test : 1.0433 | Accuracy_train : 0.3667  | Accuracy Test : 0.4333\n",
      "Epoch : [720/1000] | Loss_train : 1.0461 | Loss_test : 1.0433 | Accuracy_train : 0.3667  | Accuracy Test : 0.4333\n",
      "Epoch : [730/1000] | Loss_train : 1.0461 | Loss_test : 1.0433 | Accuracy_train : 0.3667  | Accuracy Test : 0.4333\n",
      "Epoch : [740/1000] | Loss_train : 1.0461 | Loss_test : 1.0433 | Accuracy_train : 0.3667  | Accuracy Test : 0.4333\n",
      "Epoch : [750/1000] | Loss_train : 1.0461 | Loss_test : 1.0433 | Accuracy_train : 0.3667  | Accuracy Test : 0.4333\n",
      "Epoch : [760/1000] | Loss_train : 1.0461 | Loss_test : 1.0433 | Accuracy_train : 0.3667  | Accuracy Test : 0.4333\n",
      "Epoch : [770/1000] | Loss_train : 1.0461 | Loss_test : 1.0433 | Accuracy_train : 0.3667  | Accuracy Test : 0.4333\n",
      "Epoch : [780/1000] | Loss_train : 1.0461 | Loss_test : 1.0433 | Accuracy_train : 0.3667  | Accuracy Test : 0.4333\n",
      "Epoch : [790/1000] | Loss_train : 1.0461 | Loss_test : 1.0433 | Accuracy_train : 0.3667  | Accuracy Test : 0.4333\n",
      "Epoch : [800/1000] | Loss_train : 1.0461 | Loss_test : 1.0433 | Accuracy_train : 0.3667  | Accuracy Test : 0.4333\n",
      "Epoch : [810/1000] | Loss_train : 1.0461 | Loss_test : 1.0433 | Accuracy_train : 0.3667  | Accuracy Test : 0.4333\n",
      "Epoch : [820/1000] | Loss_train : 1.0461 | Loss_test : 1.0433 | Accuracy_train : 0.3667  | Accuracy Test : 0.4333\n",
      "Epoch : [830/1000] | Loss_train : 1.0461 | Loss_test : 1.0433 | Accuracy_train : 0.3667  | Accuracy Test : 0.4333\n",
      "Epoch : [840/1000] | Loss_train : 1.0461 | Loss_test : 1.0433 | Accuracy_train : 0.3667  | Accuracy Test : 0.4333\n",
      "Epoch : [850/1000] | Loss_train : 1.0461 | Loss_test : 1.0433 | Accuracy_train : 0.3667  | Accuracy Test : 0.4333\n",
      "Epoch : [860/1000] | Loss_train : 1.0461 | Loss_test : 1.0433 | Accuracy_train : 0.3667  | Accuracy Test : 0.4333\n",
      "Epoch : [870/1000] | Loss_train : 1.0461 | Loss_test : 1.0433 | Accuracy_train : 0.3667  | Accuracy Test : 0.4333\n",
      "Epoch : [880/1000] | Loss_train : 1.0461 | Loss_test : 1.0433 | Accuracy_train : 0.3667  | Accuracy Test : 0.4333\n",
      "Epoch : [890/1000] | Loss_train : 1.0461 | Loss_test : 1.0433 | Accuracy_train : 0.3667  | Accuracy Test : 0.4333\n",
      "Epoch : [900/1000] | Loss_train : 1.0461 | Loss_test : 1.0433 | Accuracy_train : 0.3667  | Accuracy Test : 0.4333\n",
      "Epoch : [910/1000] | Loss_train : 1.0461 | Loss_test : 1.0433 | Accuracy_train : 0.3667  | Accuracy Test : 0.4333\n",
      "Epoch : [920/1000] | Loss_train : 1.0461 | Loss_test : 1.0433 | Accuracy_train : 0.3667  | Accuracy Test : 0.4333\n",
      "Epoch : [930/1000] | Loss_train : 1.0461 | Loss_test : 1.0433 | Accuracy_train : 0.3667  | Accuracy Test : 0.4333\n",
      "Epoch : [940/1000] | Loss_train : 1.0461 | Loss_test : 1.0433 | Accuracy_train : 0.3667  | Accuracy Test : 0.4333\n",
      "Epoch : [950/1000] | Loss_train : 1.0461 | Loss_test : 1.0433 | Accuracy_train : 0.3667  | Accuracy Test : 0.4333\n",
      "Epoch : [960/1000] | Loss_train : 1.0461 | Loss_test : 1.0433 | Accuracy_train : 0.3667  | Accuracy Test : 0.4333\n",
      "Epoch : [970/1000] | Loss_train : 1.0461 | Loss_test : 1.0433 | Accuracy_train : 0.3667  | Accuracy Test : 0.4333\n",
      "Epoch : [980/1000] | Loss_train : 1.0461 | Loss_test : 1.0433 | Accuracy_train : 0.3667  | Accuracy Test : 0.4333\n",
      "Epoch : [990/1000] | Loss_train : 1.0461 | Loss_test : 1.0433 | Accuracy_train : 0.3667  | Accuracy Test : 0.4333\n",
      "Epoch : [1000/1000] | Loss_train : 1.0461 | Loss_test : 1.0433 | Accuracy_train : 0.3667  | Accuracy Test : 0.4333\n"
     ]
    }
   ],
   "source": [
    "# Training Loop\n",
    "torch.manual_seed(42)\n",
    "\n",
    "epochs = 1000\n",
    "losses_train = []\n",
    "losses_test = []\n",
    "\n",
    "for epoch in range(epochs):\n",
    "    model2.train()\n",
    "    \n",
    "    output_train = model2(X_train_tensor)\n",
    "\n",
    "    loss_train = criterion(output_train,  y_train_tensor)\n",
    "    \n",
    "    losses_train.append(loss_train.item())\n",
    "    \n",
    "    _, output_label_train = torch.max(output_train, 1)\n",
    "        \n",
    "    accuracy_train = (output_label_train == y_train_tensor).float().mean()\n",
    "        \n",
    "    optimizer.zero_grad()\n",
    "    \n",
    "    loss_train.backward()\n",
    "    \n",
    "    optimizer.step()\n",
    "    \n",
    "    # Evaluasi akurasi\n",
    "    from sklearn.metrics import confusion_matrix, classification_report\n",
    "\n",
    "    model1.eval()\n",
    "    with torch.no_grad():\n",
    "        output_test = model2(X_test_tensor)\n",
    "        \n",
    "        loss_test = criterion(output_test,  y_test_tensor)\n",
    "        \n",
    "        losses_test.append(loss_test.item())\n",
    "        \n",
    "        _, output_label_test = torch.max(output_test, 1)\n",
    "                \n",
    "        accuracy_test = (output_label_test == y_test_tensor).float().mean()\n",
    "    \n",
    "    if (epoch + 1) % 10 == 0:\n",
    "        print(f\"Epoch : [{epoch+1}/{epochs}] | Loss_train : {loss_train.item():.4f} | Loss_test : {loss_test.item():.4f} | Accuracy_train : {accuracy_train:.4f}  | Accuracy Test : {accuracy_test:.4f}\")"
   ]
  },
  {
   "cell_type": "code",
   "execution_count": 54,
   "metadata": {},
   "outputs": [
    {
     "name": "stdout",
     "output_type": "stream",
     "text": [
      "confusion matrix : [[40  0  0]\n",
      " [36  4  0]\n",
      " [37  3  0]]\n",
      "Classification report :               precision    recall  f1-score   support\n",
      "\n",
      "           0       0.35      1.00      0.52        40\n",
      "           1       0.57      0.10      0.17        40\n",
      "           2       0.00      0.00      0.00        40\n",
      "\n",
      "    accuracy                           0.37       120\n",
      "   macro avg       0.31      0.37      0.23       120\n",
      "weighted avg       0.31      0.37      0.23       120\n",
      "\n"
     ]
    },
    {
     "name": "stderr",
     "output_type": "stream",
     "text": [
      "c:\\Users\\arya.hisma\\venv\\pytorch\\Lib\\site-packages\\sklearn\\metrics\\_classification.py:1565: UndefinedMetricWarning: Precision is ill-defined and being set to 0.0 in labels with no predicted samples. Use `zero_division` parameter to control this behavior.\n",
      "  _warn_prf(average, modifier, f\"{metric.capitalize()} is\", len(result))\n",
      "c:\\Users\\arya.hisma\\venv\\pytorch\\Lib\\site-packages\\sklearn\\metrics\\_classification.py:1565: UndefinedMetricWarning: Precision is ill-defined and being set to 0.0 in labels with no predicted samples. Use `zero_division` parameter to control this behavior.\n",
      "  _warn_prf(average, modifier, f\"{metric.capitalize()} is\", len(result))\n",
      "c:\\Users\\arya.hisma\\venv\\pytorch\\Lib\\site-packages\\sklearn\\metrics\\_classification.py:1565: UndefinedMetricWarning: Precision is ill-defined and being set to 0.0 in labels with no predicted samples. Use `zero_division` parameter to control this behavior.\n",
      "  _warn_prf(average, modifier, f\"{metric.capitalize()} is\", len(result))\n"
     ]
    }
   ],
   "source": [
    "# konversi ke numpy untuk sklearn\n",
    "y_true_train = y_train_tensor.numpy()\n",
    "y_pred_train = output_label_train.numpy()\n",
    "    \n",
    "# Confusion matrix data train\n",
    "cm_train = confusion_matrix(y_true_train, y_pred_train)\n",
    "print(f\"confusion matrix : {cm_train}\")\n",
    "\n",
    "# Classification report (precision, recall, f1-score) data train\n",
    "cr_train = classification_report(y_true_train, y_pred_train)\n",
    "print(f\"Classification report : {cr_train}\")"
   ]
  },
  {
   "cell_type": "code",
   "execution_count": 55,
   "metadata": {},
   "outputs": [
    {
     "name": "stdout",
     "output_type": "stream",
     "text": [
      "confusion matrix : [[10  0  0]\n",
      " [ 7  3  0]\n",
      " [10  0  0]]\n",
      "Classification report :               precision    recall  f1-score   support\n",
      "\n",
      "           0       0.37      1.00      0.54        10\n",
      "           1       1.00      0.30      0.46        10\n",
      "           2       0.00      0.00      0.00        10\n",
      "\n",
      "    accuracy                           0.43        30\n",
      "   macro avg       0.46      0.43      0.33        30\n",
      "weighted avg       0.46      0.43      0.33        30\n",
      "\n"
     ]
    },
    {
     "name": "stderr",
     "output_type": "stream",
     "text": [
      "c:\\Users\\arya.hisma\\venv\\pytorch\\Lib\\site-packages\\sklearn\\metrics\\_classification.py:1565: UndefinedMetricWarning: Precision is ill-defined and being set to 0.0 in labels with no predicted samples. Use `zero_division` parameter to control this behavior.\n",
      "  _warn_prf(average, modifier, f\"{metric.capitalize()} is\", len(result))\n",
      "c:\\Users\\arya.hisma\\venv\\pytorch\\Lib\\site-packages\\sklearn\\metrics\\_classification.py:1565: UndefinedMetricWarning: Precision is ill-defined and being set to 0.0 in labels with no predicted samples. Use `zero_division` parameter to control this behavior.\n",
      "  _warn_prf(average, modifier, f\"{metric.capitalize()} is\", len(result))\n",
      "c:\\Users\\arya.hisma\\venv\\pytorch\\Lib\\site-packages\\sklearn\\metrics\\_classification.py:1565: UndefinedMetricWarning: Precision is ill-defined and being set to 0.0 in labels with no predicted samples. Use `zero_division` parameter to control this behavior.\n",
      "  _warn_prf(average, modifier, f\"{metric.capitalize()} is\", len(result))\n"
     ]
    }
   ],
   "source": [
    "# konversi ke numpy untuk sklearn\n",
    "y_true_test = y_test_tensor.numpy()\n",
    "y_pred_test = output_label_test.numpy()\n",
    "        \n",
    "# Confusion matrix data test\n",
    "cm_test = confusion_matrix(y_true_test, y_pred_test)\n",
    "print(f\"confusion matrix : {cm_test}\")\n",
    "\n",
    "# Classification report (precision, recall, f1-score) data test\n",
    "cr_test = classification_report(y_true_test, y_pred_test)\n",
    "print(f\"Classification report : {cr_test}\")"
   ]
  },
  {
   "cell_type": "code",
   "execution_count": 56,
   "metadata": {},
   "outputs": [
    {
     "data": {
      "image/png": "[encoded data removed]",
      "text/plain": [
       "<Figure size 600x400 with 2 Axes>"
      ]
     },
     "metadata": {},
     "output_type": "display_data"
    }
   ],
   "source": [
    "import seaborn as sns\n",
    "import matplotlib.pyplot as plt\n",
    "from sklearn.metrics import confusion_matrix, classification_report\n",
    "\n",
    "# Visualisasi\n",
    "plt.figure(figsize=(6,4))\n",
    "sns.heatmap(cm_train, annot=True, fmt='d', cmap='Blues', xticklabels=['Setosa', 'Versicolor', 'virginica'], \n",
    "            yticklabels=['Setosa', 'Versicolor', 'virginica'])\n",
    "plt.xlabel('Predicted Label')\n",
    "plt.ylabel('True Label')\n",
    "plt.title('Confusion Matrix')\n",
    "plt.show()"
   ]
  },
  {
   "cell_type": "code",
   "execution_count": 57,
   "metadata": {},
   "outputs": [
    {
     "data": {
      "image/png": "[encoded data removed]",
      "text/plain": [
       "<Figure size 600x400 with 2 Axes>"
      ]
     },
     "metadata": {},
     "output_type": "display_data"
    }
   ],
   "source": [
    "import seaborn as sns\n",
    "import matplotlib.pyplot as plt\n",
    "from sklearn.metrics import confusion_matrix, classification_report\n",
    "\n",
    "# Visualisasi\n",
    "plt.figure(figsize=(6,4))\n",
    "sns.heatmap(cm_test, annot=True, fmt='d', cmap='Blues', xticklabels=['Setosa', 'Versicolor', 'virginica'], \n",
    "            yticklabels=['Setosa', 'Versicolor', 'virginica'])\n",
    "plt.xlabel('Predicted Label')\n",
    "plt.ylabel('True Label')\n",
    "plt.title('Confusion Matrix')\n",
    "plt.show()"
   ]
  },
  {
   "cell_type": "code",
   "execution_count": 58,
   "metadata": {},
   "outputs": [
    {
     "name": "stdout",
     "output_type": "stream",
     "text": [
      "[1.0460577011108398, 1.0460577011108398, 1.0460577011108398, 1.0460577011108398, 1.0460577011108398, 1.0460577011108398, 1.0460577011108398, 1.0460577011108398, 1.0460577011108398, 1.0460577011108398, 1.0460577011108398, 1.0460577011108398, 1.0460577011108398, 1.0460577011108398, 1.0460577011108398, 1.0460577011108398, 1.0460577011108398, 1.0460577011108398, 1.0460577011108398, 1.0460577011108398, 1.0460577011108398, 1.0460577011108398, 1.0460577011108398, 1.0460577011108398, 1.0460577011108398, 1.0460577011108398, 1.0460577011108398, 1.0460577011108398, 1.0460577011108398, 1.0460577011108398, 1.0460577011108398, 1.0460577011108398, 1.0460577011108398, 1.0460577011108398, 1.0460577011108398, 1.0460577011108398, 1.0460577011108398, 1.0460577011108398, 1.0460577011108398, 1.0460577011108398, 1.0460577011108398, 1.0460577011108398, 1.0460577011108398, 1.0460577011108398, 1.0460577011108398, 1.0460577011108398, 1.0460577011108398, 1.0460577011108398, 1.0460577011108398, 1.0460577011108398, 1.0460577011108398, 1.0460577011108398, 1.0460577011108398, 1.0460577011108398, 1.0460577011108398, 1.0460577011108398, 1.0460577011108398, 1.0460577011108398, 1.0460577011108398, 1.0460577011108398, 1.0460577011108398, 1.0460577011108398, 1.0460577011108398, 1.0460577011108398, 1.0460577011108398, 1.0460577011108398, 1.0460577011108398, 1.0460577011108398, 1.0460577011108398, 1.0460577011108398, 1.0460577011108398, 1.0460577011108398, 1.0460577011108398, 1.0460577011108398, 1.0460577011108398, 1.0460577011108398, 1.0460577011108398, 1.0460577011108398, 1.0460577011108398, 1.0460577011108398, 1.0460577011108398, 1.0460577011108398, 1.0460577011108398, 1.0460577011108398, 1.0460577011108398, 1.0460577011108398, 1.0460577011108398, 1.0460577011108398, 1.0460577011108398, 1.0460577011108398, 1.0460577011108398, 1.0460577011108398, 1.0460577011108398, 1.0460577011108398, 1.0460577011108398, 1.0460577011108398, 1.0460577011108398, 1.0460577011108398, 1.0460577011108398, 1.0460577011108398, 1.0460577011108398, 1.0460577011108398, 1.0460577011108398, 1.0460577011108398, 1.0460577011108398, 1.0460577011108398, 1.0460577011108398, 1.0460577011108398, 1.0460577011108398, 1.0460577011108398, 1.0460577011108398, 1.0460577011108398, 1.0460577011108398, 1.0460577011108398, 1.0460577011108398, 1.0460577011108398, 1.0460577011108398, 1.0460577011108398, 1.0460577011108398, 1.0460577011108398, 1.0460577011108398, 1.0460577011108398, 1.0460577011108398, 1.0460577011108398, 1.0460577011108398, 1.0460577011108398, 1.0460577011108398, 1.0460577011108398, 1.0460577011108398, 1.0460577011108398, 1.0460577011108398, 1.0460577011108398, 1.0460577011108398, 1.0460577011108398, 1.0460577011108398, 1.0460577011108398, 1.0460577011108398, 1.0460577011108398, 1.0460577011108398, 1.0460577011108398, 1.0460577011108398, 1.0460577011108398, 1.0460577011108398, 1.0460577011108398, 1.0460577011108398, 1.0460577011108398, 1.0460577011108398, 1.0460577011108398, 1.0460577011108398, 1.0460577011108398, 1.0460577011108398, 1.0460577011108398, 1.0460577011108398, 1.0460577011108398, 1.0460577011108398, 1.0460577011108398, 1.0460577011108398, 1.0460577011108398, 1.0460577011108398, 1.0460577011108398, 1.0460577011108398, 1.0460577011108398, 1.0460577011108398, 1.0460577011108398, 1.0460577011108398, 1.0460577011108398, 1.0460577011108398, 1.0460577011108398, 1.0460577011108398, 1.0460577011108398, 1.0460577011108398, 1.0460577011108398, 1.0460577011108398, 1.0460577011108398, 1.0460577011108398, 1.0460577011108398, 1.0460577011108398, 1.0460577011108398, 1.0460577011108398, 1.0460577011108398, 1.0460577011108398, 1.0460577011108398, 1.0460577011108398, 1.0460577011108398, 1.0460577011108398, 1.0460577011108398, 1.0460577011108398, 1.0460577011108398, 1.0460577011108398, 1.0460577011108398, 1.0460577011108398, 1.0460577011108398, 1.0460577011108398, 1.0460577011108398, 1.0460577011108398, 1.0460577011108398, 1.0460577011108398, 1.0460577011108398, 1.0460577011108398, 1.0460577011108398, 1.0460577011108398, 1.0460577011108398, 1.0460577011108398, 1.0460577011108398, 1.0460577011108398, 1.0460577011108398, 1.0460577011108398, 1.0460577011108398, 1.0460577011108398, 1.0460577011108398, 1.0460577011108398, 1.0460577011108398, 1.0460577011108398, 1.0460577011108398, 1.0460577011108398, 1.0460577011108398, 1.0460577011108398, 1.0460577011108398, 1.0460577011108398, 1.0460577011108398, 1.0460577011108398, 1.0460577011108398, 1.0460577011108398, 1.0460577011108398, 1.0460577011108398, 1.0460577011108398, 1.0460577011108398, 1.0460577011108398, 1.0460577011108398, 1.0460577011108398, 1.0460577011108398, 1.0460577011108398, 1.0460577011108398, 1.0460577011108398, 1.0460577011108398, 1.0460577011108398, 1.0460577011108398, 1.0460577011108398, 1.0460577011108398, 1.0460577011108398, 1.0460577011108398, 1.0460577011108398, 1.0460577011108398, 1.0460577011108398, 1.0460577011108398, 1.0460577011108398, 1.0460577011108398, 1.0460577011108398, 1.0460577011108398, 1.0460577011108398, 1.0460577011108398, 1.0460577011108398, 1.0460577011108398, 1.0460577011108398, 1.0460577011108398, 1.0460577011108398, 1.0460577011108398, 1.0460577011108398, 1.0460577011108398, 1.0460577011108398, 1.0460577011108398, 1.0460577011108398, 1.0460577011108398, 1.0460577011108398, 1.0460577011108398, 1.0460577011108398, 1.0460577011108398, 1.0460577011108398, 1.0460577011108398, 1.0460577011108398, 1.0460577011108398, 1.0460577011108398, 1.0460577011108398, 1.0460577011108398, 1.0460577011108398, 1.0460577011108398, 1.0460577011108398, 1.0460577011108398, 1.0460577011108398, 1.0460577011108398, 1.0460577011108398, 1.0460577011108398, 1.0460577011108398, 1.0460577011108398, 1.0460577011108398, 1.0460577011108398, 1.0460577011108398, 1.0460577011108398, 1.0460577011108398, 1.0460577011108398, 1.0460577011108398, 1.0460577011108398, 1.0460577011108398, 1.0460577011108398, 1.0460577011108398, 1.0460577011108398, 1.0460577011108398, 1.0460577011108398, 1.0460577011108398, 1.0460577011108398, 1.0460577011108398, 1.0460577011108398, 1.0460577011108398, 1.0460577011108398, 1.0460577011108398, 1.0460577011108398, 1.0460577011108398, 1.0460577011108398, 1.0460577011108398, 1.0460577011108398, 1.0460577011108398, 1.0460577011108398, 1.0460577011108398, 1.0460577011108398, 1.0460577011108398, 1.0460577011108398, 1.0460577011108398, 1.0460577011108398, 1.0460577011108398, 1.0460577011108398, 1.0460577011108398, 1.0460577011108398, 1.0460577011108398, 1.0460577011108398, 1.0460577011108398, 1.0460577011108398, 1.0460577011108398, 1.0460577011108398, 1.0460577011108398, 1.0460577011108398, 1.0460577011108398, 1.0460577011108398, 1.0460577011108398, 1.0460577011108398, 1.0460577011108398, 1.0460577011108398, 1.0460577011108398, 1.0460577011108398, 1.0460577011108398, 1.0460577011108398, 1.0460577011108398, 1.0460577011108398, 1.0460577011108398, 1.0460577011108398, 1.0460577011108398, 1.0460577011108398, 1.0460577011108398, 1.0460577011108398, 1.0460577011108398, 1.0460577011108398, 1.0460577011108398, 1.0460577011108398, 1.0460577011108398, 1.0460577011108398, 1.0460577011108398, 1.0460577011108398, 1.0460577011108398, 1.0460577011108398, 1.0460577011108398, 1.0460577011108398, 1.0460577011108398, 1.0460577011108398, 1.0460577011108398, 1.0460577011108398, 1.0460577011108398, 1.0460577011108398, 1.0460577011108398, 1.0460577011108398, 1.0460577011108398, 1.0460577011108398, 1.0460577011108398, 1.0460577011108398, 1.0460577011108398, 1.0460577011108398, 1.0460577011108398, 1.0460577011108398, 1.0460577011108398, 1.0460577011108398, 1.0460577011108398, 1.0460577011108398, 1.0460577011108398, 1.0460577011108398, 1.0460577011108398, 1.0460577011108398, 1.0460577011108398, 1.0460577011108398, 1.0460577011108398, 1.0460577011108398, 1.0460577011108398, 1.0460577011108398, 1.0460577011108398, 1.0460577011108398, 1.0460577011108398, 1.0460577011108398, 1.0460577011108398, 1.0460577011108398, 1.0460577011108398, 1.0460577011108398, 1.0460577011108398, 1.0460577011108398, 1.0460577011108398, 1.0460577011108398, 1.0460577011108398, 1.0460577011108398, 1.0460577011108398, 1.0460577011108398, 1.0460577011108398, 1.0460577011108398, 1.0460577011108398, 1.0460577011108398, 1.0460577011108398, 1.0460577011108398, 1.0460577011108398, 1.0460577011108398, 1.0460577011108398, 1.0460577011108398, 1.0460577011108398, 1.0460577011108398, 1.0460577011108398, 1.0460577011108398, 1.0460577011108398, 1.0460577011108398, 1.0460577011108398, 1.0460577011108398, 1.0460577011108398, 1.0460577011108398, 1.0460577011108398, 1.0460577011108398, 1.0460577011108398, 1.0460577011108398, 1.0460577011108398, 1.0460577011108398, 1.0460577011108398, 1.0460577011108398, 1.0460577011108398, 1.0460577011108398, 1.0460577011108398, 1.0460577011108398, 1.0460577011108398, 1.0460577011108398, 1.0460577011108398, 1.0460577011108398, 1.0460577011108398, 1.0460577011108398, 1.0460577011108398, 1.0460577011108398, 1.0460577011108398, 1.0460577011108398, 1.0460577011108398, 1.0460577011108398, 1.0460577011108398, 1.0460577011108398, 1.0460577011108398, 1.0460577011108398, 1.0460577011108398, 1.0460577011108398, 1.0460577011108398, 1.0460577011108398, 1.0460577011108398, 1.0460577011108398, 1.0460577011108398, 1.0460577011108398, 1.0460577011108398, 1.0460577011108398, 1.0460577011108398, 1.0460577011108398, 1.0460577011108398, 1.0460577011108398, 1.0460577011108398, 1.0460577011108398, 1.0460577011108398, 1.0460577011108398, 1.0460577011108398, 1.0460577011108398, 1.0460577011108398, 1.0460577011108398, 1.0460577011108398, 1.0460577011108398, 1.0460577011108398, 1.0460577011108398, 1.0460577011108398, 1.0460577011108398, 1.0460577011108398, 1.0460577011108398, 1.0460577011108398, 1.0460577011108398, 1.0460577011108398, 1.0460577011108398, 1.0460577011108398, 1.0460577011108398, 1.0460577011108398, 1.0460577011108398, 1.0460577011108398, 1.0460577011108398, 1.0460577011108398, 1.0460577011108398, 1.0460577011108398, 1.0460577011108398, 1.0460577011108398, 1.0460577011108398, 1.0460577011108398, 1.0460577011108398, 1.0460577011108398, 1.0460577011108398, 1.0460577011108398, 1.0460577011108398, 1.0460577011108398, 1.0460577011108398, 1.0460577011108398, 1.0460577011108398, 1.0460577011108398, 1.0460577011108398, 1.0460577011108398, 1.0460577011108398, 1.0460577011108398, 1.0460577011108398, 1.0460577011108398, 1.0460577011108398, 1.0460577011108398, 1.0460577011108398, 1.0460577011108398, 1.0460577011108398, 1.0460577011108398, 1.0460577011108398, 1.0460577011108398, 1.0460577011108398, 1.0460577011108398, 1.0460577011108398, 1.0460577011108398, 1.0460577011108398, 1.0460577011108398, 1.0460577011108398, 1.0460577011108398, 1.0460577011108398, 1.0460577011108398, 1.0460577011108398, 1.0460577011108398, 1.0460577011108398, 1.0460577011108398, 1.0460577011108398, 1.0460577011108398, 1.0460577011108398, 1.0460577011108398, 1.0460577011108398, 1.0460577011108398, 1.0460577011108398, 1.0460577011108398, 1.0460577011108398, 1.0460577011108398, 1.0460577011108398, 1.0460577011108398, 1.0460577011108398, 1.0460577011108398, 1.0460577011108398, 1.0460577011108398, 1.0460577011108398, 1.0460577011108398, 1.0460577011108398, 1.0460577011108398, 1.0460577011108398, 1.0460577011108398, 1.0460577011108398, 1.0460577011108398, 1.0460577011108398, 1.0460577011108398, 1.0460577011108398, 1.0460577011108398, 1.0460577011108398, 1.0460577011108398, 1.0460577011108398, 1.0460577011108398, 1.0460577011108398, 1.0460577011108398, 1.0460577011108398, 1.0460577011108398, 1.0460577011108398, 1.0460577011108398, 1.0460577011108398, 1.0460577011108398, 1.0460577011108398, 1.0460577011108398, 1.0460577011108398, 1.0460577011108398, 1.0460577011108398, 1.0460577011108398, 1.0460577011108398, 1.0460577011108398, 1.0460577011108398, 1.0460577011108398, 1.0460577011108398, 1.0460577011108398, 1.0460577011108398, 1.0460577011108398, 1.0460577011108398, 1.0460577011108398, 1.0460577011108398, 1.0460577011108398, 1.0460577011108398, 1.0460577011108398, 1.0460577011108398, 1.0460577011108398, 1.0460577011108398, 1.0460577011108398, 1.0460577011108398, 1.0460577011108398, 1.0460577011108398, 1.0460577011108398, 1.0460577011108398, 1.0460577011108398, 1.0460577011108398, 1.0460577011108398, 1.0460577011108398, 1.0460577011108398, 1.0460577011108398, 1.0460577011108398, 1.0460577011108398, 1.0460577011108398, 1.0460577011108398, 1.0460577011108398, 1.0460577011108398, 1.0460577011108398, 1.0460577011108398, 1.0460577011108398, 1.0460577011108398, 1.0460577011108398, 1.0460577011108398, 1.0460577011108398, 1.0460577011108398, 1.0460577011108398, 1.0460577011108398, 1.0460577011108398, 1.0460577011108398, 1.0460577011108398, 1.0460577011108398, 1.0460577011108398, 1.0460577011108398, 1.0460577011108398, 1.0460577011108398, 1.0460577011108398, 1.0460577011108398, 1.0460577011108398, 1.0460577011108398, 1.0460577011108398, 1.0460577011108398, 1.0460577011108398, 1.0460577011108398, 1.0460577011108398, 1.0460577011108398, 1.0460577011108398, 1.0460577011108398, 1.0460577011108398, 1.0460577011108398, 1.0460577011108398, 1.0460577011108398, 1.0460577011108398, 1.0460577011108398, 1.0460577011108398, 1.0460577011108398, 1.0460577011108398, 1.0460577011108398, 1.0460577011108398, 1.0460577011108398, 1.0460577011108398, 1.0460577011108398, 1.0460577011108398, 1.0460577011108398, 1.0460577011108398, 1.0460577011108398, 1.0460577011108398, 1.0460577011108398, 1.0460577011108398, 1.0460577011108398, 1.0460577011108398, 1.0460577011108398, 1.0460577011108398, 1.0460577011108398, 1.0460577011108398, 1.0460577011108398, 1.0460577011108398, 1.0460577011108398, 1.0460577011108398, 1.0460577011108398, 1.0460577011108398, 1.0460577011108398, 1.0460577011108398, 1.0460577011108398, 1.0460577011108398, 1.0460577011108398, 1.0460577011108398, 1.0460577011108398, 1.0460577011108398, 1.0460577011108398, 1.0460577011108398, 1.0460577011108398, 1.0460577011108398, 1.0460577011108398, 1.0460577011108398, 1.0460577011108398, 1.0460577011108398, 1.0460577011108398, 1.0460577011108398, 1.0460577011108398, 1.0460577011108398, 1.0460577011108398, 1.0460577011108398, 1.0460577011108398, 1.0460577011108398, 1.0460577011108398, 1.0460577011108398, 1.0460577011108398, 1.0460577011108398, 1.0460577011108398, 1.0460577011108398, 1.0460577011108398, 1.0460577011108398, 1.0460577011108398, 1.0460577011108398, 1.0460577011108398, 1.0460577011108398, 1.0460577011108398, 1.0460577011108398, 1.0460577011108398, 1.0460577011108398, 1.0460577011108398, 1.0460577011108398, 1.0460577011108398, 1.0460577011108398, 1.0460577011108398, 1.0460577011108398, 1.0460577011108398, 1.0460577011108398, 1.0460577011108398, 1.0460577011108398, 1.0460577011108398, 1.0460577011108398, 1.0460577011108398, 1.0460577011108398, 1.0460577011108398, 1.0460577011108398, 1.0460577011108398, 1.0460577011108398, 1.0460577011108398, 1.0460577011108398, 1.0460577011108398, 1.0460577011108398, 1.0460577011108398, 1.0460577011108398, 1.0460577011108398, 1.0460577011108398, 1.0460577011108398, 1.0460577011108398, 1.0460577011108398, 1.0460577011108398, 1.0460577011108398, 1.0460577011108398, 1.0460577011108398, 1.0460577011108398, 1.0460577011108398, 1.0460577011108398, 1.0460577011108398, 1.0460577011108398, 1.0460577011108398, 1.0460577011108398, 1.0460577011108398, 1.0460577011108398, 1.0460577011108398, 1.0460577011108398, 1.0460577011108398, 1.0460577011108398, 1.0460577011108398, 1.0460577011108398, 1.0460577011108398, 1.0460577011108398, 1.0460577011108398, 1.0460577011108398, 1.0460577011108398, 1.0460577011108398, 1.0460577011108398, 1.0460577011108398, 1.0460577011108398, 1.0460577011108398, 1.0460577011108398, 1.0460577011108398, 1.0460577011108398, 1.0460577011108398, 1.0460577011108398, 1.0460577011108398, 1.0460577011108398, 1.0460577011108398, 1.0460577011108398, 1.0460577011108398, 1.0460577011108398, 1.0460577011108398, 1.0460577011108398, 1.0460577011108398, 1.0460577011108398, 1.0460577011108398, 1.0460577011108398, 1.0460577011108398, 1.0460577011108398, 1.0460577011108398, 1.0460577011108398, 1.0460577011108398, 1.0460577011108398, 1.0460577011108398, 1.0460577011108398, 1.0460577011108398, 1.0460577011108398, 1.0460577011108398, 1.0460577011108398, 1.0460577011108398, 1.0460577011108398, 1.0460577011108398, 1.0460577011108398, 1.0460577011108398, 1.0460577011108398, 1.0460577011108398, 1.0460577011108398, 1.0460577011108398, 1.0460577011108398, 1.0460577011108398, 1.0460577011108398, 1.0460577011108398, 1.0460577011108398, 1.0460577011108398, 1.0460577011108398, 1.0460577011108398, 1.0460577011108398, 1.0460577011108398, 1.0460577011108398, 1.0460577011108398, 1.0460577011108398, 1.0460577011108398, 1.0460577011108398, 1.0460577011108398, 1.0460577011108398, 1.0460577011108398, 1.0460577011108398, 1.0460577011108398, 1.0460577011108398, 1.0460577011108398, 1.0460577011108398, 1.0460577011108398, 1.0460577011108398, 1.0460577011108398, 1.0460577011108398, 1.0460577011108398, 1.0460577011108398, 1.0460577011108398, 1.0460577011108398, 1.0460577011108398, 1.0460577011108398, 1.0460577011108398, 1.0460577011108398, 1.0460577011108398, 1.0460577011108398, 1.0460577011108398, 1.0460577011108398, 1.0460577011108398, 1.0460577011108398, 1.0460577011108398, 1.0460577011108398, 1.0460577011108398, 1.0460577011108398, 1.0460577011108398, 1.0460577011108398, 1.0460577011108398, 1.0460577011108398, 1.0460577011108398, 1.0460577011108398, 1.0460577011108398, 1.0460577011108398, 1.0460577011108398, 1.0460577011108398, 1.0460577011108398, 1.0460577011108398, 1.0460577011108398, 1.0460577011108398, 1.0460577011108398, 1.0460577011108398, 1.0460577011108398, 1.0460577011108398, 1.0460577011108398, 1.0460577011108398, 1.0460577011108398, 1.0460577011108398, 1.0460577011108398, 1.0460577011108398, 1.0460577011108398, 1.0460577011108398, 1.0460577011108398, 1.0460577011108398, 1.0460577011108398, 1.0460577011108398, 1.0460577011108398, 1.0460577011108398, 1.0460577011108398, 1.0460577011108398, 1.0460577011108398, 1.0460577011108398, 1.0460577011108398, 1.0460577011108398, 1.0460577011108398, 1.0460577011108398, 1.0460577011108398, 1.0460577011108398, 1.0460577011108398, 1.0460577011108398, 1.0460577011108398, 1.0460577011108398, 1.0460577011108398, 1.0460577011108398, 1.0460577011108398, 1.0460577011108398, 1.0460577011108398, 1.0460577011108398, 1.0460577011108398, 1.0460577011108398, 1.0460577011108398, 1.0460577011108398, 1.0460577011108398, 1.0460577011108398, 1.0460577011108398, 1.0460577011108398, 1.0460577011108398, 1.0460577011108398, 1.0460577011108398, 1.0460577011108398, 1.0460577011108398, 1.0460577011108398, 1.0460577011108398, 1.0460577011108398, 1.0460577011108398, 1.0460577011108398, 1.0460577011108398, 1.0460577011108398, 1.0460577011108398, 1.0460577011108398, 1.0460577011108398, 1.0460577011108398, 1.0460577011108398, 1.0460577011108398, 1.0460577011108398, 1.0460577011108398, 1.0460577011108398, 1.0460577011108398, 1.0460577011108398, 1.0460577011108398, 1.0460577011108398, 1.0460577011108398, 1.0460577011108398, 1.0460577011108398, 1.0460577011108398, 1.0460577011108398, 1.0460577011108398, 1.0460577011108398, 1.0460577011108398, 1.0460577011108398, 1.0460577011108398, 1.0460577011108398, 1.0460577011108398, 1.0460577011108398, 1.0460577011108398, 1.0460577011108398, 1.0460577011108398, 1.0460577011108398, 1.0460577011108398, 1.0460577011108398, 1.0460577011108398, 1.0460577011108398, 1.0460577011108398, 1.0460577011108398, 1.0460577011108398, 1.0460577011108398, 1.0460577011108398, 1.0460577011108398, 1.0460577011108398, 1.0460577011108398, 1.0460577011108398, 1.0460577011108398, 1.0460577011108398, 1.0460577011108398, 1.0460577011108398, 1.0460577011108398, 1.0460577011108398, 1.0460577011108398, 1.0460577011108398, 1.0460577011108398, 1.0460577011108398, 1.0460577011108398, 1.0460577011108398, 1.0460577011108398, 1.0460577011108398, 1.0460577011108398, 1.0460577011108398, 1.0460577011108398, 1.0460577011108398, 1.0460577011108398, 1.0460577011108398, 1.0460577011108398]\n",
      "[1.0433443784713745, 1.0433443784713745, 1.0433443784713745, 1.0433443784713745, 1.0433443784713745, 1.0433443784713745, 1.0433443784713745, 1.0433443784713745, 1.0433443784713745, 1.0433443784713745, 1.0433443784713745, 1.0433443784713745, 1.0433443784713745, 1.0433443784713745, 1.0433443784713745, 1.0433443784713745, 1.0433443784713745, 1.0433443784713745, 1.0433443784713745, 1.0433443784713745, 1.0433443784713745, 1.0433443784713745, 1.0433443784713745, 1.0433443784713745, 1.0433443784713745, 1.0433443784713745, 1.0433443784713745, 1.0433443784713745, 1.0433443784713745, 1.0433443784713745, 1.0433443784713745, 1.0433443784713745, 1.0433443784713745, 1.0433443784713745, 1.0433443784713745, 1.0433443784713745, 1.0433443784713745, 1.0433443784713745, 1.0433443784713745, 1.0433443784713745, 1.0433443784713745, 1.0433443784713745, 1.0433443784713745, 1.0433443784713745, 1.0433443784713745, 1.0433443784713745, 1.0433443784713745, 1.0433443784713745, 1.0433443784713745, 1.0433443784713745, 1.0433443784713745, 1.0433443784713745, 1.0433443784713745, 1.0433443784713745, 1.0433443784713745, 1.0433443784713745, 1.0433443784713745, 1.0433443784713745, 1.0433443784713745, 1.0433443784713745, 1.0433443784713745, 1.0433443784713745, 1.0433443784713745, 1.0433443784713745, 1.0433443784713745, 1.0433443784713745, 1.0433443784713745, 1.0433443784713745, 1.0433443784713745, 1.0433443784713745, 1.0433443784713745, 1.0433443784713745, 1.0433443784713745, 1.0433443784713745, 1.0433443784713745, 1.0433443784713745, 1.0433443784713745, 1.0433443784713745, 1.0433443784713745, 1.0433443784713745, 1.0433443784713745, 1.0433443784713745, 1.0433443784713745, 1.0433443784713745, 1.0433443784713745, 1.0433443784713745, 1.0433443784713745, 1.0433443784713745, 1.0433443784713745, 1.0433443784713745, 1.0433443784713745, 1.0433443784713745, 1.0433443784713745, 1.0433443784713745, 1.0433443784713745, 1.0433443784713745, 1.0433443784713745, 1.0433443784713745, 1.0433443784713745, 1.0433443784713745, 1.0433443784713745, 1.0433443784713745, 1.0433443784713745, 1.0433443784713745, 1.0433443784713745, 1.0433443784713745, 1.0433443784713745, 1.0433443784713745, 1.0433443784713745, 1.0433443784713745, 1.0433443784713745, 1.0433443784713745, 1.0433443784713745, 1.0433443784713745, 1.0433443784713745, 1.0433443784713745, 1.0433443784713745, 1.0433443784713745, 1.0433443784713745, 1.0433443784713745, 1.0433443784713745, 1.0433443784713745, 1.0433443784713745, 1.0433443784713745, 1.0433443784713745, 1.0433443784713745, 1.0433443784713745, 1.0433443784713745, 1.0433443784713745, 1.0433443784713745, 1.0433443784713745, 1.0433443784713745, 1.0433443784713745, 1.0433443784713745, 1.0433443784713745, 1.0433443784713745, 1.0433443784713745, 1.0433443784713745, 1.0433443784713745, 1.0433443784713745, 1.0433443784713745, 1.0433443784713745, 1.0433443784713745, 1.0433443784713745, 1.0433443784713745, 1.0433443784713745, 1.0433443784713745, 1.0433443784713745, 1.0433443784713745, 1.0433443784713745, 1.0433443784713745, 1.0433443784713745, 1.0433443784713745, 1.0433443784713745, 1.0433443784713745, 1.0433443784713745, 1.0433443784713745, 1.0433443784713745, 1.0433443784713745, 1.0433443784713745, 1.0433443784713745, 1.0433443784713745, 1.0433443784713745, 1.0433443784713745, 1.0433443784713745, 1.0433443784713745, 1.0433443784713745, 1.0433443784713745, 1.0433443784713745, 1.0433443784713745, 1.0433443784713745, 1.0433443784713745, 1.0433443784713745, 1.0433443784713745, 1.0433443784713745, 1.0433443784713745, 1.0433443784713745, 1.0433443784713745, 1.0433443784713745, 1.0433443784713745, 1.0433443784713745, 1.0433443784713745, 1.0433443784713745, 1.0433443784713745, 1.0433443784713745, 1.0433443784713745, 1.0433443784713745, 1.0433443784713745, 1.0433443784713745, 1.0433443784713745, 1.0433443784713745, 1.0433443784713745, 1.0433443784713745, 1.0433443784713745, 1.0433443784713745, 1.0433443784713745, 1.0433443784713745, 1.0433443784713745, 1.0433443784713745, 1.0433443784713745, 1.0433443784713745, 1.0433443784713745, 1.0433443784713745, 1.0433443784713745, 1.0433443784713745, 1.0433443784713745, 1.0433443784713745, 1.0433443784713745, 1.0433443784713745, 1.0433443784713745, 1.0433443784713745, 1.0433443784713745, 1.0433443784713745, 1.0433443784713745, 1.0433443784713745, 1.0433443784713745, 1.0433443784713745, 1.0433443784713745, 1.0433443784713745, 1.0433443784713745, 1.0433443784713745, 1.0433443784713745, 1.0433443784713745, 1.0433443784713745, 1.0433443784713745, 1.0433443784713745, 1.0433443784713745, 1.0433443784713745, 1.0433443784713745, 1.0433443784713745, 1.0433443784713745, 1.0433443784713745, 1.0433443784713745, 1.0433443784713745, 1.0433443784713745, 1.0433443784713745, 1.0433443784713745, 1.0433443784713745, 1.0433443784713745, 1.0433443784713745, 1.0433443784713745, 1.0433443784713745, 1.0433443784713745, 1.0433443784713745, 1.0433443784713745, 1.0433443784713745, 1.0433443784713745, 1.0433443784713745, 1.0433443784713745, 1.0433443784713745, 1.0433443784713745, 1.0433443784713745, 1.0433443784713745, 1.0433443784713745, 1.0433443784713745, 1.0433443784713745, 1.0433443784713745, 1.0433443784713745, 1.0433443784713745, 1.0433443784713745, 1.0433443784713745, 1.0433443784713745, 1.0433443784713745, 1.0433443784713745, 1.0433443784713745, 1.0433443784713745, 1.0433443784713745, 1.0433443784713745, 1.0433443784713745, 1.0433443784713745, 1.0433443784713745, 1.0433443784713745, 1.0433443784713745, 1.0433443784713745, 1.0433443784713745, 1.0433443784713745, 1.0433443784713745, 1.0433443784713745, 1.0433443784713745, 1.0433443784713745, 1.0433443784713745, 1.0433443784713745, 1.0433443784713745, 1.0433443784713745, 1.0433443784713745, 1.0433443784713745, 1.0433443784713745, 1.0433443784713745, 1.0433443784713745, 1.0433443784713745, 1.0433443784713745, 1.0433443784713745, 1.0433443784713745, 1.0433443784713745, 1.0433443784713745, 1.0433443784713745, 1.0433443784713745, 1.0433443784713745, 1.0433443784713745, 1.0433443784713745, 1.0433443784713745, 1.0433443784713745, 1.0433443784713745, 1.0433443784713745, 1.0433443784713745, 1.0433443784713745, 1.0433443784713745, 1.0433443784713745, 1.0433443784713745, 1.0433443784713745, 1.0433443784713745, 1.0433443784713745, 1.0433443784713745, 1.0433443784713745, 1.0433443784713745, 1.0433443784713745, 1.0433443784713745, 1.0433443784713745, 1.0433443784713745, 1.0433443784713745, 1.0433443784713745, 1.0433443784713745, 1.0433443784713745, 1.0433443784713745, 1.0433443784713745, 1.0433443784713745, 1.0433443784713745, 1.0433443784713745, 1.0433443784713745, 1.0433443784713745, 1.0433443784713745, 1.0433443784713745, 1.0433443784713745, 1.0433443784713745, 1.0433443784713745, 1.0433443784713745, 1.0433443784713745, 1.0433443784713745, 1.0433443784713745, 1.0433443784713745, 1.0433443784713745, 1.0433443784713745, 1.0433443784713745, 1.0433443784713745, 1.0433443784713745, 1.0433443784713745, 1.0433443784713745, 1.0433443784713745, 1.0433443784713745, 1.0433443784713745, 1.0433443784713745, 1.0433443784713745, 1.0433443784713745, 1.0433443784713745, 1.0433443784713745, 1.0433443784713745, 1.0433443784713745, 1.0433443784713745, 1.0433443784713745, 1.0433443784713745, 1.0433443784713745, 1.0433443784713745, 1.0433443784713745, 1.0433443784713745, 1.0433443784713745, 1.0433443784713745, 1.0433443784713745, 1.0433443784713745, 1.0433443784713745, 1.0433443784713745, 1.0433443784713745, 1.0433443784713745, 1.0433443784713745, 1.0433443784713745, 1.0433443784713745, 1.0433443784713745, 1.0433443784713745, 1.0433443784713745, 1.0433443784713745, 1.0433443784713745, 1.0433443784713745, 1.0433443784713745, 1.0433443784713745, 1.0433443784713745, 1.0433443784713745, 1.0433443784713745, 1.0433443784713745, 1.0433443784713745, 1.0433443784713745, 1.0433443784713745, 1.0433443784713745, 1.0433443784713745, 1.0433443784713745, 1.0433443784713745, 1.0433443784713745, 1.0433443784713745, 1.0433443784713745, 1.0433443784713745, 1.0433443784713745, 1.0433443784713745, 1.0433443784713745, 1.0433443784713745, 1.0433443784713745, 1.0433443784713745, 1.0433443784713745, 1.0433443784713745, 1.0433443784713745, 1.0433443784713745, 1.0433443784713745, 1.0433443784713745, 1.0433443784713745, 1.0433443784713745, 1.0433443784713745, 1.0433443784713745, 1.0433443784713745, 1.0433443784713745, 1.0433443784713745, 1.0433443784713745, 1.0433443784713745, 1.0433443784713745, 1.0433443784713745, 1.0433443784713745, 1.0433443784713745, 1.0433443784713745, 1.0433443784713745, 1.0433443784713745, 1.0433443784713745, 1.0433443784713745, 1.0433443784713745, 1.0433443784713745, 1.0433443784713745, 1.0433443784713745, 1.0433443784713745, 1.0433443784713745, 1.0433443784713745, 1.0433443784713745, 1.0433443784713745, 1.0433443784713745, 1.0433443784713745, 1.0433443784713745, 1.0433443784713745, 1.0433443784713745, 1.0433443784713745, 1.0433443784713745, 1.0433443784713745, 1.0433443784713745, 1.0433443784713745, 1.0433443784713745, 1.0433443784713745, 1.0433443784713745, 1.0433443784713745, 1.0433443784713745, 1.0433443784713745, 1.0433443784713745, 1.0433443784713745, 1.0433443784713745, 1.0433443784713745, 1.0433443784713745, 1.0433443784713745, 1.0433443784713745, 1.0433443784713745, 1.0433443784713745, 1.0433443784713745, 1.0433443784713745, 1.0433443784713745, 1.0433443784713745, 1.0433443784713745, 1.0433443784713745, 1.0433443784713745, 1.0433443784713745, 1.0433443784713745, 1.0433443784713745, 1.0433443784713745, 1.0433443784713745, 1.0433443784713745, 1.0433443784713745, 1.0433443784713745, 1.0433443784713745, 1.0433443784713745, 1.0433443784713745, 1.0433443784713745, 1.0433443784713745, 1.0433443784713745, 1.0433443784713745, 1.0433443784713745, 1.0433443784713745, 1.0433443784713745, 1.0433443784713745, 1.0433443784713745, 1.0433443784713745, 1.0433443784713745, 1.0433443784713745, 1.0433443784713745, 1.0433443784713745, 1.0433443784713745, 1.0433443784713745, 1.0433443784713745, 1.0433443784713745, 1.0433443784713745, 1.0433443784713745, 1.0433443784713745, 1.0433443784713745, 1.0433443784713745, 1.0433443784713745, 1.0433443784713745, 1.0433443784713745, 1.0433443784713745, 1.0433443784713745, 1.0433443784713745, 1.0433443784713745, 1.0433443784713745, 1.0433443784713745, 1.0433443784713745, 1.0433443784713745, 1.0433443784713745, 1.0433443784713745, 1.0433443784713745, 1.0433443784713745, 1.0433443784713745, 1.0433443784713745, 1.0433443784713745, 1.0433443784713745, 1.0433443784713745, 1.0433443784713745, 1.0433443784713745, 1.0433443784713745, 1.0433443784713745, 1.0433443784713745, 1.0433443784713745, 1.0433443784713745, 1.0433443784713745, 1.0433443784713745, 1.0433443784713745, 1.0433443784713745, 1.0433443784713745, 1.0433443784713745, 1.0433443784713745, 1.0433443784713745, 1.0433443784713745, 1.0433443784713745, 1.0433443784713745, 1.0433443784713745, 1.0433443784713745, 1.0433443784713745, 1.0433443784713745, 1.0433443784713745, 1.0433443784713745, 1.0433443784713745, 1.0433443784713745, 1.0433443784713745, 1.0433443784713745, 1.0433443784713745, 1.0433443784713745, 1.0433443784713745, 1.0433443784713745, 1.0433443784713745, 1.0433443784713745, 1.0433443784713745, 1.0433443784713745, 1.0433443784713745, 1.0433443784713745, 1.0433443784713745, 1.0433443784713745, 1.0433443784713745, 1.0433443784713745, 1.0433443784713745, 1.0433443784713745, 1.0433443784713745, 1.0433443784713745, 1.0433443784713745, 1.0433443784713745, 1.0433443784713745, 1.0433443784713745, 1.0433443784713745, 1.0433443784713745, 1.0433443784713745, 1.0433443784713745, 1.0433443784713745, 1.0433443784713745, 1.0433443784713745, 1.0433443784713745, 1.0433443784713745, 1.0433443784713745, 1.0433443784713745, 1.0433443784713745, 1.0433443784713745, 1.0433443784713745, 1.0433443784713745, 1.0433443784713745, 1.0433443784713745, 1.0433443784713745, 1.0433443784713745, 1.0433443784713745, 1.0433443784713745, 1.0433443784713745, 1.0433443784713745, 1.0433443784713745, 1.0433443784713745, 1.0433443784713745, 1.0433443784713745, 1.0433443784713745, 1.0433443784713745, 1.0433443784713745, 1.0433443784713745, 1.0433443784713745, 1.0433443784713745, 1.0433443784713745, 1.0433443784713745, 1.0433443784713745, 1.0433443784713745, 1.0433443784713745, 1.0433443784713745, 1.0433443784713745, 1.0433443784713745, 1.0433443784713745, 1.0433443784713745, 1.0433443784713745, 1.0433443784713745, 1.0433443784713745, 1.0433443784713745, 1.0433443784713745, 1.0433443784713745, 1.0433443784713745, 1.0433443784713745, 1.0433443784713745, 1.0433443784713745, 1.0433443784713745, 1.0433443784713745, 1.0433443784713745, 1.0433443784713745, 1.0433443784713745, 1.0433443784713745, 1.0433443784713745, 1.0433443784713745, 1.0433443784713745, 1.0433443784713745, 1.0433443784713745, 1.0433443784713745, 1.0433443784713745, 1.0433443784713745, 1.0433443784713745, 1.0433443784713745, 1.0433443784713745, 1.0433443784713745, 1.0433443784713745, 1.0433443784713745, 1.0433443784713745, 1.0433443784713745, 1.0433443784713745, 1.0433443784713745, 1.0433443784713745, 1.0433443784713745, 1.0433443784713745, 1.0433443784713745, 1.0433443784713745, 1.0433443784713745, 1.0433443784713745, 1.0433443784713745, 1.0433443784713745, 1.0433443784713745, 1.0433443784713745, 1.0433443784713745, 1.0433443784713745, 1.0433443784713745, 1.0433443784713745, 1.0433443784713745, 1.0433443784713745, 1.0433443784713745, 1.0433443784713745, 1.0433443784713745, 1.0433443784713745, 1.0433443784713745, 1.0433443784713745, 1.0433443784713745, 1.0433443784713745, 1.0433443784713745, 1.0433443784713745, 1.0433443784713745, 1.0433443784713745, 1.0433443784713745, 1.0433443784713745, 1.0433443784713745, 1.0433443784713745, 1.0433443784713745, 1.0433443784713745, 1.0433443784713745, 1.0433443784713745, 1.0433443784713745, 1.0433443784713745, 1.0433443784713745, 1.0433443784713745, 1.0433443784713745, 1.0433443784713745, 1.0433443784713745, 1.0433443784713745, 1.0433443784713745, 1.0433443784713745, 1.0433443784713745, 1.0433443784713745, 1.0433443784713745, 1.0433443784713745, 1.0433443784713745, 1.0433443784713745, 1.0433443784713745, 1.0433443784713745, 1.0433443784713745, 1.0433443784713745, 1.0433443784713745, 1.0433443784713745, 1.0433443784713745, 1.0433443784713745, 1.0433443784713745, 1.0433443784713745, 1.0433443784713745, 1.0433443784713745, 1.0433443784713745, 1.0433443784713745, 1.0433443784713745, 1.0433443784713745, 1.0433443784713745, 1.0433443784713745, 1.0433443784713745, 1.0433443784713745, 1.0433443784713745, 1.0433443784713745, 1.0433443784713745, 1.0433443784713745, 1.0433443784713745, 1.0433443784713745, 1.0433443784713745, 1.0433443784713745, 1.0433443784713745, 1.0433443784713745, 1.0433443784713745, 1.0433443784713745, 1.0433443784713745, 1.0433443784713745, 1.0433443784713745, 1.0433443784713745, 1.0433443784713745, 1.0433443784713745, 1.0433443784713745, 1.0433443784713745, 1.0433443784713745, 1.0433443784713745, 1.0433443784713745, 1.0433443784713745, 1.0433443784713745, 1.0433443784713745, 1.0433443784713745, 1.0433443784713745, 1.0433443784713745, 1.0433443784713745, 1.0433443784713745, 1.0433443784713745, 1.0433443784713745, 1.0433443784713745, 1.0433443784713745, 1.0433443784713745, 1.0433443784713745, 1.0433443784713745, 1.0433443784713745, 1.0433443784713745, 1.0433443784713745, 1.0433443784713745, 1.0433443784713745, 1.0433443784713745, 1.0433443784713745, 1.0433443784713745, 1.0433443784713745, 1.0433443784713745, 1.0433443784713745, 1.0433443784713745, 1.0433443784713745, 1.0433443784713745, 1.0433443784713745, 1.0433443784713745, 1.0433443784713745, 1.0433443784713745, 1.0433443784713745, 1.0433443784713745, 1.0433443784713745, 1.0433443784713745, 1.0433443784713745, 1.0433443784713745, 1.0433443784713745, 1.0433443784713745, 1.0433443784713745, 1.0433443784713745, 1.0433443784713745, 1.0433443784713745, 1.0433443784713745, 1.0433443784713745, 1.0433443784713745, 1.0433443784713745, 1.0433443784713745, 1.0433443784713745, 1.0433443784713745, 1.0433443784713745, 1.0433443784713745, 1.0433443784713745, 1.0433443784713745, 1.0433443784713745, 1.0433443784713745, 1.0433443784713745, 1.0433443784713745, 1.0433443784713745, 1.0433443784713745, 1.0433443784713745, 1.0433443784713745, 1.0433443784713745, 1.0433443784713745, 1.0433443784713745, 1.0433443784713745, 1.0433443784713745, 1.0433443784713745, 1.0433443784713745, 1.0433443784713745, 1.0433443784713745, 1.0433443784713745, 1.0433443784713745, 1.0433443784713745, 1.0433443784713745, 1.0433443784713745, 1.0433443784713745, 1.0433443784713745, 1.0433443784713745, 1.0433443784713745, 1.0433443784713745, 1.0433443784713745, 1.0433443784713745, 1.0433443784713745, 1.0433443784713745, 1.0433443784713745, 1.0433443784713745, 1.0433443784713745, 1.0433443784713745, 1.0433443784713745, 1.0433443784713745, 1.0433443784713745, 1.0433443784713745, 1.0433443784713745, 1.0433443784713745, 1.0433443784713745, 1.0433443784713745, 1.0433443784713745, 1.0433443784713745, 1.0433443784713745, 1.0433443784713745, 1.0433443784713745, 1.0433443784713745, 1.0433443784713745, 1.0433443784713745, 1.0433443784713745, 1.0433443784713745, 1.0433443784713745, 1.0433443784713745, 1.0433443784713745, 1.0433443784713745, 1.0433443784713745, 1.0433443784713745, 1.0433443784713745, 1.0433443784713745, 1.0433443784713745, 1.0433443784713745, 1.0433443784713745, 1.0433443784713745, 1.0433443784713745, 1.0433443784713745, 1.0433443784713745, 1.0433443784713745, 1.0433443784713745, 1.0433443784713745, 1.0433443784713745, 1.0433443784713745, 1.0433443784713745, 1.0433443784713745, 1.0433443784713745, 1.0433443784713745, 1.0433443784713745, 1.0433443784713745, 1.0433443784713745, 1.0433443784713745, 1.0433443784713745, 1.0433443784713745, 1.0433443784713745, 1.0433443784713745, 1.0433443784713745, 1.0433443784713745, 1.0433443784713745, 1.0433443784713745, 1.0433443784713745, 1.0433443784713745, 1.0433443784713745, 1.0433443784713745, 1.0433443784713745, 1.0433443784713745, 1.0433443784713745, 1.0433443784713745, 1.0433443784713745, 1.0433443784713745, 1.0433443784713745, 1.0433443784713745, 1.0433443784713745, 1.0433443784713745, 1.0433443784713745, 1.0433443784713745, 1.0433443784713745, 1.0433443784713745, 1.0433443784713745, 1.0433443784713745, 1.0433443784713745, 1.0433443784713745, 1.0433443784713745, 1.0433443784713745, 1.0433443784713745, 1.0433443784713745, 1.0433443784713745, 1.0433443784713745, 1.0433443784713745, 1.0433443784713745, 1.0433443784713745, 1.0433443784713745, 1.0433443784713745, 1.0433443784713745, 1.0433443784713745, 1.0433443784713745, 1.0433443784713745, 1.0433443784713745, 1.0433443784713745, 1.0433443784713745, 1.0433443784713745, 1.0433443784713745, 1.0433443784713745, 1.0433443784713745, 1.0433443784713745, 1.0433443784713745, 1.0433443784713745, 1.0433443784713745, 1.0433443784713745, 1.0433443784713745, 1.0433443784713745, 1.0433443784713745, 1.0433443784713745, 1.0433443784713745, 1.0433443784713745, 1.0433443784713745, 1.0433443784713745, 1.0433443784713745, 1.0433443784713745, 1.0433443784713745, 1.0433443784713745, 1.0433443784713745, 1.0433443784713745, 1.0433443784713745, 1.0433443784713745, 1.0433443784713745, 1.0433443784713745, 1.0433443784713745, 1.0433443784713745, 1.0433443784713745, 1.0433443784713745, 1.0433443784713745, 1.0433443784713745, 1.0433443784713745, 1.0433443784713745, 1.0433443784713745, 1.0433443784713745, 1.0433443784713745, 1.0433443784713745, 1.0433443784713745, 1.0433443784713745, 1.0433443784713745, 1.0433443784713745, 1.0433443784713745, 1.0433443784713745, 1.0433443784713745, 1.0433443784713745, 1.0433443784713745, 1.0433443784713745, 1.0433443784713745, 1.0433443784713745, 1.0433443784713745, 1.0433443784713745, 1.0433443784713745, 1.0433443784713745, 1.0433443784713745, 1.0433443784713745, 1.0433443784713745, 1.0433443784713745, 1.0433443784713745, 1.0433443784713745, 1.0433443784713745, 1.0433443784713745, 1.0433443784713745, 1.0433443784713745, 1.0433443784713745, 1.0433443784713745, 1.0433443784713745, 1.0433443784713745]\n"
     ]
    }
   ],
   "source": [
    "print(losses_train)\n",
    "print(losses_test)"
   ]
  },
  {
   "cell_type": "code",
   "execution_count": 59,
   "metadata": {},
   "outputs": [
    {
     "data": {
      "image/png": "[encoded data removed]",
      "text/plain": [
       "<Figure size 640x480 with 1 Axes>"
      ]
     },
     "metadata": {},
     "output_type": "display_data"
    }
   ],
   "source": [
    "# Plot loss per epoch\n",
    "plt.plot(range(epochs), losses_train, label='Train Loss')\n",
    "plt.plot(range(epochs), losses_test, label='Test Loss')\n",
    "plt.xlabel(\"Epoch\")\n",
    "plt.ylabel(\"Loss\")\n",
    "plt.title(\"Loss per Epoch\")\n",
    "plt.legend()\n",
    "plt.grid(True)\n",
    "plt.show()"
   ]
  },
  {
   "cell_type": "code",
   "execution_count": null,
   "metadata": {},
   "outputs": [
    {
     "data": {
      "text/plain": [
       "Sequential(\n",
       "  (0): Linear(in_features=4, out_features=32, bias=True)\n",
       "  (1): ReLU()\n",
       "  (2): Linear(in_features=32, out_features=16, bias=True)\n",
       "  (3): ReLU()\n",
       "  (4): Linear(in_features=16, out_features=3, bias=True)\n",
       ")"
      ]
     },
     "execution_count": 60,
     "metadata": {},
     "output_type": "execute_result"
    }
   ],
   "source": [
    "# class LRModel3 (nn.Module):\n",
    "#     def __init__(self, input_dim):\n",
    "#         super(LRModel3, self).__init__()\n",
    "#         self.fc1 = nn.Linear(input_dim, 32)\n",
    "#         self.relu1 = nn.ReLU()\n",
    "#         self.fc2 = nn.Linear(32, 16)\n",
    "#         self.relu2 = nn.ReLU()\n",
    "#         self.output = nn.Linear(16, 1)\n",
    "        \n",
    "#     def forward(self, x):\n",
    "#         x = self.fc1(x)\n",
    "#         x = self.relu1(x)\n",
    "#         x = self.fc2(x)\n",
    "#         x = self.relu2(x)\n",
    "#         x = self.output(x)\n",
    "#         return torch.sigmoid(x)\n",
    "\n",
    "\n",
    "model3 = nn.Sequential(\n",
    "    nn.Linear(input_dim, 32),\n",
    "    nn.ReLU(),\n",
    "    nn.Linear(32, 16),\n",
    "    nn.ReLU(),\n",
    "    nn.Linear(16, output_dim)\n",
    ")\n",
    "\n",
    "model3"
   ]
  },
  {
   "cell_type": "code",
   "execution_count": 61,
   "metadata": {},
   "outputs": [],
   "source": [
    "criterion = nn.CrossEntropyLoss()\n",
    "optimizer = optim.Adam(model3.parameters(), lr=0.01)"
   ]
  },
  {
   "cell_type": "code",
   "execution_count": 62,
   "metadata": {},
   "outputs": [
    {
     "name": "stdout",
     "output_type": "stream",
     "text": [
      "Epoch : [10/1000] | Loss_train : 0.5372 | Loss_test : 0.5530 | Accuracy_train : 0.7750  | Accuracy Test : 0.7000\n",
      "Epoch : [20/1000] | Loss_train : 0.2278 | Loss_test : 0.2587 | Accuracy_train : 0.9417  | Accuracy Test : 0.8667\n",
      "Epoch : [30/1000] | Loss_train : 0.0993 | Loss_test : 0.1318 | Accuracy_train : 0.9667  | Accuracy Test : 0.9333\n",
      "Epoch : [40/1000] | Loss_train : 0.0545 | Loss_test : 0.0741 | Accuracy_train : 0.9750  | Accuracy Test : 0.9667\n",
      "Epoch : [50/1000] | Loss_train : 0.0417 | Loss_test : 0.0704 | Accuracy_train : 0.9833  | Accuracy Test : 0.9667\n",
      "Epoch : [60/1000] | Loss_train : 0.0371 | Loss_test : 0.0633 | Accuracy_train : 0.9833  | Accuracy Test : 0.9667\n",
      "Epoch : [70/1000] | Loss_train : 0.0345 | Loss_test : 0.0724 | Accuracy_train : 0.9833  | Accuracy Test : 0.9667\n",
      "Epoch : [80/1000] | Loss_train : 0.0330 | Loss_test : 0.0765 | Accuracy_train : 0.9833  | Accuracy Test : 0.9667\n",
      "Epoch : [90/1000] | Loss_train : 0.0317 | Loss_test : 0.0842 | Accuracy_train : 0.9833  | Accuracy Test : 0.9667\n",
      "Epoch : [100/1000] | Loss_train : 0.0301 | Loss_test : 0.0949 | Accuracy_train : 0.9833  | Accuracy Test : 0.9667\n",
      "Epoch : [110/1000] | Loss_train : 0.0286 | Loss_test : 0.1059 | Accuracy_train : 0.9833  | Accuracy Test : 0.9667\n",
      "Epoch : [120/1000] | Loss_train : 0.0273 | Loss_test : 0.1150 | Accuracy_train : 0.9833  | Accuracy Test : 0.9667\n",
      "Epoch : [130/1000] | Loss_train : 0.0261 | Loss_test : 0.1233 | Accuracy_train : 0.9833  | Accuracy Test : 0.9333\n",
      "Epoch : [140/1000] | Loss_train : 0.0248 | Loss_test : 0.1324 | Accuracy_train : 0.9833  | Accuracy Test : 0.9333\n",
      "Epoch : [150/1000] | Loss_train : 0.0232 | Loss_test : 0.1406 | Accuracy_train : 0.9833  | Accuracy Test : 0.9333\n",
      "Epoch : [160/1000] | Loss_train : 0.0214 | Loss_test : 0.1495 | Accuracy_train : 0.9833  | Accuracy Test : 0.9333\n",
      "Epoch : [170/1000] | Loss_train : 0.0192 | Loss_test : 0.1566 | Accuracy_train : 0.9833  | Accuracy Test : 0.9333\n",
      "Epoch : [180/1000] | Loss_train : 0.0171 | Loss_test : 0.1593 | Accuracy_train : 0.9917  | Accuracy Test : 0.9333\n",
      "Epoch : [190/1000] | Loss_train : 0.0149 | Loss_test : 0.1632 | Accuracy_train : 1.0000  | Accuracy Test : 0.9333\n",
      "Epoch : [200/1000] | Loss_train : 0.0124 | Loss_test : 0.1663 | Accuracy_train : 1.0000  | Accuracy Test : 0.9667\n",
      "Epoch : [210/1000] | Loss_train : 0.0099 | Loss_test : 0.1721 | Accuracy_train : 1.0000  | Accuracy Test : 0.9667\n",
      "Epoch : [220/1000] | Loss_train : 0.0079 | Loss_test : 0.1643 | Accuracy_train : 1.0000  | Accuracy Test : 0.9667\n",
      "Epoch : [230/1000] | Loss_train : 0.0062 | Loss_test : 0.1678 | Accuracy_train : 1.0000  | Accuracy Test : 0.9667\n",
      "Epoch : [240/1000] | Loss_train : 0.0050 | Loss_test : 0.1668 | Accuracy_train : 1.0000  | Accuracy Test : 0.9667\n",
      "Epoch : [250/1000] | Loss_train : 0.0040 | Loss_test : 0.1683 | Accuracy_train : 1.0000  | Accuracy Test : 0.9667\n",
      "Epoch : [260/1000] | Loss_train : 0.0032 | Loss_test : 0.1626 | Accuracy_train : 1.0000  | Accuracy Test : 0.9667\n",
      "Epoch : [270/1000] | Loss_train : 0.0026 | Loss_test : 0.1637 | Accuracy_train : 1.0000  | Accuracy Test : 0.9667\n",
      "Epoch : [280/1000] | Loss_train : 0.0022 | Loss_test : 0.1620 | Accuracy_train : 1.0000  | Accuracy Test : 0.9667\n",
      "Epoch : [290/1000] | Loss_train : 0.0019 | Loss_test : 0.1600 | Accuracy_train : 1.0000  | Accuracy Test : 0.9667\n",
      "Epoch : [300/1000] | Loss_train : 0.0016 | Loss_test : 0.1588 | Accuracy_train : 1.0000  | Accuracy Test : 0.9667\n",
      "Epoch : [310/1000] | Loss_train : 0.0014 | Loss_test : 0.1580 | Accuracy_train : 1.0000  | Accuracy Test : 0.9667\n",
      "Epoch : [320/1000] | Loss_train : 0.0012 | Loss_test : 0.1573 | Accuracy_train : 1.0000  | Accuracy Test : 0.9667\n",
      "Epoch : [330/1000] | Loss_train : 0.0011 | Loss_test : 0.1591 | Accuracy_train : 1.0000  | Accuracy Test : 0.9667\n",
      "Epoch : [340/1000] | Loss_train : 0.0009 | Loss_test : 0.1563 | Accuracy_train : 1.0000  | Accuracy Test : 0.9667\n",
      "Epoch : [350/1000] | Loss_train : 0.0008 | Loss_test : 0.1572 | Accuracy_train : 1.0000  | Accuracy Test : 0.9667\n",
      "Epoch : [360/1000] | Loss_train : 0.0008 | Loss_test : 0.1603 | Accuracy_train : 1.0000  | Accuracy Test : 0.9667\n",
      "Epoch : [370/1000] | Loss_train : 0.0007 | Loss_test : 0.1644 | Accuracy_train : 1.0000  | Accuracy Test : 0.9667\n",
      "Epoch : [380/1000] | Loss_train : 0.0006 | Loss_test : 0.1696 | Accuracy_train : 1.0000  | Accuracy Test : 0.9667\n",
      "Epoch : [390/1000] | Loss_train : 0.0006 | Loss_test : 0.1748 | Accuracy_train : 1.0000  | Accuracy Test : 0.9667\n",
      "Epoch : [400/1000] | Loss_train : 0.0005 | Loss_test : 0.1784 | Accuracy_train : 1.0000  | Accuracy Test : 0.9667\n",
      "Epoch : [410/1000] | Loss_train : 0.0005 | Loss_test : 0.1858 | Accuracy_train : 1.0000  | Accuracy Test : 0.9667\n",
      "Epoch : [420/1000] | Loss_train : 0.0004 | Loss_test : 0.1888 | Accuracy_train : 1.0000  | Accuracy Test : 0.9667\n",
      "Epoch : [430/1000] | Loss_train : 0.0004 | Loss_test : 0.1939 | Accuracy_train : 1.0000  | Accuracy Test : 0.9667\n",
      "Epoch : [440/1000] | Loss_train : 0.0004 | Loss_test : 0.1958 | Accuracy_train : 1.0000  | Accuracy Test : 0.9667\n",
      "Epoch : [450/1000] | Loss_train : 0.0003 | Loss_test : 0.2013 | Accuracy_train : 1.0000  | Accuracy Test : 0.9667\n",
      "Epoch : [460/1000] | Loss_train : 0.0003 | Loss_test : 0.2049 | Accuracy_train : 1.0000  | Accuracy Test : 0.9667\n",
      "Epoch : [470/1000] | Loss_train : 0.0003 | Loss_test : 0.2089 | Accuracy_train : 1.0000  | Accuracy Test : 0.9667\n",
      "Epoch : [480/1000] | Loss_train : 0.0003 | Loss_test : 0.2114 | Accuracy_train : 1.0000  | Accuracy Test : 0.9667\n",
      "Epoch : [490/1000] | Loss_train : 0.0003 | Loss_test : 0.2145 | Accuracy_train : 1.0000  | Accuracy Test : 0.9667\n",
      "Epoch : [500/1000] | Loss_train : 0.0003 | Loss_test : 0.2172 | Accuracy_train : 1.0000  | Accuracy Test : 0.9667\n",
      "Epoch : [510/1000] | Loss_train : 0.0002 | Loss_test : 0.2200 | Accuracy_train : 1.0000  | Accuracy Test : 0.9667\n",
      "Epoch : [520/1000] | Loss_train : 0.0002 | Loss_test : 0.2242 | Accuracy_train : 1.0000  | Accuracy Test : 0.9667\n",
      "Epoch : [530/1000] | Loss_train : 0.0002 | Loss_test : 0.2265 | Accuracy_train : 1.0000  | Accuracy Test : 0.9667\n",
      "Epoch : [540/1000] | Loss_train : 0.0002 | Loss_test : 0.2283 | Accuracy_train : 1.0000  | Accuracy Test : 0.9667\n",
      "Epoch : [550/1000] | Loss_train : 0.0002 | Loss_test : 0.2315 | Accuracy_train : 1.0000  | Accuracy Test : 0.9667\n",
      "Epoch : [560/1000] | Loss_train : 0.0002 | Loss_test : 0.2331 | Accuracy_train : 1.0000  | Accuracy Test : 0.9667\n",
      "Epoch : [570/1000] | Loss_train : 0.0002 | Loss_test : 0.2351 | Accuracy_train : 1.0000  | Accuracy Test : 0.9667\n",
      "Epoch : [580/1000] | Loss_train : 0.0002 | Loss_test : 0.2372 | Accuracy_train : 1.0000  | Accuracy Test : 0.9667\n",
      "Epoch : [590/1000] | Loss_train : 0.0002 | Loss_test : 0.2396 | Accuracy_train : 1.0000  | Accuracy Test : 0.9667\n",
      "Epoch : [600/1000] | Loss_train : 0.0002 | Loss_test : 0.2411 | Accuracy_train : 1.0000  | Accuracy Test : 0.9667\n",
      "Epoch : [610/1000] | Loss_train : 0.0001 | Loss_test : 0.2418 | Accuracy_train : 1.0000  | Accuracy Test : 0.9667\n",
      "Epoch : [620/1000] | Loss_train : 0.0001 | Loss_test : 0.2424 | Accuracy_train : 1.0000  | Accuracy Test : 0.9667\n",
      "Epoch : [630/1000] | Loss_train : 0.0001 | Loss_test : 0.2428 | Accuracy_train : 1.0000  | Accuracy Test : 0.9667\n",
      "Epoch : [640/1000] | Loss_train : 0.0001 | Loss_test : 0.2441 | Accuracy_train : 1.0000  | Accuracy Test : 0.9667\n",
      "Epoch : [650/1000] | Loss_train : 0.0001 | Loss_test : 0.2449 | Accuracy_train : 1.0000  | Accuracy Test : 0.9667\n",
      "Epoch : [660/1000] | Loss_train : 0.0001 | Loss_test : 0.2457 | Accuracy_train : 1.0000  | Accuracy Test : 0.9667\n",
      "Epoch : [670/1000] | Loss_train : 0.0001 | Loss_test : 0.2465 | Accuracy_train : 1.0000  | Accuracy Test : 0.9667\n",
      "Epoch : [680/1000] | Loss_train : 0.0001 | Loss_test : 0.2459 | Accuracy_train : 1.0000  | Accuracy Test : 0.9667\n",
      "Epoch : [690/1000] | Loss_train : 0.0001 | Loss_test : 0.2485 | Accuracy_train : 1.0000  | Accuracy Test : 0.9667\n",
      "Epoch : [700/1000] | Loss_train : 0.0001 | Loss_test : 0.2490 | Accuracy_train : 1.0000  | Accuracy Test : 0.9667\n",
      "Epoch : [710/1000] | Loss_train : 0.0001 | Loss_test : 0.2494 | Accuracy_train : 1.0000  | Accuracy Test : 0.9667\n",
      "Epoch : [720/1000] | Loss_train : 0.0001 | Loss_test : 0.2505 | Accuracy_train : 1.0000  | Accuracy Test : 0.9667\n",
      "Epoch : [730/1000] | Loss_train : 0.0001 | Loss_test : 0.2508 | Accuracy_train : 1.0000  | Accuracy Test : 0.9667\n",
      "Epoch : [740/1000] | Loss_train : 0.0001 | Loss_test : 0.2516 | Accuracy_train : 1.0000  | Accuracy Test : 0.9667\n",
      "Epoch : [750/1000] | Loss_train : 0.0001 | Loss_test : 0.2521 | Accuracy_train : 1.0000  | Accuracy Test : 0.9667\n",
      "Epoch : [760/1000] | Loss_train : 0.0001 | Loss_test : 0.2523 | Accuracy_train : 1.0000  | Accuracy Test : 0.9667\n",
      "Epoch : [770/1000] | Loss_train : 0.0001 | Loss_test : 0.2528 | Accuracy_train : 1.0000  | Accuracy Test : 0.9667\n",
      "Epoch : [780/1000] | Loss_train : 0.0001 | Loss_test : 0.2534 | Accuracy_train : 1.0000  | Accuracy Test : 0.9667\n",
      "Epoch : [790/1000] | Loss_train : 0.0001 | Loss_test : 0.2535 | Accuracy_train : 1.0000  | Accuracy Test : 0.9667\n",
      "Epoch : [800/1000] | Loss_train : 0.0001 | Loss_test : 0.2544 | Accuracy_train : 1.0000  | Accuracy Test : 0.9667\n",
      "Epoch : [810/1000] | Loss_train : 0.0001 | Loss_test : 0.2545 | Accuracy_train : 1.0000  | Accuracy Test : 0.9667\n",
      "Epoch : [820/1000] | Loss_train : 0.0001 | Loss_test : 0.2551 | Accuracy_train : 1.0000  | Accuracy Test : 0.9667\n",
      "Epoch : [830/1000] | Loss_train : 0.0001 | Loss_test : 0.2555 | Accuracy_train : 1.0000  | Accuracy Test : 0.9667\n",
      "Epoch : [840/1000] | Loss_train : 0.0001 | Loss_test : 0.2557 | Accuracy_train : 1.0000  | Accuracy Test : 0.9667\n",
      "Epoch : [850/1000] | Loss_train : 0.0001 | Loss_test : 0.2562 | Accuracy_train : 1.0000  | Accuracy Test : 0.9667\n",
      "Epoch : [860/1000] | Loss_train : 0.0001 | Loss_test : 0.2568 | Accuracy_train : 1.0000  | Accuracy Test : 0.9667\n",
      "Epoch : [870/1000] | Loss_train : 0.0001 | Loss_test : 0.2568 | Accuracy_train : 1.0000  | Accuracy Test : 0.9667\n",
      "Epoch : [880/1000] | Loss_train : 0.0001 | Loss_test : 0.2572 | Accuracy_train : 1.0000  | Accuracy Test : 0.9667\n",
      "Epoch : [890/1000] | Loss_train : 0.0001 | Loss_test : 0.2584 | Accuracy_train : 1.0000  | Accuracy Test : 0.9667\n",
      "Epoch : [900/1000] | Loss_train : 0.0001 | Loss_test : 0.2582 | Accuracy_train : 1.0000  | Accuracy Test : 0.9667\n",
      "Epoch : [910/1000] | Loss_train : 0.0001 | Loss_test : 0.2587 | Accuracy_train : 1.0000  | Accuracy Test : 0.9667\n",
      "Epoch : [920/1000] | Loss_train : 0.0001 | Loss_test : 0.2591 | Accuracy_train : 1.0000  | Accuracy Test : 0.9667\n",
      "Epoch : [930/1000] | Loss_train : 0.0001 | Loss_test : 0.2593 | Accuracy_train : 1.0000  | Accuracy Test : 0.9667\n",
      "Epoch : [940/1000] | Loss_train : 0.0001 | Loss_test : 0.2602 | Accuracy_train : 1.0000  | Accuracy Test : 0.9667\n",
      "Epoch : [950/1000] | Loss_train : 0.0000 | Loss_test : 0.2601 | Accuracy_train : 1.0000  | Accuracy Test : 0.9667\n",
      "Epoch : [960/1000] | Loss_train : 0.0000 | Loss_test : 0.2604 | Accuracy_train : 1.0000  | Accuracy Test : 0.9667\n",
      "Epoch : [970/1000] | Loss_train : 0.0000 | Loss_test : 0.2609 | Accuracy_train : 1.0000  | Accuracy Test : 0.9667\n",
      "Epoch : [980/1000] | Loss_train : 0.0000 | Loss_test : 0.2615 | Accuracy_train : 1.0000  | Accuracy Test : 0.9667\n",
      "Epoch : [990/1000] | Loss_train : 0.0000 | Loss_test : 0.2615 | Accuracy_train : 1.0000  | Accuracy Test : 0.9667\n",
      "Epoch : [1000/1000] | Loss_train : 0.0000 | Loss_test : 0.2623 | Accuracy_train : 1.0000  | Accuracy Test : 0.9667\n"
     ]
    }
   ],
   "source": [
    "# Training Loop\n",
    "torch.manual_seed(42)\n",
    "\n",
    "epochs = 1000\n",
    "losses_train = []\n",
    "losses_test = []\n",
    "\n",
    "for epoch in range(epochs):\n",
    "    model3.train()\n",
    "    \n",
    "    output_train = model3(X_train_tensor)\n",
    "\n",
    "    loss_train = criterion(output_train,  y_train_tensor)\n",
    "    \n",
    "    losses_train.append(loss_train.item())\n",
    "    \n",
    "    _, output_label_train = torch.max(output_train, 1)\n",
    "        \n",
    "    accuracy_train = (output_label_train == y_train_tensor).float().mean()\n",
    "        \n",
    "    optimizer.zero_grad()\n",
    "    \n",
    "    loss_train.backward()\n",
    "    \n",
    "    optimizer.step()\n",
    "    \n",
    "    # Evaluasi akurasi\n",
    "    from sklearn.metrics import confusion_matrix, classification_report\n",
    "\n",
    "    model1.eval()\n",
    "    with torch.no_grad():\n",
    "        output_test = model3(X_test_tensor)\n",
    "        \n",
    "        loss_test = criterion(output_test,  y_test_tensor)\n",
    "        \n",
    "        losses_test.append(loss_test.item())\n",
    "        \n",
    "        _, output_label_test = torch.max(output_test, 1)\n",
    "                \n",
    "        accuracy_test = (output_label_test == y_test_tensor).float().mean()\n",
    "    \n",
    "    if (epoch + 1) % 10 == 0:\n",
    "        print(f\"Epoch : [{epoch+1}/{epochs}] | Loss_train : {loss_train.item():.4f} | Loss_test : {loss_test.item():.4f} | Accuracy_train : {accuracy_train:.4f}  | Accuracy Test : {accuracy_test:.4f}\")"
   ]
  },
  {
   "cell_type": "code",
   "execution_count": 63,
   "metadata": {},
   "outputs": [
    {
     "name": "stdout",
     "output_type": "stream",
     "text": [
      "confusion matrix : [[40  0  0]\n",
      " [ 0 40  0]\n",
      " [ 0  0 40]]\n",
      "Classification report :               precision    recall  f1-score   support\n",
      "\n",
      "           0       1.00      1.00      1.00        40\n",
      "           1       1.00      1.00      1.00        40\n",
      "           2       1.00      1.00      1.00        40\n",
      "\n",
      "    accuracy                           1.00       120\n",
      "   macro avg       1.00      1.00      1.00       120\n",
      "weighted avg       1.00      1.00      1.00       120\n",
      "\n"
     ]
    }
   ],
   "source": [
    "# konversi ke numpy untuk sklearn\n",
    "y_true_train = y_train_tensor.numpy()\n",
    "y_pred_train = output_label_train.numpy()\n",
    "    \n",
    "# Confusion matrix data train\n",
    "cm_train = confusion_matrix(y_true_train, y_pred_train)\n",
    "print(f\"confusion matrix : {cm_train}\")\n",
    "\n",
    "# Classification report (precision, recall, f1-score) data train\n",
    "cr_train = classification_report(y_true_train, y_pred_train)\n",
    "print(f\"Classification report : {cr_train}\")"
   ]
  },
  {
   "cell_type": "code",
   "execution_count": 64,
   "metadata": {},
   "outputs": [
    {
     "name": "stdout",
     "output_type": "stream",
     "text": [
      "confusion matrix : [[10  0  0]\n",
      " [ 0  9  1]\n",
      " [ 0  0 10]]\n",
      "Classification report :               precision    recall  f1-score   support\n",
      "\n",
      "           0       1.00      1.00      1.00        10\n",
      "           1       1.00      0.90      0.95        10\n",
      "           2       0.91      1.00      0.95        10\n",
      "\n",
      "    accuracy                           0.97        30\n",
      "   macro avg       0.97      0.97      0.97        30\n",
      "weighted avg       0.97      0.97      0.97        30\n",
      "\n"
     ]
    }
   ],
   "source": [
    "# konversi ke numpy untuk sklearn\n",
    "y_true_test = y_test_tensor.numpy()\n",
    "y_pred_test = output_label_test.numpy()\n",
    "\n",
    "# Confusion matrix data test\n",
    "cm_test = confusion_matrix(y_true_test, y_pred_test)\n",
    "print(f\"confusion matrix : {cm_test}\")\n",
    "\n",
    "# Classification report (precision, recall, f1-score) data test\n",
    "cr_test = classification_report(y_true_test, y_pred_test)\n",
    "print(f\"Classification report : {cr_test}\")"
   ]
  },
  {
   "cell_type": "code",
   "execution_count": 65,
   "metadata": {},
   "outputs": [
    {
     "data": {
      "image/png": "[encoded data removed]",
      "text/plain": [
       "<Figure size 600x400 with 2 Axes>"
      ]
     },
     "metadata": {},
     "output_type": "display_data"
    }
   ],
   "source": [
    "import seaborn as sns\n",
    "import matplotlib.pyplot as plt\n",
    "from sklearn.metrics import confusion_matrix, classification_report\n",
    "\n",
    "# Visualisasi\n",
    "plt.figure(figsize=(6,4))\n",
    "sns.heatmap(cm_train, annot=True, fmt='d', cmap='Blues', xticklabels=['Setosa', 'Versicolor', 'Virginica'], \n",
    "            yticklabels=['Setosa', 'Versicolor', 'Virginica'])\n",
    "plt.xlabel('Predicted Label')\n",
    "plt.ylabel('True Label')\n",
    "plt.title('Confusion Matrix')\n",
    "plt.show()"
   ]
  },
  {
   "cell_type": "code",
   "execution_count": 66,
   "metadata": {},
   "outputs": [
    {
     "data": {
      "image/png": "[encoded data removed]",
      "text/plain": [
       "<Figure size 600x400 with 2 Axes>"
      ]
     },
     "metadata": {},
     "output_type": "display_data"
    }
   ],
   "source": [
    "import seaborn as sns\n",
    "import matplotlib.pyplot as plt\n",
    "from sklearn.metrics import confusion_matrix, classification_report\n",
    "\n",
    "# Visualisasi\n",
    "plt.figure(figsize=(6,4))\n",
    "sns.heatmap(cm_test, annot=True, fmt='d', cmap='Blues', xticklabels=['Setosa', 'Versicolor', 'Virginica'], \n",
    "            yticklabels=['Setosa', 'Versicolor', 'Virginica'])\n",
    "plt.xlabel('Predicted Label')\n",
    "plt.ylabel('True Label')\n",
    "plt.title('Confusion Matrix')\n",
    "plt.show()"
   ]
  },
  {
   "cell_type": "code",
   "execution_count": 67,
   "metadata": {},
   "outputs": [
    {
     "name": "stdout",
     "output_type": "stream",
     "text": [
      "[1.088560700416565, 1.0222581624984741, 0.9573547840118408, 0.8930256962776184, 0.8289355039596558, 0.7648380994796753, 0.7025951743125916, 0.6426219940185547, 0.5869491100311279, 0.5371797680854797, 0.4931897222995758, 0.4542202353477478, 0.4180966019630432, 0.38381341099739075, 0.3510451912879944, 0.3208552896976471, 0.29367485642433167, 0.269454687833786, 0.2477618008852005, 0.22776950895786285, 0.20885032415390015, 0.1912401020526886, 0.17569518089294434, 0.16249045729637146, 0.15079718828201294, 0.1394931524991989, 0.12828513979911804, 0.11756507307291031, 0.10791300982236862, 0.09933075308799744, 0.0916263535618782, 0.08458852022886276, 0.07869961112737656, 0.07408450543880463, 0.07013989984989166, 0.06636110693216324, 0.06268434226512909, 0.05955030769109726, 0.056944914162158966, 0.05450552701950073, 0.05214645713567734, 0.05011504516005516, 0.048532404005527496, 0.04719341918826103, 0.045911755412817, 0.04478299990296364, 0.04394613951444626, 0.04324967786669731, 0.04247957095503807, 0.041737787425518036, 0.0411272794008255, 0.04056035727262497, 0.03995388746261597, 0.03939685598015785, 0.03895535320043564, 0.03854665905237198, 0.03812170401215553, 0.03773634135723114, 0.03740942105650902, 0.037076763808727264, 0.03672828525304794, 0.03641896694898605, 0.03614426776766777, 0.03585902974009514, 0.0355805903673172, 0.03534158319234848, 0.03511788696050644, 0.034900225698947906, 0.034710731357336044, 0.03454013541340828, 0.034360941499471664, 0.0341821163892746, 0.03401302546262741, 0.03384561836719513, 0.0336725115776062, 0.033510636538267136, 0.03335384279489517, 0.03320419043302536, 0.03307652100920677, 0.0329507552087307, 0.03282008320093155, 0.03269467130303383, 0.032568130642175674, 0.03243676573038101, 0.032308224588632584, 0.03218014910817146, 0.03204984590411186, 0.03192346170544624, 0.031803395599126816, 0.031685326248407364, 0.031573183834552765, 0.031458016484975815, 0.03134844824671745, 0.031203700229525566, 0.030974162742495537, 0.030694294720888138, 0.030387969687581062, 0.030229389667510986, 0.030208468437194824, 0.03011292777955532, 0.02993321605026722, 0.02971854992210865, 0.029474684968590736, 0.029293209314346313, 0.02923823706805706, 0.029143180698156357, 0.02900446206331253, 0.028821107000112534, 0.02866038680076599, 0.028583703562617302, 0.028448790311813354, 0.028269359841942787, 0.028163261711597443, 0.028023969382047653, 0.027951989322900772, 0.02783038280904293, 0.0276699997484684, 0.02755546383559704, 0.027420442551374435, 0.02732613869011402, 0.027208173647522926, 0.027052350342273712, 0.026939338073134422, 0.026796838268637657, 0.026709059253335, 0.02658906579017639, 0.02642493136227131, 0.026315700262784958, 0.02618572860956192, 0.02608088217675686, 0.025954831391572952, 0.02581990510225296, 0.025714905932545662, 0.025586606934666634, 0.025419484823942184, 0.025335753336548805, 0.025192473083734512, 0.025016069412231445, 0.024897469207644463, 0.024750707671046257, 0.024609403684735298, 0.02445981092751026, 0.02431221678853035, 0.024197863414883614, 0.02406412549316883, 0.02389700338244438, 0.02371673658490181, 0.0236478503793478, 0.02349037490785122, 0.023231230676174164, 0.023082157596945763, 0.02291065827012062, 0.02272127941250801, 0.02256985940039158, 0.022366445511579514, 0.022184137254953384, 0.02199462614953518, 0.021800512447953224, 0.021572571247816086, 0.021431386470794678, 0.02118811570107937, 0.020978456363081932, 0.020785655826330185, 0.020611386746168137, 0.02033006213605404, 0.020101703703403473, 0.01993183046579361, 0.019712455570697784, 0.019415292888879776, 0.019220296293497086, 0.01900630071759224, 0.018760239705443382, 0.01863512396812439, 0.01838180050253868, 0.018213894218206406, 0.018028872087597847, 0.01779782958328724, 0.017691610381007195, 0.017296258360147476, 0.017086081206798553, 0.01694151945412159, 0.016797879710793495, 0.01637766882777214, 0.01624368131160736, 0.01607251912355423, 0.015898551791906357, 0.01569102331995964, 0.015426957979798317, 0.015186477452516556, 0.01487119309604168, 0.014588648453354836, 0.014419987797737122, 0.014272408559918404, 0.013883699662983418, 0.013674677349627018, 0.013485942035913467, 0.0132270697504282, 0.013043103739619255, 0.012719675898551941, 0.012443829327821732, 0.012136108241975307, 0.011826927773654461, 0.011637795716524124, 0.011240141466259956, 0.011013844981789589, 0.01098373718559742, 0.01081965770572424, 0.010683420114219189, 0.01034518238157034, 0.009861348196864128, 0.00977792777121067, 0.00977446511387825, 0.009598160162568092, 0.009398862719535828, 0.009153389371931553, 0.009001084603369236, 0.008757450617849827, 0.008392873220145702, 0.008249150589108467, 0.0079204635694623, 0.007783650886267424, 0.00771771464496851, 0.007438985630869865, 0.007250281050801277, 0.007032427471131086, 0.006871714722365141, 0.006720103323459625, 0.006592161953449249, 0.0064454274252057076, 0.006229119375348091, 0.006166421342641115, 0.005997112952172756, 0.0058545987121760845, 0.00572601705789566, 0.005635370966047049, 0.005474410485476255, 0.005355337634682655, 0.005289924331009388, 0.0051144142635166645, 0.005007850471884012, 0.004886731505393982, 0.00486470852047205, 0.004675055854022503, 0.0046189832501113415, 0.004433486144989729, 0.004382506012916565, 0.004237067420035601, 0.0041829911060631275, 0.004045924637466669, 0.004013365134596825, 0.0038804314099252224, 0.0038237995468080044, 0.003701510839164257, 0.0036151991225779057, 0.0035870238207280636, 0.003528580069541931, 0.003431034041568637, 0.003352214116603136, 0.0032713026739656925, 0.0032166405580937862, 0.0031389070209115744, 0.003077245084568858, 0.003016830189153552, 0.0029600088018924, 0.0028929756954312325, 0.0028360795695334673, 0.002764887409284711, 0.002715473296120763, 0.0026807202957570553, 0.0026254025287926197, 0.002575675258412957, 0.002527608536183834, 0.002473976230248809, 0.0024338443763554096, 0.002378706354647875, 0.0023421193473041058, 0.0023102527484297752, 0.0022552439477294683, 0.0022216923534870148, 0.0021845316514372826, 0.0021434605587273836, 0.002096711890771985, 0.002087587723508477, 0.002046874025836587, 0.002003580331802368, 0.001978109823539853, 0.0019445492653176188, 0.001906811841763556, 0.0018712449818849564, 0.001856519258581102, 0.0018335736822336912, 0.0017938464879989624, 0.001759223872795701, 0.0017350144917145371, 0.0017158138798549771, 0.0016834907000884414, 0.0016617762157693505, 0.0016356832347810268, 0.0016100361244753003, 0.0015860532876104116, 0.0015545106725767255, 0.0015382851706817746, 0.0015116797294467688, 0.001496306387707591, 0.001471407595090568, 0.0014485346619039774, 0.0014281963231042027, 0.0014093001373112202, 0.0013883861247450113, 0.0013681871350854635, 0.0013520927168428898, 0.0013290949864313006, 0.0013194194762036204, 0.0013019300531595945, 0.001280279248021543, 0.0012667146511375904, 0.0012473248643800616, 0.0012292523169890046, 0.0012236145557835698, 0.0012020064750686288, 0.0011838498758152127, 0.0011741312919184566, 0.0011601404985412955, 0.0011477019870653749, 0.001129716169089079, 0.001109365955926478, 0.0011052158661186695, 0.0010968991555273533, 0.0010783261386677623, 0.0010618407977744937, 0.0010486248647794127, 0.0010385101195424795, 0.0010238590184599161, 0.0010113369207829237, 0.001000348711386323, 0.000987961539067328, 0.0009784846333786845, 0.0009678304777480662, 0.0009502843604423106, 0.000944226048886776, 0.0009336326620541513, 0.0009166393429040909, 0.0009096289868466556, 0.000900203944183886, 0.0008876647334545851, 0.0008764336234889925, 0.000868217262905091, 0.0008575867977924645, 0.0008448121370747685, 0.0008366736001335084, 0.0008315250743180513, 0.0008233397966250777, 0.0008112190407700837, 0.0008047857554629445, 0.0008019597153179348, 0.0007901870994828641, 0.0007822183542884886, 0.0007768186624161899, 0.0007682277937419713, 0.0007578326039947569, 0.0007471774006262422, 0.0007363519980572164, 0.000735886103939265, 0.0007281741127371788, 0.0007165462011471391, 0.0007136539788916707, 0.0007030203705653548, 0.0006954585551284254, 0.0006900410517118871, 0.0006811395287513733, 0.000673714850563556, 0.0006648682756349444, 0.0006594579899683595, 0.0006546980584971607, 0.0006480413139797747, 0.0006417312542907894, 0.0006350197945721447, 0.0006266537820920348, 0.0006207510596141219, 0.0006151769193820655, 0.0006100002792663872, 0.0006027522613294423, 0.00059858727036044, 0.0005943504511378706, 0.000588078226428479, 0.000581640750169754, 0.000574063858948648, 0.0005711758276447654, 0.0005652549443766475, 0.0005591385415755212, 0.0005556782707571983, 0.0005503280553966761, 0.0005450794706121087, 0.000538754160515964, 0.0005345212412066758, 0.0005289350519888103, 0.0005254823481664062, 0.0005212922114878893, 0.0005160309956409037, 0.0005116538377478719, 0.0005086316959932446, 0.0005033931229263544, 0.0004987266729585826, 0.0004945252439938486, 0.0004913087468594313, 0.00048656572471372783, 0.0004807864024769515, 0.0004788533551618457, 0.0004754635156132281, 0.00046971996198408306, 0.0004666686581913382, 0.00046388644841499627, 0.0004592598124872893, 0.00045639422023668885, 0.0004511493316385895, 0.00044748387881554663, 0.0004446859529707581, 0.00044130103196948767, 0.00043844443280249834, 0.00043481533066369593, 0.00043063078192062676, 0.0004274447856005281, 0.0004263007431291044, 0.0004224531294312328, 0.0004185716970823705, 0.0004145046987105161, 0.0004126882995478809, 0.0004103857500012964, 0.0004068927955813706, 0.0004026626411359757, 0.00039975650724954903, 0.0003978584718424827, 0.00039483621367253363, 0.00039231815026141703, 0.0003886832855641842, 0.00038601874257437885, 0.0003831349313259125, 0.0003800504491664469, 0.0003764584835153073, 0.0003753697092179209, 0.0003723723639268428, 0.0003700466186273843, 0.0003671172889880836, 0.0003643390955403447, 0.0003616754256654531, 0.00035815982846543193, 0.0003553744754754007, 0.0003534856659825891, 0.000350543181411922, 0.00034761286224238575, 0.0003459557774476707, 0.00034339455305598676, 0.0003405259922146797, 0.0003381888964213431, 0.00033622741466388106, 0.00033333461033180356, 0.0003307788574602455, 0.0003284247068222612, 0.00032712341635487974, 0.0003247144049964845, 0.0003213471209164709, 0.0003195307217538357, 0.00031720573315396905, 0.00031474369461648166, 0.00031350235803984106, 0.0003115568542852998, 0.00030905616586096585, 0.0003068834776058793, 0.00030471087666228414, 0.00030276214238256216, 0.0003005655307788402, 0.00029825291130691767, 0.00029642588924616575, 0.0002941357670351863, 0.00029205874307081103, 0.0002905859728343785, 0.0002886019938159734, 0.0002864389680325985, 0.0002844555419869721, 0.00028296359232626855, 0.0002811384911183268, 0.00027892368962056935, 0.00027729463181458414, 0.0002752106520347297, 0.00027375988429412246, 0.000272123928880319, 0.00027059431886300445, 0.0002688179665710777, 0.0002666678628884256, 0.00026499564410187304, 0.00026354510919190943, 0.00026163115398958325, 0.00026048297877423465, 0.0002595127443782985, 0.00025722026475705206, 0.0002557627740316093, 0.000255030783591792, 0.0002531220961827785, 0.0002511210332158953, 0.00025014052516780794, 0.00024874956579878926, 0.0002467171580065042, 0.00024555291747674346, 0.00024495660909451544, 0.00024320163356605917, 0.00024137806030921638, 0.000239835717366077, 0.00023851494188420475, 0.00023673620307818055, 0.00023520775721408427, 0.00023416180920321494, 0.00023263464390765876, 0.00023157973191700876, 0.00023027982388157398, 0.0002290371194249019, 0.000228058488573879, 0.00022636255016550422, 0.00022547089611180127, 0.00022418329899664968, 0.0002225037314929068, 0.0002211472310591489, 0.00022037691087462008, 0.00021934813412372023, 0.00021782933617942035, 0.00021684660168830305, 0.0002158204442821443, 0.00021438732801470906, 0.0002132920635631308, 0.00021221353381406516, 0.00021104575716890395, 0.00020924666023347527, 0.00020843182574026287, 0.00020741474872920662, 0.00020637303532566875, 0.00020520613179542124, 0.00020421644148882478, 0.00020336585293989629, 0.0002020836982410401, 0.0002005162968998775, 0.0001999369851546362, 0.00019885902293026447, 0.0001974145561689511, 0.0001963876566151157, 0.0001953843457158655, 0.00019436588627286255, 0.00019335081742610782, 0.00019239280663896352, 0.00019155572226736695, 0.00019079326011706144, 0.0001895968453027308, 0.00018862519937101752, 0.00018742926476988941, 0.00018641205679159611, 0.0001855720329331234, 0.00018488250498194247, 0.00018395196821074933, 0.00018305410048924387, 0.00018175087461713701, 0.0001814747229218483, 0.00018082480528391898, 0.00017954564827959985, 0.0001784997875802219, 0.00017791410209611058, 0.00017712987028062344, 0.00017589345225133002, 0.00017492557526566088, 0.00017467993893660605, 0.00017393742746207863, 0.00017269836098421365, 0.00017154859961010516, 0.00017138695693574846, 0.0001706336479401216, 0.00016924276133067906, 0.00016874315042514354, 0.00016826321370899677, 0.0001671851787250489, 0.00016627558215986937, 0.00016571841842960566, 0.0001649524347158149, 0.00016376882558688521, 0.00016342144226655364, 0.00016275857342407107, 0.00016193794726859778, 0.000161341144121252, 0.00016028342361096293, 0.00015909530338831246, 0.00015912896196823567, 0.00015862433065194637, 0.0001577110233483836, 0.00015678269846830517, 0.00015617038297932595, 0.0001556638890178874, 0.0001549305598018691, 0.00015397513925563544, 0.0001532393362140283, 0.00015251296281348914, 0.00015206979878712445, 0.00015133146371226758, 0.00015068532957229763, 0.00015004973101895303, 0.00014947107410989702, 0.00014874186308588833, 0.00014824543904978782, 0.000147459635627456, 0.0001464408269384876, 0.00014617860142607242, 0.0001456142053939402, 0.00014476643991656601, 0.0001440900523448363, 0.0001436134334653616, 0.00014313528663478792, 0.00014245488273445517, 0.00014171387010719627, 0.00014112392091192305, 0.00014061744150239974, 0.00013993823085911572, 0.00013936124742031097, 0.0001389099343214184, 0.00013845160719938576, 0.00013803844922222197, 0.000137497263494879, 0.00013679848052561283, 0.0001360084570478648, 0.000135457405121997, 0.00013510635471902788, 0.00013445623335428536, 0.00013374433910939842, 0.0001331929088337347, 0.00013292720541357994, 0.00013235965161584318, 0.00013158300134819, 0.0001313182438025251, 0.00013060153287369758, 0.00013013301941100508, 0.0001296768750762567, 0.0001290835061809048, 0.00012849044287577271, 0.00012789314496330917, 0.0001274666137760505, 0.0001268891937797889, 0.0001264353486476466, 0.00012596613669302315, 0.00012563263589981943, 0.00012515232083387673, 0.00012457280536182225, 0.00012415621313266456, 0.00012369564501568675, 0.00012330817116890103, 0.00012280770170036703, 0.0001222870487254113, 0.00012147792585892603, 0.00012126275396440178, 0.00012098575825802982, 0.00012057154526701197, 0.00012006107135675848, 0.0001194523720187135, 0.00011887908476637676, 0.00011833137250505388, 0.00011794957390520722, 0.00011755557352444157, 0.00011706100485753268, 0.00011668985825963318, 0.00011631949746515602, 0.00011584664753172547, 0.0001153112025349401, 0.00011506841838127002, 0.00011461229587439448, 0.00011412401363486424, 0.00011371721484465525, 0.00011347310646669939, 0.00011298614117549732, 0.00011261543841101229, 0.0001122434186981991, 0.00011186140909558162, 0.00011140527203679085, 0.00011072454071836546, 0.00011055252980440855, 0.00011010496382368729, 0.00010956239566439763, 0.00010907043906627223, 0.00010859905887627974, 0.00010825804929481819, 0.00010795323032652959, 0.00010747832857305184, 0.00010693135118344799, 0.00010662329441402107, 0.00010629044118104503, 0.00010591883619781584, 0.00010551451850915328, 0.00010510697757126763, 0.00010462797217769548, 0.00010430244583403692, 0.00010413478594273329, 0.0001036309331539087, 0.00010311056394129992, 0.00010285501775797457, 0.00010243776341667399, 0.00010201519035035744, 0.00010165882122237235, 0.00010129885777132586, 0.00010100357030751184, 0.00010066313552670181, 0.00010029284021584317, 0.00010001136251958087, 9.960388706531376e-05, 9.913289977703243e-05, 9.879633580567315e-05, 9.843638690654188e-05, 9.824221342569217e-05, 9.79281248874031e-05, 9.753275662660599e-05, 9.727389988256618e-05, 9.682413656264544e-05, 9.628745465306565e-05, 9.60623801802285e-05, 9.568557288730517e-05, 9.531193063594401e-05, 9.499258158029988e-05, 9.47632797760889e-05, 9.439061977900565e-05, 9.403202420799062e-05, 9.381869313074276e-05, 9.34934287215583e-05, 9.30681053432636e-05, 9.292193863075227e-05, 9.258698992198333e-05, 9.222853259416297e-05, 9.195331949740648e-05, 9.18026125873439e-05, 9.151099220616743e-05, 9.112225961871445e-05, 9.0745284978766e-05, 9.062780736712739e-05, 9.039673022925854e-05, 8.993319352157414e-05, 8.960645936895162e-05, 8.952523785410449e-05, 8.918243111111224e-05, 8.879280358087271e-05, 8.836833876557648e-05, 8.81747473613359e-05, 8.795361645752564e-05, 8.767492545302957e-05, 8.732183778192848e-05, 8.716085721971467e-05, 8.695355791132897e-05, 8.647122740512714e-05, 8.625035843579099e-05, 8.603631431469694e-05, 8.584190072724596e-05, 8.54336321935989e-05, 8.515033550793305e-05, 8.496495138388127e-05, 8.481000259052962e-05, 8.43727175379172e-05, 8.413251634920016e-05, 8.399543730774894e-05, 8.369809802388772e-05, 8.328799594892189e-05, 8.306396193802357e-05, 8.282005728688091e-05, 8.256522414740175e-05, 8.229048398789018e-05, 8.207725477404892e-05, 8.188005449483171e-05, 8.165104372892529e-05, 8.133867231663316e-05, 8.111332135740668e-05, 8.082682325039059e-05, 8.054252248257399e-05, 8.036701183300465e-05, 8.011305908439681e-05, 7.991748134372756e-05, 7.966471457621083e-05, 7.944781827973202e-05, 7.918512710602954e-05, 7.895899761933833e-05, 7.860493496991694e-05, 7.843105413485318e-05, 7.82801944296807e-05, 7.794422708684579e-05, 7.767866918584332e-05, 7.750221266178414e-05, 7.737621490377933e-05, 7.712621300015599e-05, 7.677709800191224e-05, 7.663804717594758e-05, 7.642283162567765e-05, 7.618095696670935e-05, 7.594714406877756e-05, 7.56627123337239e-05, 7.546832057414576e-05, 7.526183617301285e-05, 7.506028487114236e-05, 7.48846578062512e-05, 7.45744546293281e-05, 7.437836757162586e-05, 7.419406028930098e-05, 7.395206921501085e-05, 7.381397881545126e-05, 7.35865905880928e-05, 7.327495404751971e-05, 7.307848864002153e-05, 7.285146421054378e-05, 7.265236490638927e-05, 7.249975169543177e-05, 7.223410648293793e-05, 7.20477182767354e-05, 7.182249828474596e-05, 7.165463466662914e-05, 7.141949026845396e-05, 7.122111856006086e-05, 7.0988193328958e-05, 7.075323082972318e-05, 7.055392052279785e-05, 7.037528848741204e-05, 7.024314982118085e-05, 7.002385973464698e-05, 6.975713040446863e-05, 6.958473386475816e-05, 6.939244485693052e-05, 6.917925202287734e-05, 6.899463915033266e-05, 6.875446706544608e-05, 6.858167762402445e-05, 6.846156611572951e-05, 6.820284761488438e-05, 6.797594687668607e-05, 6.782926357118413e-05, 6.77349598845467e-05, 6.746909639332443e-05, 6.718830263707787e-05, 6.703248072881252e-05, 6.689958536298946e-05, 6.668933929177001e-05, 6.64939361740835e-05, 6.642236985499039e-05, 6.620523345191032e-05, 6.590587872778997e-05, 6.577489693881944e-05, 6.560722249560058e-05, 6.538101297337562e-05, 6.523227057186887e-05, 6.509750528493896e-05, 6.493385444628075e-05, 6.472945824498311e-05, 6.450714863603935e-05, 6.437219417421147e-05, 6.423523154808208e-05, 6.400816346285865e-05, 6.383650179486722e-05, 6.369268521666527e-05, 6.34923271718435e-05, 6.329783354885876e-05, 6.314793427009135e-05, 6.302192923612893e-05, 6.28097404842265e-05, 6.25935208518058e-05, 6.245558324735612e-05, 6.235742330318317e-05, 6.219871283974499e-05, 6.199534982442856e-05, 6.179502088343725e-05, 6.164021033328027e-05, 6.150420813355595e-05, 6.135139847174287e-05, 6.119273894000798e-05, 6.109056266723201e-05, 6.0923881392227486e-05, 6.072146788937971e-05, 6.048144496162422e-05, 6.0402133385650814e-05, 6.02771615376696e-05, 6.0041096730856225e-05, 5.9900132328039035e-05, 5.984040762996301e-05, 5.971040445729159e-05, 5.951012281002477e-05, 5.932181375101209e-05, 5.9181027609156445e-05, 5.902236807742156e-05, 5.885368591407314e-05, 5.8656187320593745e-05, 5.851512469234876e-05, 5.845344639965333e-05, 5.83046130486764e-05, 5.803885869681835e-05, 5.7933815696742386e-05, 5.7831719459500164e-05, 5.772461008746177e-05, 5.759462510468438e-05, 5.7398119679419324e-05, 5.719363980460912e-05, 5.7039698731387034e-05, 5.687891462002881e-05, 5.6770764786051586e-05, 5.670534665114246e-05, 5.653579501085915e-05, 5.6331475207116455e-05, 5.615387635771185e-05, 5.604070975095965e-05, 5.5922642786754295e-05, 5.57223211217206e-05, 5.5575466831214726e-05, 5.540576603380032e-05, 5.53252684767358e-05, 5.519330079550855e-05, 5.4972169891698286e-05, 5.4853146139066666e-05, 5.475785656017251e-05, 5.463486013468355e-05, 5.4475112847285345e-05, 5.436591163743287e-05, 5.4225034546107054e-05, 5.4050393373472616e-05, 5.3950159781379625e-05, 5.381719529395923e-05, 5.361779039958492e-05, 5.348287595552392e-05, 5.3368741646409035e-05, 5.3240750276017934e-05, 5.311666973284446e-05, 5.29697717865929e-05, 5.283384962240234e-05, 5.273467468214221e-05, 5.2648349083028734e-05, 5.2501505706459284e-05, 5.2302086260169744e-05, 5.220774983172305e-05, 5.208073343965225e-05, 5.193492688704282e-05, 5.180691005080007e-05, 5.169275027583353e-05, 5.1625196647364646e-05, 5.147438423591666e-05, 5.133450758876279e-05, 5.127008626004681e-05, 5.112134385854006e-05, 5.098343899589963e-05, 5.0865313824033365e-05, 5.073823922430165e-05, 5.0599235692061484e-05, 5.047813101555221e-05, 5.028766827308573e-05, 5.023017365601845e-05, 5.014885027776472e-05, 5.0018890760838985e-05, 4.987796273780987e-05, 4.973997056367807e-05, 4.963568426319398e-05, 4.9543374188942835e-05, 4.938663187203929e-05, 4.928447742713615e-05, 4.91922146466095e-05, 4.902949876850471e-05, 4.88796504214406e-05, 4.8817062634043396e-05, 4.8713827709434554e-05, 4.8565019824309275e-05, 4.845394141739234e-05, 4.833886123378761e-05, 4.823367271455936e-05, 4.809373422176577e-05, 4.79606787848752e-05, 4.788118167198263e-05, 4.780373637913726e-05, 4.766783240484074e-05, 4.750917651108466e-05, 4.745662590721622e-05, 4.736137270811014e-05, 4.720456854556687e-05, 4.706456820713356e-05, 4.699505734606646e-05, 4.6898818254703656e-05, 4.67718236905057e-05, 4.667058965424076e-05, 4.6584205847466365e-05, 4.6442313760053366e-05, 4.631138654076494e-05, 4.62647840322461e-05, 4.615763828041963e-05, 4.6044504415476695e-05, 4.5935299567645416e-05, 4.581615576171316e-05, 4.5672211854252964e-05, 4.556106068775989e-05, 4.548664219328202e-05, 4.539732981356792e-05, 4.528121280600317e-05, 4.5165132178226486e-05, 4.5091728679835796e-05, 4.502425144892186e-05, 4.494086533668451e-05, 4.480488860281184e-05, 4.465698293643072e-05, 4.45864352514036e-05, 4.45258519903291e-05, 4.443655052455142e-05, 4.427683597896248e-05, 4.4162785343360156e-05]\n",
      "[1.035419225692749, 0.9732648134231567, 0.9138224124908447, 0.8544835448265076, 0.7940255403518677, 0.7360750436782837, 0.6816040873527527, 0.6327201724052429, 0.5901046395301819, 0.5529900789260864, 0.5185309052467346, 0.48509520292282104, 0.4516668915748596, 0.4168945550918579, 0.38262563943862915, 0.3503231406211853, 0.3220280110836029, 0.29781636595726013, 0.2770003080368042, 0.25872477889060974, 0.24287733435630798, 0.2293909192085266, 0.21779723465442657, 0.20646515488624573, 0.19422194361686707, 0.18091897666454315, 0.1671556830406189, 0.15382856130599976, 0.14205648005008698, 0.1317588984966278, 0.12189383804798126, 0.1124788448214531, 0.104249007999897, 0.09687820822000504, 0.09038800746202469, 0.08519221842288971, 0.08124179393053055, 0.07840747386217117, 0.07612622529268265, 0.07409395277500153, 0.07254962623119354, 0.07183141261339188, 0.07175564020872116, 0.07189228385686874, 0.07212727516889572, 0.07237573713064194, 0.07235617190599442, 0.07193217426538467, 0.07125171273946762, 0.07043919712305069, 0.06945853680372238, 0.06831669062376022, 0.06721069663763046, 0.06625056266784668, 0.06532078236341476, 0.06440483033657074, 0.06367535144090652, 0.06326830387115479, 0.06314248591661453, 0.0632576048374176, 0.06363589316606522, 0.06420522183179855, 0.06495174020528793, 0.06593535840511322, 0.06712771207094193, 0.06833017617464066, 0.06941212713718414, 0.07039283215999603, 0.07136805355548859, 0.07237888872623444, 0.07339830696582794, 0.07429282367229462, 0.07486561685800552, 0.07512964308261871, 0.07526196539402008, 0.07546151429414749, 0.07575500756502151, 0.07609295099973679, 0.07634923607110977, 0.07648620754480362, 0.07660599797964096, 0.07706587016582489, 0.07790517807006836, 0.0788080021739006, 0.07966358959674835, 0.08042790740728378, 0.08119240403175354, 0.08209823071956635, 0.08312024921178818, 0.08415646106004715, 0.08504059165716171, 0.08579126000404358, 0.08660014718770981, 0.08744721859693527, 0.08834457397460938, 0.08927378058433533, 0.09033165872097015, 0.09172377735376358, 0.09332171082496643, 0.09494274109601974, 0.09656759351491928, 0.0983181968331337, 0.10018424689769745, 0.10175066441297531, 0.10277419537305832, 0.10347380489110947, 0.10412716120481491, 0.10476350784301758, 0.1054227352142334, 0.10588155686855316, 0.1062498465180397, 0.106682188808918, 0.1074446439743042, 0.10848023742437363, 0.10961136966943741, 0.11055430769920349, 0.11126939207315445, 0.1122722327709198, 0.1136331781744957, 0.11501727998256683, 0.11588491499423981, 0.1163802295923233, 0.11716267466545105, 0.1182519868016243, 0.11940506845712662, 0.12006565183401108, 0.12025414407253265, 0.12087357044219971, 0.12205832451581955, 0.12332134693861008, 0.12393539398908615, 0.12408862262964249, 0.12490738928318024, 0.1264040172100067, 0.12758511304855347, 0.12825600802898407, 0.12893220782279968, 0.1299307495355606, 0.13128940761089325, 0.132380411028862, 0.13320760428905487, 0.13376633822917938, 0.13498474657535553, 0.13604296743869781, 0.1366220861673355, 0.13712209463119507, 0.1379721611738205, 0.1392671763896942, 0.14024348556995392, 0.14064933359622955, 0.1415504515171051, 0.14298060536384583, 0.14435727894306183, 0.14444899559020996, 0.1447855830192566, 0.14642216265201569, 0.14722035825252533, 0.14712205529212952, 0.1477474421262741, 0.14947527647018433, 0.15054777264595032, 0.1504189372062683, 0.15125612914562225, 0.15295909345149994, 0.15403541922569275, 0.15395072102546692, 0.15453657507896423, 0.15581031143665314, 0.15609554946422577, 0.15662963688373566, 0.15765084326267242, 0.15834487974643707, 0.15687088668346405, 0.15769171714782715, 0.1605919897556305, 0.16048316657543182, 0.15824350714683533, 0.159501314163208, 0.16101983189582825, 0.15932725369930267, 0.1584176868200302, 0.16150790452957153, 0.16385121643543243, 0.16370637714862823, 0.16389602422714233, 0.16563458740711212, 0.1646401733160019, 0.16289497911930084, 0.16320227086544037, 0.16324567794799805, 0.16160963475704193, 0.16177326440811157, 0.16639845073223114, 0.1687278002500534, 0.1696799099445343, 0.17131099104881287, 0.17106212675571442, 0.16917450726032257, 0.1673063337802887, 0.1662730574607849, 0.1640825867652893, 0.16151122748851776, 0.16353780031204224, 0.16523377597332, 0.16171425580978394, 0.1609312891960144, 0.1639287918806076, 0.16525788605213165, 0.1681656539440155, 0.17206190526485443, 0.16965726017951965, 0.17091307044029236, 0.17269779741764069, 0.16806240379810333, 0.16530856490135193, 0.16838563978672028, 0.1653347611427307, 0.16190914809703827, 0.16505709290504456, 0.1643475741147995, 0.16156743466854095, 0.16499744355678558, 0.16977503895759583, 0.16650034487247467, 0.16570165753364563, 0.16810522973537445, 0.16857972741127014, 0.16548393666744232, 0.16626688838005066, 0.16776058077812195, 0.16744880378246307, 0.16708967089653015, 0.17184938490390778, 0.17396633327007294, 0.17018389701843262, 0.1675911545753479, 0.1697353571653366, 0.16848209500312805, 0.16467387974262238, 0.1667632907629013, 0.17069201171398163, 0.16745595633983612, 0.16199640929698944, 0.16370590031147003, 0.16662907600402832, 0.1614917814731598, 0.15979048609733582, 0.16522079706192017, 0.17032429575920105, 0.16826452314853668, 0.1649271547794342, 0.16654083132743835, 0.16758091747760773, 0.1648644655942917, 0.16452369093894958, 0.16637317836284637, 0.16688241064548492, 0.1632981300354004, 0.16094107925891876, 0.1625801920890808, 0.1649511605501175, 0.16504815220832825, 0.16348157823085785, 0.1635884940624237, 0.16451214253902435, 0.16352923214435577, 0.1624329835176468, 0.1643029898405075, 0.16474561393260956, 0.1636969894170761, 0.1640702784061432, 0.1646832674741745, 0.16494515538215637, 0.16244681179523468, 0.15996728837490082, 0.15872731804847717, 0.16099540889263153, 0.16333217918872833, 0.1626300811767578, 0.16204115748405457, 0.1611594557762146, 0.15983431041240692, 0.1600513756275177, 0.16183754801750183, 0.16257056593894958, 0.16149219870567322, 0.16062228381633759, 0.1602621227502823, 0.15973372757434845, 0.15995906293392181, 0.15980906784534454, 0.1603870689868927, 0.16045932471752167, 0.16067758202552795, 0.1602323204278946, 0.15882571041584015, 0.15903110802173615, 0.16107751429080963, 0.16096656024456024, 0.15884548425674438, 0.15709787607192993, 0.15774177014827728, 0.15901246666908264, 0.15898984670639038, 0.15837307274341583, 0.15919838845729828, 0.16123268008232117, 0.1613987535238266, 0.15944944322109222, 0.15797284245491028, 0.15879957377910614, 0.1595177948474884, 0.15915630757808685, 0.15870504081249237, 0.15884022414684296, 0.15925884246826172, 0.15903283655643463, 0.15838949382305145, 0.15791171789169312, 0.15730047225952148, 0.15798118710517883, 0.15909962356090546, 0.1593351513147354, 0.15867780148983002, 0.15716075897216797, 0.15561076998710632, 0.1558304876089096, 0.15778973698616028, 0.15976695716381073, 0.1590925008058548, 0.15721982717514038, 0.1568344086408615, 0.15774288773536682, 0.1584935039281845, 0.1584567427635193, 0.1574239283800125, 0.15663200616836548, 0.15718474984169006, 0.15702199935913086, 0.15633074939250946, 0.15643379092216492, 0.15735353529453278, 0.15767289698123932, 0.15725280344486237, 0.15618585050106049, 0.1550883948802948, 0.15506961941719055, 0.15629985928535461, 0.15733638405799866, 0.1571844220161438, 0.1566549688577652, 0.15574046969413757, 0.15503837168216705, 0.15511584281921387, 0.15555529296398163, 0.15647704899311066, 0.15746797621250153, 0.15871508419513702, 0.15991583466529846, 0.16033963859081268, 0.1599818766117096, 0.15992671251296997, 0.16148105263710022, 0.16380378603935242, 0.16545210778713226, 0.1646210104227066, 0.1626957356929779, 0.16160334646701813, 0.16249915957450867, 0.16438783705234528, 0.16625738143920898, 0.16789083182811737, 0.16903404891490936, 0.16936467587947845, 0.16925080120563507, 0.16900210082530975, 0.16948376595973969, 0.1701458841562271, 0.17021241784095764, 0.16957472264766693, 0.1695237010717392, 0.1703677922487259, 0.17161297798156738, 0.17310966551303864, 0.17437390983104706, 0.17475713789463043, 0.1747646927833557, 0.17462332546710968, 0.17474514245986938, 0.17482855916023254, 0.17526359856128693, 0.17604684829711914, 0.17687015235424042, 0.17788411676883698, 0.1792096644639969, 0.180000439286232, 0.1807146966457367, 0.18046864867210388, 0.1793687492609024, 0.1784052848815918, 0.1785690188407898, 0.1801036149263382, 0.18193373084068298, 0.1833985596895218, 0.18400363624095917, 0.18373402953147888, 0.1832454651594162, 0.18338711559772491, 0.18430790305137634, 0.18583454191684723, 0.18675941228866577, 0.18679966032505035, 0.18655401468276978, 0.18679775297641754, 0.18758687376976013, 0.1885935217142105, 0.18917109072208405, 0.18891103565692902, 0.18858058750629425, 0.18877966701984406, 0.18989332020282745, 0.1908726543188095, 0.19128794968128204, 0.19164924323558807, 0.19128400087356567, 0.19082523882389069, 0.19121497869491577, 0.19213220477104187, 0.19322019815444946, 0.19394512474536896, 0.19409377872943878, 0.19444645941257477, 0.19527550041675568, 0.19648738205432892, 0.1973721981048584, 0.1975683718919754, 0.19699038565158844, 0.19609837234020233, 0.19558358192443848, 0.19576828181743622, 0.19677378237247467, 0.19800607860088348, 0.19932730495929718, 0.20035937428474426, 0.20084857940673828, 0.20054970681667328, 0.20026353001594543, 0.2001943737268448, 0.20072226226329803, 0.20126968622207642, 0.20174068212509155, 0.20198534429073334, 0.20200297236442566, 0.202300027012825, 0.20313917100429535, 0.20381461083889008, 0.20429843664169312, 0.20442113280296326, 0.20460493862628937, 0.2049323171377182, 0.20496766269207, 0.2047612965106964, 0.2045731246471405, 0.20517975091934204, 0.2063894420862198, 0.20713064074516296, 0.2075900286436081, 0.20800502598285675, 0.20821648836135864, 0.20888115465641022, 0.209603950381279, 0.21005840599536896, 0.2099194973707199, 0.20942573249340057, 0.20941339433193207, 0.20946484804153442, 0.20963387191295624, 0.21019099652767181, 0.21082274615764618, 0.21143828332424164, 0.21193799376487732, 0.2126920223236084, 0.2131824642419815, 0.21322019398212433, 0.2131880670785904, 0.21303874254226685, 0.21298415958881378, 0.21354743838310242, 0.21397922933101654, 0.21445995569229126, 0.21519352495670319, 0.2160985916852951, 0.2165181040763855, 0.2161611020565033, 0.21551750600337982, 0.21553407609462738, 0.21633991599082947, 0.21709588170051575, 0.2174329161643982, 0.21720276772975922, 0.21716976165771484, 0.21719448268413544, 0.217588871717453, 0.21873266994953156, 0.21991576254367828, 0.2207021862268448, 0.2206464260816574, 0.22025108337402344, 0.22003145515918732, 0.22001589834690094, 0.22023890912532806, 0.22041739523410797, 0.2204495370388031, 0.22064177691936493, 0.22129300236701965, 0.2224304974079132, 0.22362539172172546, 0.2243930995464325, 0.22456620633602142, 0.22417089343070984, 0.2237536609172821, 0.22347614169120789, 0.22316677868366241, 0.22304874658584595, 0.2232622355222702, 0.22389616072177887, 0.22475078701972961, 0.22565723955631256, 0.22639194130897522, 0.2265104502439499, 0.22627262771129608, 0.2261296659708023, 0.2262517809867859, 0.22681353986263275, 0.22753220796585083, 0.22796054184436798, 0.2281351089477539, 0.2281298041343689, 0.2281416952610016, 0.2283160537481308, 0.22874362766742706, 0.22917436063289642, 0.22941996157169342, 0.2295495867729187, 0.22958877682685852, 0.22988632321357727, 0.2304118424654007, 0.2309306114912033, 0.2313677817583084, 0.2315225452184677, 0.23139695823192596, 0.23136639595031738, 0.2315698117017746, 0.23173131048679352, 0.2318534106016159, 0.23201772570610046, 0.23233257234096527, 0.23291754722595215, 0.23318089544773102, 0.23311233520507812, 0.23308603465557098, 0.23321686685085297, 0.23354430496692657, 0.2340819090604782, 0.234737366437912, 0.23544494807720184, 0.2356237769126892, 0.23556651175022125, 0.23528265953063965, 0.2350960671901703, 0.23520517349243164, 0.23588228225708008, 0.23673801124095917, 0.23712605237960815, 0.23696045577526093, 0.23653452098369598, 0.2361207753419876, 0.2360742837190628, 0.23643425107002258, 0.237216055393219, 0.23809775710105896, 0.23893903195858002, 0.23935101926326752, 0.23924647271633148, 0.23875007033348083, 0.2381027787923813, 0.23793922364711761, 0.23824170231819153, 0.2388337105512619, 0.23956431448459625, 0.23999780416488647, 0.24015973508358002, 0.24014776945114136, 0.2400660365819931, 0.2398594319820404, 0.23969264328479767, 0.23974347114562988, 0.23997430503368378, 0.24051673710346222, 0.2410500943660736, 0.24141044914722443, 0.24153633415699005, 0.24142195284366608, 0.24123075604438782, 0.2410702407360077, 0.2410416454076767, 0.24113920331001282, 0.24133630096912384, 0.24157114326953888, 0.24176771938800812, 0.24190357327461243, 0.24196702241897583, 0.24189428985118866, 0.2416624277830124, 0.24153080582618713, 0.2415667623281479, 0.24191080033779144, 0.2422509342432022, 0.24242225289344788, 0.24243919551372528, 0.24234308302402496, 0.24228930473327637, 0.24230852723121643, 0.24245063960552216, 0.24271513521671295, 0.2429003119468689, 0.24295450747013092, 0.2429640144109726, 0.24291354417800903, 0.24282152950763702, 0.24279503524303436, 0.2430959790945053, 0.24364152550697327, 0.24405357241630554, 0.24410481750965118, 0.24387779831886292, 0.24369457364082336, 0.24362464249134064, 0.243734210729599, 0.24411915242671967, 0.24444812536239624, 0.24446344375610352, 0.24438408017158508, 0.24435240030288696, 0.2444111555814743, 0.24459892511367798, 0.2448374480009079, 0.24498862028121948, 0.2450171560049057, 0.24488644301891327, 0.2447642982006073, 0.2448539137840271, 0.24499280750751495, 0.2452867329120636, 0.24563375115394592, 0.24594393372535706, 0.2461799681186676, 0.24612106382846832, 0.24607756733894348, 0.24574024975299835, 0.24540764093399048, 0.2453812062740326, 0.24527660012245178, 0.24532833695411682, 0.24536468088626862, 0.24535897374153137, 0.24540238082408905, 0.24570581316947937, 0.24615152180194855, 0.24652108550071716, 0.24678505957126617, 0.24697940051555634, 0.24702303111553192, 0.2470947802066803, 0.24715110659599304, 0.24707160890102386, 0.24679221212863922, 0.2463306337594986, 0.24600781500339508, 0.24592743813991547, 0.24615629017353058, 0.24662749469280243, 0.24721461534500122, 0.247634619474411, 0.24798592925071716, 0.24829407036304474, 0.24853558838367462, 0.24869289994239807, 0.2486046403646469, 0.24845688045024872, 0.2483992725610733, 0.2482725977897644, 0.24809114634990692, 0.24793276190757751, 0.24780519306659698, 0.24790722131729126, 0.24803635478019714, 0.2482510209083557, 0.24864836037158966, 0.24900387227535248, 0.2492680847644806, 0.24947421252727509, 0.2497120350599289, 0.24977925419807434, 0.24984623491764069, 0.2496766299009323, 0.24942582845687866, 0.2491970807313919, 0.24918650090694427, 0.249378502368927, 0.24951083958148956, 0.24957653880119324, 0.2496175318956375, 0.24979859590530396, 0.2499609887599945, 0.2500520944595337, 0.25032705068588257, 0.25055357813835144, 0.25063517689704895, 0.25054559111595154, 0.2505258321762085, 0.25057893991470337, 0.25068292021751404, 0.25076279044151306, 0.250932902097702, 0.2510146498680115, 0.2508796155452728, 0.25086286664009094, 0.25081127882003784, 0.25084954500198364, 0.2511183023452759, 0.2515028715133667, 0.2516835927963257, 0.2516542673110962, 0.2514914274215698, 0.25132670998573303, 0.2513050138950348, 0.2514072358608246, 0.25159338116645813, 0.25159481167793274, 0.25152984261512756, 0.2514418661594391, 0.2513541281223297, 0.2513142228126526, 0.25145867466926575, 0.25174635648727417, 0.25216925144195557, 0.2524453103542328, 0.2524222135543823, 0.2521262466907501, 0.25177201628685, 0.2515324354171753, 0.25151774287223816, 0.251831591129303, 0.2523733377456665, 0.2526834011077881, 0.2528255879878998, 0.2527882754802704, 0.25253957509994507, 0.2523461580276489, 0.2523883879184723, 0.25260037183761597, 0.2527880370616913, 0.2527858018875122, 0.2527119517326355, 0.2526153326034546, 0.2525363862514496, 0.2525339722633362, 0.25260984897613525, 0.25279393792152405, 0.25299665331840515, 0.25310829281806946, 0.2530861794948578, 0.2529745399951935, 0.25274091958999634, 0.25257906317710876, 0.2526751458644867, 0.252903014421463, 0.2531798183917999, 0.2534196674823761, 0.25349244475364685, 0.253508061170578, 0.2535088360309601, 0.25351592898368835, 0.25362512469291687, 0.25380846858024597, 0.25374990701675415, 0.2536243498325348, 0.2535031735897064, 0.2534518837928772, 0.2534329295158386, 0.2535436451435089, 0.2538120150566101, 0.2540057599544525, 0.25410324335098267, 0.2541238069534302, 0.25414225459098816, 0.2542591691017151, 0.25435012578964233, 0.2544003129005432, 0.25447553396224976, 0.25450965762138367, 0.25461095571517944, 0.2546192705631256, 0.2545351982116699, 0.2545930743217468, 0.2547980844974518, 0.2548389136791229, 0.2547329366207123, 0.2544887363910675, 0.2542354464530945, 0.25418779253959656, 0.25435522198677063, 0.2546806335449219, 0.2549825608730316, 0.2551165819168091, 0.25505855679512024, 0.25492173433303833, 0.25491681694984436, 0.2550644874572754, 0.25518134236335754, 0.25518059730529785, 0.2552538216114044, 0.25528720021247864, 0.25527435541152954, 0.25535422563552856, 0.25537988543510437, 0.2554086148738861, 0.255379855632782, 0.255461186170578, 0.25548961758613586, 0.25548097491264343, 0.25546303391456604, 0.2555953860282898, 0.2558635175228119, 0.2560538351535797, 0.25615158677101135, 0.2560516893863678, 0.2558092474937439, 0.2557489573955536, 0.2558545470237732, 0.25609755516052246, 0.25627419352531433, 0.2562962770462036, 0.2561832070350647, 0.25604021549224854, 0.2558715343475342, 0.2558678686618805, 0.2560240626335144, 0.25623393058776855, 0.25634539127349854, 0.25641965866088867, 0.2564406991004944, 0.2563914656639099, 0.25632673501968384, 0.25629788637161255, 0.25633642077445984, 0.2565360963344574, 0.256682813167572, 0.2567637860774994, 0.25677308440208435, 0.25671693682670593, 0.2565310597419739, 0.2564395070075989, 0.2564331293106079, 0.2565785348415375, 0.25672900676727295, 0.25682470202445984, 0.2568632662296295, 0.2568492889404297, 0.2568519711494446, 0.25705456733703613, 0.25733044743537903, 0.25749698281288147, 0.25747621059417725, 0.2573173940181732, 0.25709623098373413, 0.25699174404144287, 0.25705140829086304, 0.25717127323150635, 0.257325142621994, 0.25741004943847656, 0.25740206241607666, 0.2573107182979584, 0.2573566138744354, 0.25752249360084534, 0.257804811000824, 0.25804805755615234, 0.2582568824291229, 0.2583954632282257, 0.25835081934928894, 0.2581344246864319, 0.2579362690448761, 0.2578505873680115, 0.25789910554885864, 0.2579690217971802, 0.25804784893989563, 0.25813379883766174, 0.25819507241249084, 0.25823453068733215, 0.25825235247612, 0.2582567632198334, 0.258155882358551, 0.25808843970298767, 0.2580740749835968, 0.25811880826950073, 0.25833356380462646, 0.2585252523422241, 0.25865206122398376, 0.2587432265281677, 0.25867143273353577, 0.2585994005203247, 0.25847020745277405, 0.25832808017730713, 0.2582111060619354, 0.2583218812942505, 0.2586304247379303, 0.2589084506034851, 0.25911036133766174, 0.2591263949871063, 0.25916141271591187, 0.25922128558158875, 0.2592258155345917, 0.25916749238967896, 0.2590740919113159, 0.2591262757778168, 0.2593021094799042, 0.25942736864089966, 0.2594052851200104, 0.2592865526676178, 0.2592231333255768, 0.25930628180503845, 0.2593497931957245, 0.2593516707420349, 0.25933343172073364, 0.25932472944259644, 0.2595057189464569, 0.25975480675697327, 0.2600340247154236, 0.26023754477500916, 0.2603418231010437, 0.26024219393730164, 0.2600574791431427, 0.2598697245121002, 0.25982826948165894, 0.25994303822517395, 0.2601073086261749, 0.26015010476112366, 0.2601597011089325, 0.2601219713687897, 0.26002737879753113, 0.25984373688697815, 0.25982168316841125, 0.25996601581573486, 0.26025715470314026, 0.26044946908950806, 0.2604881227016449, 0.26048025488853455, 0.26043248176574707, 0.2603793144226074, 0.2605012059211731, 0.2606847286224365, 0.260771244764328, 0.2608250081539154, 0.26083093881607056, 0.2608064115047455, 0.2608802020549774, 0.26104918122291565, 0.2610588073730469, 0.26092955470085144, 0.2606922388076782, 0.26050764322280884, 0.260510116815567, 0.26069456338882446, 0.26090964674949646, 0.26108214259147644, 0.261189341545105, 0.2612672448158264, 0.26135897636413574, 0.26149776577949524, 0.2615339159965515, 0.2615564167499542, 0.2615455687046051, 0.2616390287876129, 0.2618047595024109, 0.2618790566921234, 0.26189008355140686, 0.26176542043685913, 0.26166635751724243, 0.26152560114860535, 0.2613167464733124, 0.2611454129219055, 0.26117467880249023, 0.2612750828266144, 0.2613885700702667, 0.2616463005542755, 0.2618846595287323, 0.26199764013290405, 0.26213470101356506, 0.26228266954421997]\n"
     ]
    }
   ],
   "source": [
    "print(losses_train)\n",
    "print(losses_test)"
   ]
  },
  {
   "cell_type": "code",
   "execution_count": 68,
   "metadata": {},
   "outputs": [
    {
     "data": {
      "image/png": "[encoded data removed]",
      "text/plain": [
       "<Figure size 640x480 with 1 Axes>"
      ]
     },
     "metadata": {},
     "output_type": "display_data"
    }
   ],
   "source": [
    "# Plot loss per epoch\n",
    "plt.plot(range(epochs), losses_train, label='Train Loss')\n",
    "plt.plot(range(epochs), losses_test, label='Test Loss')\n",
    "plt.xlabel(\"Epoch\")\n",
    "plt.ylabel(\"Loss\")\n",
    "plt.title(\"Loss per Epoch\")\n",
    "plt.legend()\n",
    "plt.grid(True)\n",
    "plt.show()\n"
   ]
  },
  {
   "cell_type": "code",
   "execution_count": 70,
   "metadata": {},
   "outputs": [],
   "source": [
    "# Simpan Model\n",
    "\n",
    "import torch\n",
    "\n",
    "torch.save(model3, 'app/model/multi_class/model_churn3.pth')"
   ]
  },
  {
   "cell_type": "code",
   "execution_count": 71,
   "metadata": {},
   "outputs": [
    {
     "data": {
      "text/plain": [
       "['app/model/multi_class/preprocessing_pipeline.pkl']"
      ]
     },
     "execution_count": 71,
     "metadata": {},
     "output_type": "execute_result"
    }
   ],
   "source": [
    "# Simpan Pipeline\n",
    "import joblib\n",
    "\n",
    "joblib.dump(pipeline, 'app/model/multi_class/preprocessing_pipeline.pkl')"
   ]
  },
  {
   "cell_type": "code",
   "execution_count": 73,
   "metadata": {},
   "outputs": [
    {
     "data": {
      "text/html": [
       "<div>\n",
       "<style scoped>\n",
       "    .dataframe tbody tr th:only-of-type {\n",
       "        vertical-align: middle;\n",
       "    }\n",
       "\n",
       "    .dataframe tbody tr th {\n",
       "        vertical-align: top;\n",
       "    }\n",
       "\n",
       "    .dataframe thead th {\n",
       "        text-align: right;\n",
       "    }\n",
       "</style>\n",
       "<table border=\"1\" class=\"dataframe\">\n",
       "  <thead>\n",
       "    <tr style=\"text-align: right;\">\n",
       "      <th></th>\n",
       "      <th>sepal length (cm)</th>\n",
       "      <th>sepal width (cm)</th>\n",
       "      <th>petal length (cm)</th>\n",
       "      <th>petal width (cm)</th>\n",
       "    </tr>\n",
       "  </thead>\n",
       "  <tbody>\n",
       "    <tr>\n",
       "      <th>0</th>\n",
       "      <td>5.1</td>\n",
       "      <td>3.5</td>\n",
       "      <td>1.4</td>\n",
       "      <td>0.2</td>\n",
       "    </tr>\n",
       "  </tbody>\n",
       "</table>\n",
       "</div>"
      ],
      "text/plain": [
       "   sepal length (cm)  sepal width (cm)  petal length (cm)  petal width (cm)\n",
       "0                5.1               3.5                1.4               0.2"
      ]
     },
     "execution_count": 73,
     "metadata": {},
     "output_type": "execute_result"
    }
   ],
   "source": [
    "input_data = {\n",
    "    'sepal length (cm)' : [5.1],\n",
    "    'sepal width (cm)' : [3.5],\n",
    "    'petal length (cm)' : [1.4],\n",
    "    'petal width (cm)' : [0.2]\n",
    "    }\n",
    "\n",
    "input_df = pd.DataFrame(input_data)\n",
    "input_df"
   ]
  },
  {
   "cell_type": "code",
   "execution_count": 74,
   "metadata": {},
   "outputs": [],
   "source": [
    "# Load Preprocessed Data\n",
    "pipeline_loaded = joblib.load('app/model/multi_class/preprocessing_pipeline.pkl')"
   ]
  },
  {
   "cell_type": "code",
   "execution_count": 75,
   "metadata": {},
   "outputs": [
    {
     "data": {
      "text/plain": [
       "array([[-0.88566202,  1.01122923, -1.34572231, -1.32327558]])"
      ]
     },
     "execution_count": 75,
     "metadata": {},
     "output_type": "execute_result"
    }
   ],
   "source": [
    "# Transform Input Data\n",
    "input_processed = pipeline_loaded.transform(input_df)\n",
    "input_processed"
   ]
  },
  {
   "cell_type": "code",
   "execution_count": 76,
   "metadata": {},
   "outputs": [
    {
     "data": {
      "text/plain": [
       "tensor([[-0.8857,  1.0112, -1.3457, -1.3233]])"
      ]
     },
     "execution_count": 76,
     "metadata": {},
     "output_type": "execute_result"
    }
   ],
   "source": [
    "# Ubah menjadi tensor\n",
    "input_tensor = torch.tensor(input_processed, dtype=torch.float32)\n",
    "input_tensor"
   ]
  },
  {
   "cell_type": "code",
   "execution_count": 77,
   "metadata": {},
   "outputs": [
    {
     "data": {
      "text/plain": [
       "Sequential(\n",
       "  (0): Linear(in_features=4, out_features=32, bias=True)\n",
       "  (1): ReLU()\n",
       "  (2): Linear(in_features=32, out_features=16, bias=True)\n",
       "  (3): ReLU()\n",
       "  (4): Linear(in_features=16, out_features=3, bias=True)\n",
       ")"
      ]
     },
     "execution_count": 77,
     "metadata": {},
     "output_type": "execute_result"
    }
   ],
   "source": [
    "# Prediksi dengan model\n",
    "# Load Model\n",
    "model3 = torch.load('app/model/multi_class/model_churn3.pth', weights_only=False)\n",
    "model3"
   ]
  },
  {
   "cell_type": "code",
   "execution_count": 79,
   "metadata": {},
   "outputs": [
    {
     "name": "stdout",
     "output_type": "stream",
     "text": [
      "Output logits: tensor([[ 16.1341,  -5.5791, -17.1111]])\n",
      "Probabilitas per kelas: tensor([[1.0000e+00, 3.7163e-10, 3.6459e-15]])\n",
      "Prediksi kelas: 0\n"
     ]
    }
   ],
   "source": [
    "import torch.nn.functional as F\n",
    "\n",
    "# Prediksi\n",
    "with torch.no_grad():\n",
    "    output = model3(input_tensor)\n",
    "\n",
    "print(f\"Output logits: {output}\")\n",
    "\n",
    "# Menghitung probabilitas tiap kelas menggunakan softmax\n",
    "probabilities = F.softmax(output, dim=1)\n",
    "print(f\"Probabilitas per kelas: {probabilities}\")\n",
    "\n",
    "# Mengambil label prediksi (kelas dengan probabilitas tertinggi)\n",
    "pred_label = torch.argmax(probabilities, dim=1).item()\n",
    "print(f\"Prediksi kelas: {pred_label}\")\n"
   ]
  },
  {
   "cell_type": "code",
   "execution_count": 80,
   "metadata": {},
   "outputs": [
    {
     "name": "stdout",
     "output_type": "stream",
     "text": [
      "Prediksi: setosa\n"
     ]
    }
   ],
   "source": [
    "label_mapping = {0: \"setosa\", 1: \"versicolor\", 2: \"virginica\"}\n",
    "print(f\"Prediksi: {label_mapping[pred_label]}\")\n"
   ]
  },
  {
   "cell_type": "code",
   "execution_count": 81,
   "metadata": {},
   "outputs": [
    {
     "data": {
      "text/plain": [
       "=================================================================\n",
       "Layer (type:depth-idx)                   Param #\n",
       "=================================================================\n",
       "Sequential                               --\n",
       "├─Linear: 1-1                            160\n",
       "├─ReLU: 1-2                              --\n",
       "├─Linear: 1-3                            528\n",
       "├─ReLU: 1-4                              --\n",
       "├─Linear: 1-5                            51\n",
       "=================================================================\n",
       "Total params: 739\n",
       "Trainable params: 739\n",
       "Non-trainable params: 0\n",
       "================================================================="
      ]
     },
     "execution_count": 81,
     "metadata": {},
     "output_type": "execute_result"
    }
   ],
   "source": [
    "from torchinfo import summary\n",
    "\n",
    "summary(model3)"
   ]
  },
  {
   "cell_type": "code",
   "execution_count": 82,
   "metadata": {},
   "outputs": [
    {
     "data": {
      "text/plain": [
       "=================================================================\n",
       "Layer (type:depth-idx)                   Param #\n",
       "=================================================================\n",
       "Sequential                               --\n",
       "├─Linear: 1-1                            80\n",
       "├─ReLU: 1-2                              --\n",
       "├─Linear: 1-3                            51\n",
       "=================================================================\n",
       "Total params: 131\n",
       "Trainable params: 131\n",
       "Non-trainable params: 0\n",
       "================================================================="
      ]
     },
     "execution_count": 82,
     "metadata": {},
     "output_type": "execute_result"
    }
   ],
   "source": [
    "from torchinfo import summary\n",
    "\n",
    "summary(model2)"
   ]
  },
  {
   "cell_type": "code",
   "execution_count": 83,
   "metadata": {},
   "outputs": [
    {
     "data": {
      "text/plain": [
       "=================================================================\n",
       "Layer (type:depth-idx)                   Param #\n",
       "=================================================================\n",
       "Sequential                               --\n",
       "├─Linear: 1-1                            50\n",
       "├─ReLU: 1-2                              --\n",
       "├─Linear: 1-3                            33\n",
       "=================================================================\n",
       "Total params: 83\n",
       "Trainable params: 83\n",
       "Non-trainable params: 0\n",
       "================================================================="
      ]
     },
     "execution_count": 83,
     "metadata": {},
     "output_type": "execute_result"
    }
   ],
   "source": [
    "from torchinfo import summary\n",
    "\n",
    "summary(model1)"
   ]
  },
  {
   "cell_type": "code",
   "execution_count": null,
   "metadata": {},
   "outputs": [],
   "source": []
  },
  {
   "cell_type": "code",
   "execution_count": null,
   "metadata": {},
   "outputs": [],
   "source": []
  },
  {
   "cell_type": "code",
   "execution_count": null,
   "metadata": {},
   "outputs": [],
   "source": []
  },
  {
   "cell_type": "code",
   "execution_count": null,
   "metadata": {},
   "outputs": [],
   "source": []
  },
  {
   "cell_type": "code",
   "execution_count": null,
   "metadata": {},
   "outputs": [],
   "source": []
  },
  {
   "cell_type": "code",
   "execution_count": null,
   "metadata": {},
   "outputs": [],
   "source": []
  },
  {
   "cell_type": "code",
   "execution_count": null,
   "metadata": {},
   "outputs": [],
   "source": []
  },
  {
   "cell_type": "code",
   "execution_count": null,
   "metadata": {},
   "outputs": [],
   "source": []
  },
  {
   "cell_type": "code",
   "execution_count": null,
   "metadata": {},
   "outputs": [],
   "source": []
  },
  {
   "cell_type": "code",
   "execution_count": null,
   "metadata": {},
   "outputs": [],
   "source": []
  },
  {
   "cell_type": "code",
   "execution_count": null,
   "metadata": {},
   "outputs": [],
   "source": []
  },
  {
   "cell_type": "code",
   "execution_count": null,
   "metadata": {},
   "outputs": [],
   "source": []
  },
  {
   "cell_type": "code",
   "execution_count": null,
   "metadata": {},
   "outputs": [],
   "source": []
  },
  {
   "cell_type": "code",
   "execution_count": null,
   "metadata": {},
   "outputs": [],
   "source": []
  },
  {
   "cell_type": "code",
   "execution_count": null,
   "metadata": {},
   "outputs": [],
   "source": []
  },
  {
   "cell_type": "code",
   "execution_count": null,
   "metadata": {},
   "outputs": [],
   "source": []
  },
  {
   "cell_type": "code",
   "execution_count": null,
   "metadata": {},
   "outputs": [],
   "source": []
  },
  {
   "cell_type": "code",
   "execution_count": null,
   "metadata": {},
   "outputs": [],
   "source": []
  },
  {
   "cell_type": "code",
   "execution_count": null,
   "metadata": {},
   "outputs": [],
   "source": []
  },
  {
   "cell_type": "code",
   "execution_count": null,
   "metadata": {},
   "outputs": [],
   "source": []
  },
  {
   "cell_type": "code",
   "execution_count": null,
   "metadata": {},
   "outputs": [],
   "source": []
  },
  {
   "cell_type": "code",
   "execution_count": null,
   "metadata": {},
   "outputs": [],
   "source": []
  }
 ],
 "metadata": {
  "kernelspec": {
   "display_name": "pytorch",
   "language": "python",
   "name": "python3"
  },
  "language_info": {
   "codemirror_mode": {
    "name": "ipython",
    "version": 3
   },
   "file_extension": ".py",
   "mimetype": "text/x-python",
   "name": "python",
   "nbconvert_exporter": "python",
   "pygments_lexer": "ipython3",
   "version": "3.12.4"
  }
 },
 "nbformat": 4,
 "nbformat_minor": 2
}
