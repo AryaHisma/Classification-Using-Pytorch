{
 "cells": [
  {
   "cell_type": "markdown",
   "metadata": {},
   "source": [
    "# Binary Classification"
   ]
  },
  {
   "cell_type": "code",
   "execution_count": 14,
   "metadata": {},
   "outputs": [],
   "source": [
    "# Import Library\n",
    "import torch\n",
    "import torch.nn as nn\n",
    "import torch.optim as optim\n",
    "from sklearn.datasets import fetch_california_housing\n",
    "import pandas as pd\n",
    "import matplotlib.pyplot as plt\n",
    "import seaborn as sns\n",
    "from sklearn.model_selection import train_test_split\n",
    "from sklearn.preprocessing import StandardScaler"
   ]
  },
  {
   "cell_type": "markdown",
   "metadata": {},
   "source": [
    "### 1. Data (Preparing and Loading)"
   ]
  },
  {
   "cell_type": "code",
   "execution_count": 15,
   "metadata": {},
   "outputs": [
    {
     "data": {
      "text/html": [
       "<div>\n",
       "<style scoped>\n",
       "    .dataframe tbody tr th:only-of-type {\n",
       "        vertical-align: middle;\n",
       "    }\n",
       "\n",
       "    .dataframe tbody tr th {\n",
       "        vertical-align: top;\n",
       "    }\n",
       "\n",
       "    .dataframe thead th {\n",
       "        text-align: right;\n",
       "    }\n",
       "</style>\n",
       "<table border=\"1\" class=\"dataframe\">\n",
       "  <thead>\n",
       "    <tr style=\"text-align: right;\">\n",
       "      <th></th>\n",
       "      <th>CustomerID</th>\n",
       "      <th>Age</th>\n",
       "      <th>Gender</th>\n",
       "      <th>Tenure</th>\n",
       "      <th>Usage Frequency</th>\n",
       "      <th>Support Calls</th>\n",
       "      <th>Payment Delay</th>\n",
       "      <th>Subscription Type</th>\n",
       "      <th>Contract Length</th>\n",
       "      <th>Total Spend</th>\n",
       "      <th>Last Interaction</th>\n",
       "      <th>Churn</th>\n",
       "    </tr>\n",
       "  </thead>\n",
       "  <tbody>\n",
       "    <tr>\n",
       "      <th>0</th>\n",
       "      <td>2.0</td>\n",
       "      <td>30.0</td>\n",
       "      <td>Female</td>\n",
       "      <td>39.0</td>\n",
       "      <td>14.0</td>\n",
       "      <td>5.0</td>\n",
       "      <td>18.0</td>\n",
       "      <td>Standard</td>\n",
       "      <td>Annual</td>\n",
       "      <td>932.0</td>\n",
       "      <td>17.0</td>\n",
       "      <td>1.0</td>\n",
       "    </tr>\n",
       "    <tr>\n",
       "      <th>1</th>\n",
       "      <td>3.0</td>\n",
       "      <td>65.0</td>\n",
       "      <td>Female</td>\n",
       "      <td>49.0</td>\n",
       "      <td>1.0</td>\n",
       "      <td>10.0</td>\n",
       "      <td>8.0</td>\n",
       "      <td>Basic</td>\n",
       "      <td>Monthly</td>\n",
       "      <td>557.0</td>\n",
       "      <td>6.0</td>\n",
       "      <td>1.0</td>\n",
       "    </tr>\n",
       "    <tr>\n",
       "      <th>2</th>\n",
       "      <td>4.0</td>\n",
       "      <td>55.0</td>\n",
       "      <td>Female</td>\n",
       "      <td>14.0</td>\n",
       "      <td>4.0</td>\n",
       "      <td>6.0</td>\n",
       "      <td>18.0</td>\n",
       "      <td>Basic</td>\n",
       "      <td>Quarterly</td>\n",
       "      <td>185.0</td>\n",
       "      <td>3.0</td>\n",
       "      <td>1.0</td>\n",
       "    </tr>\n",
       "    <tr>\n",
       "      <th>3</th>\n",
       "      <td>5.0</td>\n",
       "      <td>58.0</td>\n",
       "      <td>Male</td>\n",
       "      <td>38.0</td>\n",
       "      <td>21.0</td>\n",
       "      <td>7.0</td>\n",
       "      <td>7.0</td>\n",
       "      <td>Standard</td>\n",
       "      <td>Monthly</td>\n",
       "      <td>396.0</td>\n",
       "      <td>29.0</td>\n",
       "      <td>1.0</td>\n",
       "    </tr>\n",
       "    <tr>\n",
       "      <th>4</th>\n",
       "      <td>6.0</td>\n",
       "      <td>23.0</td>\n",
       "      <td>Male</td>\n",
       "      <td>32.0</td>\n",
       "      <td>20.0</td>\n",
       "      <td>5.0</td>\n",
       "      <td>8.0</td>\n",
       "      <td>Basic</td>\n",
       "      <td>Monthly</td>\n",
       "      <td>617.0</td>\n",
       "      <td>20.0</td>\n",
       "      <td>1.0</td>\n",
       "    </tr>\n",
       "  </tbody>\n",
       "</table>\n",
       "</div>"
      ],
      "text/plain": [
       "   CustomerID   Age  Gender  Tenure  Usage Frequency  Support Calls  \\\n",
       "0         2.0  30.0  Female    39.0             14.0            5.0   \n",
       "1         3.0  65.0  Female    49.0              1.0           10.0   \n",
       "2         4.0  55.0  Female    14.0              4.0            6.0   \n",
       "3         5.0  58.0    Male    38.0             21.0            7.0   \n",
       "4         6.0  23.0    Male    32.0             20.0            5.0   \n",
       "\n",
       "   Payment Delay Subscription Type Contract Length  Total Spend  \\\n",
       "0           18.0          Standard          Annual        932.0   \n",
       "1            8.0             Basic         Monthly        557.0   \n",
       "2           18.0             Basic       Quarterly        185.0   \n",
       "3            7.0          Standard         Monthly        396.0   \n",
       "4            8.0             Basic         Monthly        617.0   \n",
       "\n",
       "   Last Interaction  Churn  \n",
       "0              17.0    1.0  \n",
       "1               6.0    1.0  \n",
       "2               3.0    1.0  \n",
       "3              29.0    1.0  \n",
       "4              20.0    1.0  "
      ]
     },
     "execution_count": 15,
     "metadata": {},
     "output_type": "execute_result"
    }
   ],
   "source": [
    "# Load dataset\n",
    "df = pd.read_csv(\"C:/Users/arya.hisma/Downloads/000. UDEMY/Udemy - Pytorch/Logistic Regression Using Pytorch - Customer Churn/dataset/customer_churn_dataset_training_master.csv\")\n",
    "\n",
    "# Display data\n",
    "df.head(5)"
   ]
  },
  {
   "cell_type": "code",
   "execution_count": 16,
   "metadata": {},
   "outputs": [
    {
     "data": {
      "text/plain": [
       "(440833, 12)"
      ]
     },
     "execution_count": 16,
     "metadata": {},
     "output_type": "execute_result"
    }
   ],
   "source": [
    "df.shape"
   ]
  },
  {
   "cell_type": "code",
   "execution_count": 17,
   "metadata": {},
   "outputs": [
    {
     "data": {
      "text/plain": [
       "\"\\nNotes :\\n1. CustomerID → ID unik pelanggan (sering tidak diperlukan untuk analisis).\\n2. Age → Usia pelanggan (numerik).\\n3. Gender → Jenis kelamin pelanggan (kategori: 'Male', 'Female').\\n4. Tenure → Lama pelanggan berlangganan (numerik, biasanya dalam bulan/tahun).\\n5. Usage Frequency → Seberapa sering pelanggan menggunakan layanan (numerik).\\n6. Support Calls → Jumlah panggilan ke customer support (numerik).\\n7. Payment Delay → Keterlambatan pembayaran (numerik, bisa dalam hari).\\n8. Subscription Type → Jenis langganan (kategori: 'Basic', 'Premium', dll.).\\n9. Contract Length → Durasi kontrak pelanggan (numerik atau kategori).\\n10. Total Spend → Total uang yang dihabiskan pelanggan (numerik).\\n11. Last Interaction → Waktu terakhir pelanggan berinteraksi dengan layanan (bisa berupa tanggal atau numerik).\\n12. Churn → Apakah pelanggan berhenti berlangganan (biner: 'Yes' atau 'No').\\n\""
      ]
     },
     "execution_count": 17,
     "metadata": {},
     "output_type": "execute_result"
    }
   ],
   "source": [
    "'''\n",
    "Notes :\n",
    "1. CustomerID → ID unik pelanggan (sering tidak diperlukan untuk analisis).\n",
    "2. Age → Usia pelanggan (numerik).\n",
    "3. Gender → Jenis kelamin pelanggan (kategori: 'Male', 'Female').\n",
    "4. Tenure → Lama pelanggan berlangganan (numerik, biasanya dalam bulan/tahun).\n",
    "5. Usage Frequency → Seberapa sering pelanggan menggunakan layanan (numerik).\n",
    "6. Support Calls → Jumlah panggilan ke customer support (numerik).\n",
    "7. Payment Delay → Keterlambatan pembayaran (numerik, bisa dalam hari).\n",
    "8. Subscription Type → Jenis langganan (kategori: 'Basic', 'Premium', dll.).\n",
    "9. Contract Length → Durasi kontrak pelanggan (numerik atau kategori).\n",
    "10. Total Spend → Total uang yang dihabiskan pelanggan (numerik).\n",
    "11. Last Interaction → Waktu terakhir pelanggan berinteraksi dengan layanan (bisa berupa tanggal atau numerik).\n",
    "12. Churn → Apakah pelanggan berhenti berlangganan (biner: 'Yes' atau 'No').\n",
    "'''"
   ]
  },
  {
   "cell_type": "code",
   "execution_count": 18,
   "metadata": {},
   "outputs": [
    {
     "data": {
      "text/plain": [
       "CustomerID           1\n",
       "Age                  1\n",
       "Gender               1\n",
       "Tenure               1\n",
       "Usage Frequency      1\n",
       "Support Calls        1\n",
       "Payment Delay        1\n",
       "Subscription Type    1\n",
       "Contract Length      1\n",
       "Total Spend          1\n",
       "Last Interaction     1\n",
       "Churn                1\n",
       "dtype: int64"
      ]
     },
     "execution_count": 18,
     "metadata": {},
     "output_type": "execute_result"
    }
   ],
   "source": [
    "df.isnull().sum()"
   ]
  },
  {
   "cell_type": "code",
   "execution_count": 19,
   "metadata": {},
   "outputs": [
    {
     "data": {
      "text/plain": [
       "(440832, 12)"
      ]
     },
     "execution_count": 19,
     "metadata": {},
     "output_type": "execute_result"
    }
   ],
   "source": [
    "# Hapus missing value\n",
    "\n",
    "df = df.dropna()\n",
    "df.shape"
   ]
  },
  {
   "cell_type": "code",
   "execution_count": 20,
   "metadata": {},
   "outputs": [
    {
     "data": {
      "text/html": [
       "<div>\n",
       "<style scoped>\n",
       "    .dataframe tbody tr th:only-of-type {\n",
       "        vertical-align: middle;\n",
       "    }\n",
       "\n",
       "    .dataframe tbody tr th {\n",
       "        vertical-align: top;\n",
       "    }\n",
       "\n",
       "    .dataframe thead th {\n",
       "        text-align: right;\n",
       "    }\n",
       "</style>\n",
       "<table border=\"1\" class=\"dataframe\">\n",
       "  <thead>\n",
       "    <tr style=\"text-align: right;\">\n",
       "      <th></th>\n",
       "      <th>Age</th>\n",
       "      <th>Gender</th>\n",
       "      <th>Tenure</th>\n",
       "      <th>Usage Frequency</th>\n",
       "      <th>Support Calls</th>\n",
       "      <th>Payment Delay</th>\n",
       "      <th>Subscription Type</th>\n",
       "      <th>Contract Length</th>\n",
       "      <th>Total Spend</th>\n",
       "      <th>Last Interaction</th>\n",
       "      <th>Churn</th>\n",
       "    </tr>\n",
       "  </thead>\n",
       "  <tbody>\n",
       "    <tr>\n",
       "      <th>0</th>\n",
       "      <td>30.0</td>\n",
       "      <td>Female</td>\n",
       "      <td>39.0</td>\n",
       "      <td>14.0</td>\n",
       "      <td>5.0</td>\n",
       "      <td>18.0</td>\n",
       "      <td>Standard</td>\n",
       "      <td>Annual</td>\n",
       "      <td>932.0</td>\n",
       "      <td>17.0</td>\n",
       "      <td>1.0</td>\n",
       "    </tr>\n",
       "    <tr>\n",
       "      <th>1</th>\n",
       "      <td>65.0</td>\n",
       "      <td>Female</td>\n",
       "      <td>49.0</td>\n",
       "      <td>1.0</td>\n",
       "      <td>10.0</td>\n",
       "      <td>8.0</td>\n",
       "      <td>Basic</td>\n",
       "      <td>Monthly</td>\n",
       "      <td>557.0</td>\n",
       "      <td>6.0</td>\n",
       "      <td>1.0</td>\n",
       "    </tr>\n",
       "    <tr>\n",
       "      <th>2</th>\n",
       "      <td>55.0</td>\n",
       "      <td>Female</td>\n",
       "      <td>14.0</td>\n",
       "      <td>4.0</td>\n",
       "      <td>6.0</td>\n",
       "      <td>18.0</td>\n",
       "      <td>Basic</td>\n",
       "      <td>Quarterly</td>\n",
       "      <td>185.0</td>\n",
       "      <td>3.0</td>\n",
       "      <td>1.0</td>\n",
       "    </tr>\n",
       "    <tr>\n",
       "      <th>3</th>\n",
       "      <td>58.0</td>\n",
       "      <td>Male</td>\n",
       "      <td>38.0</td>\n",
       "      <td>21.0</td>\n",
       "      <td>7.0</td>\n",
       "      <td>7.0</td>\n",
       "      <td>Standard</td>\n",
       "      <td>Monthly</td>\n",
       "      <td>396.0</td>\n",
       "      <td>29.0</td>\n",
       "      <td>1.0</td>\n",
       "    </tr>\n",
       "    <tr>\n",
       "      <th>4</th>\n",
       "      <td>23.0</td>\n",
       "      <td>Male</td>\n",
       "      <td>32.0</td>\n",
       "      <td>20.0</td>\n",
       "      <td>5.0</td>\n",
       "      <td>8.0</td>\n",
       "      <td>Basic</td>\n",
       "      <td>Monthly</td>\n",
       "      <td>617.0</td>\n",
       "      <td>20.0</td>\n",
       "      <td>1.0</td>\n",
       "    </tr>\n",
       "  </tbody>\n",
       "</table>\n",
       "</div>"
      ],
      "text/plain": [
       "    Age  Gender  Tenure  Usage Frequency  Support Calls  Payment Delay  \\\n",
       "0  30.0  Female    39.0             14.0            5.0           18.0   \n",
       "1  65.0  Female    49.0              1.0           10.0            8.0   \n",
       "2  55.0  Female    14.0              4.0            6.0           18.0   \n",
       "3  58.0    Male    38.0             21.0            7.0            7.0   \n",
       "4  23.0    Male    32.0             20.0            5.0            8.0   \n",
       "\n",
       "  Subscription Type Contract Length  Total Spend  Last Interaction  Churn  \n",
       "0          Standard          Annual        932.0              17.0    1.0  \n",
       "1             Basic         Monthly        557.0               6.0    1.0  \n",
       "2             Basic       Quarterly        185.0               3.0    1.0  \n",
       "3          Standard         Monthly        396.0              29.0    1.0  \n",
       "4             Basic         Monthly        617.0              20.0    1.0  "
      ]
     },
     "execution_count": 20,
     "metadata": {},
     "output_type": "execute_result"
    }
   ],
   "source": [
    "# Remove unnecessary columns\n",
    "df_clean = df.drop([\"CustomerID\"], axis=1)\n",
    "df_clean.head(5)"
   ]
  },
  {
   "cell_type": "code",
   "execution_count": 21,
   "metadata": {},
   "outputs": [
    {
     "name": "stdout",
     "output_type": "stream",
     "text": [
      "<class 'pandas.core.frame.DataFrame'>\n",
      "Index: 440832 entries, 0 to 440832\n",
      "Data columns (total 11 columns):\n",
      " #   Column             Non-Null Count   Dtype  \n",
      "---  ------             --------------   -----  \n",
      " 0   Age                440832 non-null  float64\n",
      " 1   Gender             440832 non-null  object \n",
      " 2   Tenure             440832 non-null  float64\n",
      " 3   Usage Frequency    440832 non-null  float64\n",
      " 4   Support Calls      440832 non-null  float64\n",
      " 5   Payment Delay      440832 non-null  float64\n",
      " 6   Subscription Type  440832 non-null  object \n",
      " 7   Contract Length    440832 non-null  object \n",
      " 8   Total Spend        440832 non-null  float64\n",
      " 9   Last Interaction   440832 non-null  float64\n",
      " 10  Churn              440832 non-null  float64\n",
      "dtypes: float64(8), object(3)\n",
      "memory usage: 40.4+ MB\n"
     ]
    }
   ],
   "source": [
    "# Data Info\n",
    "df_clean.info()"
   ]
  },
  {
   "cell_type": "code",
   "execution_count": 22,
   "metadata": {},
   "outputs": [
    {
     "data": {
      "text/html": [
       "<div>\n",
       "<style scoped>\n",
       "    .dataframe tbody tr th:only-of-type {\n",
       "        vertical-align: middle;\n",
       "    }\n",
       "\n",
       "    .dataframe tbody tr th {\n",
       "        vertical-align: top;\n",
       "    }\n",
       "\n",
       "    .dataframe thead th {\n",
       "        text-align: right;\n",
       "    }\n",
       "</style>\n",
       "<table border=\"1\" class=\"dataframe\">\n",
       "  <thead>\n",
       "    <tr style=\"text-align: right;\">\n",
       "      <th></th>\n",
       "      <th>Age</th>\n",
       "      <th>Gender</th>\n",
       "      <th>Tenure</th>\n",
       "      <th>Usage Frequency</th>\n",
       "      <th>Support Calls</th>\n",
       "      <th>Payment Delay</th>\n",
       "      <th>Subscription Type</th>\n",
       "      <th>Contract Length</th>\n",
       "      <th>Total Spend</th>\n",
       "      <th>Last Interaction</th>\n",
       "    </tr>\n",
       "  </thead>\n",
       "  <tbody>\n",
       "    <tr>\n",
       "      <th>0</th>\n",
       "      <td>30.0</td>\n",
       "      <td>Female</td>\n",
       "      <td>39.0</td>\n",
       "      <td>14.0</td>\n",
       "      <td>5.0</td>\n",
       "      <td>18.0</td>\n",
       "      <td>Standard</td>\n",
       "      <td>Annual</td>\n",
       "      <td>932.00</td>\n",
       "      <td>17.0</td>\n",
       "    </tr>\n",
       "    <tr>\n",
       "      <th>1</th>\n",
       "      <td>65.0</td>\n",
       "      <td>Female</td>\n",
       "      <td>49.0</td>\n",
       "      <td>1.0</td>\n",
       "      <td>10.0</td>\n",
       "      <td>8.0</td>\n",
       "      <td>Basic</td>\n",
       "      <td>Monthly</td>\n",
       "      <td>557.00</td>\n",
       "      <td>6.0</td>\n",
       "    </tr>\n",
       "    <tr>\n",
       "      <th>2</th>\n",
       "      <td>55.0</td>\n",
       "      <td>Female</td>\n",
       "      <td>14.0</td>\n",
       "      <td>4.0</td>\n",
       "      <td>6.0</td>\n",
       "      <td>18.0</td>\n",
       "      <td>Basic</td>\n",
       "      <td>Quarterly</td>\n",
       "      <td>185.00</td>\n",
       "      <td>3.0</td>\n",
       "    </tr>\n",
       "    <tr>\n",
       "      <th>3</th>\n",
       "      <td>58.0</td>\n",
       "      <td>Male</td>\n",
       "      <td>38.0</td>\n",
       "      <td>21.0</td>\n",
       "      <td>7.0</td>\n",
       "      <td>7.0</td>\n",
       "      <td>Standard</td>\n",
       "      <td>Monthly</td>\n",
       "      <td>396.00</td>\n",
       "      <td>29.0</td>\n",
       "    </tr>\n",
       "    <tr>\n",
       "      <th>4</th>\n",
       "      <td>23.0</td>\n",
       "      <td>Male</td>\n",
       "      <td>32.0</td>\n",
       "      <td>20.0</td>\n",
       "      <td>5.0</td>\n",
       "      <td>8.0</td>\n",
       "      <td>Basic</td>\n",
       "      <td>Monthly</td>\n",
       "      <td>617.00</td>\n",
       "      <td>20.0</td>\n",
       "    </tr>\n",
       "    <tr>\n",
       "      <th>...</th>\n",
       "      <td>...</td>\n",
       "      <td>...</td>\n",
       "      <td>...</td>\n",
       "      <td>...</td>\n",
       "      <td>...</td>\n",
       "      <td>...</td>\n",
       "      <td>...</td>\n",
       "      <td>...</td>\n",
       "      <td>...</td>\n",
       "      <td>...</td>\n",
       "    </tr>\n",
       "    <tr>\n",
       "      <th>440828</th>\n",
       "      <td>42.0</td>\n",
       "      <td>Male</td>\n",
       "      <td>54.0</td>\n",
       "      <td>15.0</td>\n",
       "      <td>1.0</td>\n",
       "      <td>3.0</td>\n",
       "      <td>Premium</td>\n",
       "      <td>Annual</td>\n",
       "      <td>716.38</td>\n",
       "      <td>8.0</td>\n",
       "    </tr>\n",
       "    <tr>\n",
       "      <th>440829</th>\n",
       "      <td>25.0</td>\n",
       "      <td>Female</td>\n",
       "      <td>8.0</td>\n",
       "      <td>13.0</td>\n",
       "      <td>1.0</td>\n",
       "      <td>20.0</td>\n",
       "      <td>Premium</td>\n",
       "      <td>Annual</td>\n",
       "      <td>745.38</td>\n",
       "      <td>2.0</td>\n",
       "    </tr>\n",
       "    <tr>\n",
       "      <th>440830</th>\n",
       "      <td>26.0</td>\n",
       "      <td>Male</td>\n",
       "      <td>35.0</td>\n",
       "      <td>27.0</td>\n",
       "      <td>1.0</td>\n",
       "      <td>5.0</td>\n",
       "      <td>Standard</td>\n",
       "      <td>Quarterly</td>\n",
       "      <td>977.31</td>\n",
       "      <td>9.0</td>\n",
       "    </tr>\n",
       "    <tr>\n",
       "      <th>440831</th>\n",
       "      <td>28.0</td>\n",
       "      <td>Male</td>\n",
       "      <td>55.0</td>\n",
       "      <td>14.0</td>\n",
       "      <td>2.0</td>\n",
       "      <td>0.0</td>\n",
       "      <td>Standard</td>\n",
       "      <td>Quarterly</td>\n",
       "      <td>602.55</td>\n",
       "      <td>2.0</td>\n",
       "    </tr>\n",
       "    <tr>\n",
       "      <th>440832</th>\n",
       "      <td>31.0</td>\n",
       "      <td>Male</td>\n",
       "      <td>48.0</td>\n",
       "      <td>20.0</td>\n",
       "      <td>1.0</td>\n",
       "      <td>14.0</td>\n",
       "      <td>Premium</td>\n",
       "      <td>Quarterly</td>\n",
       "      <td>567.77</td>\n",
       "      <td>21.0</td>\n",
       "    </tr>\n",
       "  </tbody>\n",
       "</table>\n",
       "<p>440832 rows × 10 columns</p>\n",
       "</div>"
      ],
      "text/plain": [
       "         Age  Gender  Tenure  Usage Frequency  Support Calls  Payment Delay  \\\n",
       "0       30.0  Female    39.0             14.0            5.0           18.0   \n",
       "1       65.0  Female    49.0              1.0           10.0            8.0   \n",
       "2       55.0  Female    14.0              4.0            6.0           18.0   \n",
       "3       58.0    Male    38.0             21.0            7.0            7.0   \n",
       "4       23.0    Male    32.0             20.0            5.0            8.0   \n",
       "...      ...     ...     ...              ...            ...            ...   \n",
       "440828  42.0    Male    54.0             15.0            1.0            3.0   \n",
       "440829  25.0  Female     8.0             13.0            1.0           20.0   \n",
       "440830  26.0    Male    35.0             27.0            1.0            5.0   \n",
       "440831  28.0    Male    55.0             14.0            2.0            0.0   \n",
       "440832  31.0    Male    48.0             20.0            1.0           14.0   \n",
       "\n",
       "       Subscription Type Contract Length  Total Spend  Last Interaction  \n",
       "0               Standard          Annual       932.00              17.0  \n",
       "1                  Basic         Monthly       557.00               6.0  \n",
       "2                  Basic       Quarterly       185.00               3.0  \n",
       "3               Standard         Monthly       396.00              29.0  \n",
       "4                  Basic         Monthly       617.00              20.0  \n",
       "...                  ...             ...          ...               ...  \n",
       "440828           Premium          Annual       716.38               8.0  \n",
       "440829           Premium          Annual       745.38               2.0  \n",
       "440830          Standard       Quarterly       977.31               9.0  \n",
       "440831          Standard       Quarterly       602.55               2.0  \n",
       "440832           Premium       Quarterly       567.77              21.0  \n",
       "\n",
       "[440832 rows x 10 columns]"
      ]
     },
     "execution_count": 22,
     "metadata": {},
     "output_type": "execute_result"
    }
   ],
   "source": [
    "# Tentukan fitur dan label\n",
    "X = df_clean.drop('Churn', axis=1)\n",
    "y = df_clean['Churn']\n",
    "\n",
    "X"
   ]
  },
  {
   "cell_type": "code",
   "execution_count": 23,
   "metadata": {},
   "outputs": [],
   "source": [
    "# Pisahkan kolom numerik dan kategorikal\n",
    "numerical_cols = X.select_dtypes(include=['float64', 'int64']).columns\n",
    "categorical_cols = X.select_dtypes(include=['object']).columns"
   ]
  },
  {
   "cell_type": "code",
   "execution_count": null,
   "metadata": {},
   "outputs": [],
   "source": [
    "numerical_cols, categorical_cols"
   ]
  },
  {
   "cell_type": "code",
   "execution_count": null,
   "metadata": {},
   "outputs": [],
   "source": [
    "from sklearn.compose import ColumnTransformer\n",
    "from sklearn.preprocessing import MinMaxScaler, OneHotEncoder, OrdinalEncoder\n",
    "from sklearn.pipeline import Pipeline\n",
    "\n",
    "# Buat Transformer\n",
    "preprocessor = ColumnTransformer(\n",
    "    transformers=[\n",
    "        ('num', MinMaxScaler(), numerical_cols), # Scaling kolom numerik\n",
    "        ('cat', OneHotEncoder(drop='first'), categorical_cols) # OneHot kolom kategorikal\n",
    "    ]\n",
    ")"
   ]
  },
  {
   "cell_type": "code",
   "execution_count": null,
   "metadata": {},
   "outputs": [],
   "source": [
    "# Buat Pipeline\n",
    "pipeline = Pipeline(steps=[('preprocessor', preprocessor)])\n",
    "pipeline"
   ]
  },
  {
   "cell_type": "code",
   "execution_count": null,
   "metadata": {},
   "outputs": [],
   "source": [
    "# Split Train Test Split\n",
    "X_train, X_test, y_train, y_train = train_test_split(X, y, test_size=0.2, random_state=42)"
   ]
  },
  {
   "cell_type": "code",
   "execution_count": null,
   "metadata": {},
   "outputs": [],
   "source": [
    "# Transform X_train dan X_test\n",
    "X_train_processed = pipeline.fit_transform(X_train)  \n",
    "X_test_processed = pipeline.transform(X_test)"
   ]
  },
  {
   "cell_type": "code",
   "execution_count": null,
   "metadata": {},
   "outputs": [],
   "source": [
    "X_train_processed"
   ]
  },
  {
   "cell_type": "code",
   "execution_count": null,
   "metadata": {},
   "outputs": [],
   "source": [
    "X_test_processed"
   ]
  },
  {
   "cell_type": "code",
   "execution_count": null,
   "metadata": {},
   "outputs": [],
   "source": [
    "# Ambil nama kolom hasil one hot encoder dan scaling\n",
    "ohe = pipeline.named_steps['preprocessor'].named_transformers_['cat']\n",
    "encoded_col_names = ohe.get_feature_names_out(categorical_cols)\n",
    "encoded_col_names"
   ]
  },
  {
   "cell_type": "code",
   "execution_count": null,
   "metadata": {},
   "outputs": [],
   "source": [
    "# Gabungkan semua nama kolom : fitur numerik + fitur kategorikal encoded\n",
    "final_feature_names = list(numerical_cols) + list(encoded_col_names)\n",
    "final_feature_names"
   ]
  },
  {
   "cell_type": "code",
   "execution_count": null,
   "metadata": {},
   "outputs": [],
   "source": [
    "X_train_processed[0]"
   ]
  },
  {
   "cell_type": "code",
   "execution_count": null,
   "metadata": {},
   "outputs": [],
   "source": [
    "# Tentukan Kolom\n",
    "numerical_cols = ['Age', 'Tenure', 'Usage Frequency', 'Support Calls', 'Payment Delay',\n",
    "                  'Total Spend', 'Last Interaction']\n",
    "categorical_onehot_cols = ['Gender']\n",
    "categorical_ordinal_cols = ['Subscription Type', 'Contract Length']"
   ]
  },
  {
   "cell_type": "code",
   "execution_count": null,
   "metadata": {},
   "outputs": [],
   "source": [
    "# Buat Transformer\n",
    "preprocessor = ColumnTransformer(\n",
    "    transformers = [\n",
    "        ('num', MinMaxScaler(), numerical_cols),\n",
    "        ('onehot', OneHotEncoder(drop='first'), categorical_onehot_cols),\n",
    "        ('ordinal', OrdinalEncoder(), categorical_ordinal_cols)\n",
    "    ]\n",
    ")"
   ]
  },
  {
   "cell_type": "code",
   "execution_count": null,
   "metadata": {},
   "outputs": [],
   "source": [
    "# Buat Pipeline\n",
    "pipeline = Pipeline(steps=[('preprocessor', preprocessor)])\n",
    "pipeline"
   ]
  },
  {
   "cell_type": "code",
   "execution_count": null,
   "metadata": {},
   "outputs": [],
   "source": [
    "# Split Data Train Test\n",
    "X_train, X_test, y_train, y_test = train_test_split(X,\n",
    "                                                    y,\n",
    "                                                    test_size=0.2,\n",
    "                                                    random_state=42,\n",
    "                                                    stratify=X['Gender'])"
   ]
  },
  {
   "cell_type": "code",
   "execution_count": null,
   "metadata": {},
   "outputs": [],
   "source": [
    "X_train.shape"
   ]
  },
  {
   "cell_type": "code",
   "execution_count": null,
   "metadata": {},
   "outputs": [],
   "source": [
    "# Fit Transform\n",
    "X_train_processed = pipeline.fit_transform(X_train)\n",
    "X_test_processed = pipeline.transform(X_test)"
   ]
  },
  {
   "cell_type": "code",
   "execution_count": null,
   "metadata": {},
   "outputs": [],
   "source": [
    "X_train.head(1)"
   ]
  },
  {
   "cell_type": "code",
   "execution_count": null,
   "metadata": {},
   "outputs": [],
   "source": [
    "X_train_processed[0]"
   ]
  },
  {
   "cell_type": "code",
   "execution_count": null,
   "metadata": {},
   "outputs": [],
   "source": [
    "# Ambil Transformers\n",
    "ohe = pipeline.named_steps['preprocessor'].named_transformers_['onehot']\n",
    "ordinal = pipeline.named_steps['preprocessor'].named_transformers_['ordinal']\n",
    "\n",
    "ohe, ordinal"
   ]
  },
  {
   "cell_type": "code",
   "execution_count": null,
   "metadata": {},
   "outputs": [],
   "source": [
    "# Ambil Nama Kolom Hasil One Hot Encoder\n",
    "onehot_feature_names = ohe.get_feature_names_out(categorical_onehot_cols)\n",
    "\n",
    "# Gabungkan Semua Kolom\n",
    "final_feature_names = (\n",
    "    numerical_cols +\n",
    "    list(onehot_feature_names) +\n",
    "    categorical_ordinal_cols\n",
    ")\n",
    "\n",
    "final_feature_names"
   ]
  },
  {
   "cell_type": "code",
   "execution_count": null,
   "metadata": {},
   "outputs": [],
   "source": [
    "# Cek Hasil Encoding\n",
    "# Ambil Encodernya\n",
    "ordinal_encoder = pipeline.named_steps['preprocessor'].named_transformers_['ordinal']\n",
    "print(ordinal_encoder.categories_)\n",
    "categories = ordinal_encoder.categories_\n",
    "\n",
    "# Gabungkan jadi dict nama kolom dan kategorinya\n",
    "ordinal_col_info = dict(zip(categorical_ordinal_cols, categories))\n",
    "\n",
    "for col, cat in ordinal_col_info.items():\n",
    "    print(f\"{col}: {list(cat)}\")\n",
    "\n",
    "# Tampilkan Hasil Mapping Kategori ke Angka\n",
    "for cols, cats in zip(categorical_ordinal_cols, ordinal_encoder.categories_):\n",
    "    print(f\"Kolom {cols} kategori : angka\")\n",
    "    \n",
    "    for i, cat in enumerate(cats):\n",
    "        print(f\"{cat} : {i}\")"
   ]
  },
  {
   "cell_type": "code",
   "execution_count": null,
   "metadata": {},
   "outputs": [],
   "source": [
    "# Data Yang Dipakai\n",
    "X_train_processed.shape, X_test_processed.shape, y_train.shape, y_test.shape"
   ]
  },
  {
   "cell_type": "code",
   "execution_count": null,
   "metadata": {},
   "outputs": [],
   "source": [
    "type(X_train_processed), type(X_test_processed), type(y_train), type(y_test)"
   ]
  },
  {
   "cell_type": "code",
   "execution_count": null,
   "metadata": {},
   "outputs": [],
   "source": [
    "# Create model\n",
    "# konversi ke tensor pytorch (karena format sebelumnya adalah dataframe, maka diganti terlebih dahulu ke numpy)\n",
    "X_train_tensor = torch.tensor(X_train_processed,dtype=torch.float32)\n",
    "X_test_tensor = torch.tensor(X_test_processed,dtype=torch.float32)\n",
    "y_train_tensor = torch.tensor(y_train.to_numpy(dtype=\"float32\")).unsqueeze(dim=1)\n",
    "y_test_tensor = torch.tensor(y_test.to_numpy(dtype=\"float32\")).unsqueeze(dim=1)\n",
    "\n",
    "# X_train_tensor = torch.tensor(X_train)\n",
    "# X_test_tensor = torch.tensor(X_test)\n",
    "# y_train_tensor = torch.tensor(y_train).unsqueeze(dim=1)\n",
    "# y_test_tensor = torch.tensor(y_test).unsqueeze(dim=1)\n",
    "\n",
    "X_train_tensor.shape, X_test_tensor.shape, y_train_tensor.shape, y_test_tensor.shape"
   ]
  },
  {
   "cell_type": "code",
   "execution_count": null,
   "metadata": {},
   "outputs": [],
   "source": [
    "y_train_tensor"
   ]
  },
  {
   "cell_type": "code",
   "execution_count": null,
   "metadata": {},
   "outputs": [],
   "source": [
    "X_train_tensor.shape[1]"
   ]
  },
  {
   "cell_type": "code",
   "execution_count": null,
   "metadata": {},
   "outputs": [],
   "source": [
    "# LR Model 1\n",
    "\n",
    "# class LRModel (nn.Module):\n",
    "#     def __init__(self, input_dim):\n",
    "#         super(LRModel, self).__init__()\n",
    "#         self.linear = nn.Linear(input_dim, 1)\n",
    "        \n",
    "#     def forward(self, x):\n",
    "#         return torch.sigmoid(self.linear(x))\n",
    "\n",
    "input_dim = X_train_tensor.shape[1]\n",
    "\n",
    "model1 = nn.Sequential(\n",
    "    nn.Linear(input_dim, 1),\n",
    "    nn.Sigmoid()\n",
    ")\n",
    "\n",
    "model1 "
   ]
  },
  {
   "cell_type": "code",
   "execution_count": null,
   "metadata": {},
   "outputs": [],
   "source": [
    "# Loss & Optimize\n",
    "\n",
    "criterion = nn.BCELoss()\n",
    "optimizer = optim.Adam(model1.parameters(), lr=0.01)"
   ]
  },
  {
   "cell_type": "code",
   "execution_count": null,
   "metadata": {},
   "outputs": [],
   "source": [
    "# Training Loop\n",
    "torch.manual_seed(42)\n",
    "\n",
    "epochs = 1000\n",
    "losses_train = []\n",
    "losses_test = []\n",
    "\n",
    "for epoch in range(epochs):\n",
    "    model1.train()\n",
    "    \n",
    "    output_train = model1(X_train_tensor)\n",
    "\n",
    "    loss_train = criterion(output_train,  y_train_tensor)\n",
    "    \n",
    "    losses_train.append(loss_train.item())\n",
    "    \n",
    "    output_label_train = (output_train >= 0.5).float()\n",
    "        \n",
    "    accuracy_train = (output_label_train == y_train_tensor).float().mean()\n",
    "        \n",
    "    optimizer.zero_grad()\n",
    "    \n",
    "    loss_train.backward()\n",
    "    \n",
    "    optimizer.step()\n",
    "    \n",
    "    # Evaluasi akurasi\n",
    "    from sklearn.metrics import confusion_matrix, classification_report\n",
    "\n",
    "    model1.eval()\n",
    "    with torch.no_grad():\n",
    "        output_test = model1(X_test_tensor)\n",
    "        \n",
    "        loss_test = criterion(output_test,  y_test_tensor)\n",
    "        \n",
    "        losses_test.append(loss_test.item())\n",
    "        \n",
    "        output_label_test = (output_test >= 0.5).float()\n",
    "                \n",
    "        accuracy_test = (output_label_test == y_test_tensor).float().mean()\n",
    "    \n",
    "    if (epoch + 1) % 10 == 0:\n",
    "        print(f\"Epoch : [{epoch+1}/{epochs}] | Loss_train : {loss_train.item():.4f} | Loss_test : {loss_test.item():.4f} | Accuracy_train : {accuracy_train:.4f}  | Accuracy Test : {accuracy_test:.4f}\")"
   ]
  },
  {
   "cell_type": "code",
   "execution_count": null,
   "metadata": {},
   "outputs": [],
   "source": [
    "# konversi ke numpy untuk sklearn\n",
    "y_true_train = y_train_tensor.numpy()\n",
    "y_pred_train = output_label_train.numpy()\n",
    "\n",
    "# Confusion matrix data train\n",
    "cm_train = confusion_matrix(y_true_train, y_pred_train)\n",
    "print(f\"confusion matrix : {cm_train}\")\n",
    "\n",
    "# Classification report (precision, recall, f1-score) data train\n",
    "cr_train = classification_report(y_true_train, y_pred_train)\n",
    "print(f\"Classification report : {cr_train}\")"
   ]
  },
  {
   "cell_type": "code",
   "execution_count": null,
   "metadata": {},
   "outputs": [],
   "source": [
    "# konversi ke numpy untuk sklearn\n",
    "y_true_test = y_test_tensor.numpy()\n",
    "y_pred_test = output_label_test.numpy()\n",
    "        \n",
    "# Confusion matrix data test\n",
    "cm_test = confusion_matrix(y_true_test, y_pred_test)\n",
    "print(f\"confusion matrix : {cm_test}\")\n",
    "\n",
    "# Classification report (precision, recall, f1-score) data test\n",
    "cr_test = classification_report(y_true_test, y_pred_test)\n",
    "print(f\"Classification report : {cr_test}\")"
   ]
  },
  {
   "cell_type": "code",
   "execution_count": null,
   "metadata": {},
   "outputs": [],
   "source": [
    "import seaborn as sns\n",
    "import matplotlib.pyplot as plt\n",
    "from sklearn.metrics import confusion_matrix, classification_report\n",
    "\n",
    "# Visualisasi\n",
    "plt.figure(figsize=(6,4))\n",
    "sns.heatmap(cm_train, annot=True, fmt='d', cmap='Blues', xticklabels=['No Churn', 'Churn'], yticklabels=['No Churn', 'Churn'])\n",
    "plt.xlabel('Predicted Label')\n",
    "plt.ylabel('True Label')\n",
    "plt.title('Confusion Matrix')\n",
    "plt.show()"
   ]
  },
  {
   "cell_type": "code",
   "execution_count": null,
   "metadata": {},
   "outputs": [],
   "source": [
    "import seaborn as sns\n",
    "import matplotlib.pyplot as plt\n",
    "from sklearn.metrics import confusion_matrix, classification_report\n",
    "\n",
    "# Visualisasi\n",
    "plt.figure(figsize=(6,4))\n",
    "sns.heatmap(cm_test, annot=True, fmt='d', cmap='Blues', xticklabels=['No Churn', 'Churn'], yticklabels=['No Churn', 'Churn'])\n",
    "plt.xlabel('Predicted Label')\n",
    "plt.ylabel('True Label')\n",
    "plt.title('Confusion Matrix')\n",
    "plt.show()"
   ]
  },
  {
   "cell_type": "code",
   "execution_count": null,
   "metadata": {},
   "outputs": [],
   "source": [
    "type(output_label_test)"
   ]
  },
  {
   "cell_type": "code",
   "execution_count": null,
   "metadata": {},
   "outputs": [],
   "source": [
    "type(y_test_tensor)"
   ]
  },
  {
   "cell_type": "code",
   "execution_count": null,
   "metadata": {},
   "outputs": [],
   "source": [
    "print(losses_train)\n",
    "print(losses_test)"
   ]
  },
  {
   "cell_type": "code",
   "execution_count": null,
   "metadata": {},
   "outputs": [],
   "source": [
    "# Plot loss per epoch\n",
    "plt.plot(range(epochs), losses_train, label='Train Loss')\n",
    "plt.plot(range(epochs), losses_test, label='Test Loss')\n",
    "plt.xlabel(\"Epoch\")\n",
    "plt.ylabel(\"Loss\")\n",
    "plt.title(\"Loss per Epoch\")\n",
    "plt.legend()\n",
    "plt.grid(True)\n",
    "plt.show()"
   ]
  },
  {
   "cell_type": "code",
   "execution_count": null,
   "metadata": {},
   "outputs": [],
   "source": [
    "# class LRModel2 (nn.Module):\n",
    "#     def __init__(self, input_dim):\n",
    "#         super(LRModel2, self).__init__()\n",
    "#         self.fc1 = nn.Linear(input_dim, 16)\n",
    "#         self.relu = nn.ReLU()\n",
    "#         self.output = nn.Linear(16, 1)\n",
    "        \n",
    "#     def forward(self, x):\n",
    "#         x = self.fc1(x)\n",
    "#         x = self.relu(x)\n",
    "#         x = self.output(x)\n",
    "#         return torch.sigmoid(x)\n",
    "\n",
    "model2 = nn.Sequential(\n",
    "    nn.Linear(input_dim, 16),\n",
    "    nn.ReLU(),\n",
    "    nn.Linear(16, 1),\n",
    "    nn.Sigmoid()\n",
    ")\n",
    "\n",
    "model2"
   ]
  },
  {
   "cell_type": "code",
   "execution_count": null,
   "metadata": {},
   "outputs": [],
   "source": [
    "criterion = nn.BCELoss()\n",
    "optimizer = optim.Adam(model2.parameters(), lr=0.01)"
   ]
  },
  {
   "cell_type": "code",
   "execution_count": null,
   "metadata": {},
   "outputs": [],
   "source": [
    "# Training Loop\n",
    "torch.manual_seed(42)\n",
    "\n",
    "epochs = 1000\n",
    "losses_train = []\n",
    "losses_test = []\n",
    "\n",
    "for epoch in range(epochs):\n",
    "    model2.train()\n",
    "    \n",
    "    output_train = model2(X_train_tensor)\n",
    "\n",
    "    loss_train = criterion(output_train,  y_train_tensor)\n",
    "    \n",
    "    losses_train.append(loss_train.item())\n",
    "    \n",
    "    output_label_train = (output_train >= 0.5).float()\n",
    "        \n",
    "    accuracy_train = (output_label_train == y_train_tensor).float().mean()\n",
    "      \n",
    "    optimizer.zero_grad()\n",
    "    \n",
    "    loss_train.backward()\n",
    "    \n",
    "    optimizer.step()\n",
    "    \n",
    "    # Evaluasi akurasi\n",
    "    from sklearn.metrics import confusion_matrix, classification_report\n",
    "\n",
    "    model2.eval()\n",
    "    with torch.no_grad():\n",
    "        output_test = model2(X_test_tensor)\n",
    "        \n",
    "        loss_test = criterion(output_test,  y_test_tensor)\n",
    "        \n",
    "        losses_test.append(loss_test.item())\n",
    "        \n",
    "        output_label_test = (output_test >= 0.5).float()\n",
    "                \n",
    "        accuracy_test = (output_label_test == y_test_tensor).float().mean()\n",
    "    \n",
    "    if (epoch + 1) % 10 == 0:\n",
    "        print(f\"Epoch : [{epoch+1}/{epochs}] | Loss_train : {loss_train.item():.4f} | Loss_test : {loss_test.item():.4f} | Accuracy_train : {accuracy_train:.4f}  | Accuracy Test : {accuracy_test:.4f}\")"
   ]
  },
  {
   "cell_type": "code",
   "execution_count": null,
   "metadata": {},
   "outputs": [],
   "source": [
    "# konversi ke numpy untuk sklearn\n",
    "y_true_train = y_train_tensor.numpy()\n",
    "y_pred_train = output_label_train.numpy()\n",
    "    \n",
    "# Confusion matrix data train\n",
    "cm_train = confusion_matrix(y_true_train, y_pred_train)\n",
    "print(f\"confusion matrix : {cm_train}\")\n",
    "\n",
    "# Classification report (precision, recall, f1-score) data train\n",
    "cr_train = classification_report(y_true_train, y_pred_train)\n",
    "print(f\"Classification report : {cr_train}\")"
   ]
  },
  {
   "cell_type": "code",
   "execution_count": null,
   "metadata": {},
   "outputs": [],
   "source": [
    "# konversi ke numpy untuk sklearn\n",
    "y_true_test = y_test_tensor.numpy()\n",
    "y_pred_test = output_label_test.numpy()\n",
    "        \n",
    "# Confusion matrix data test\n",
    "cm_test = confusion_matrix(y_true_test, y_pred_test)\n",
    "print(f\"confusion matrix : {cm_test}\")\n",
    "\n",
    "# Classification report (precision, recall, f1-score) data test\n",
    "cr_test = classification_report(y_true_test, y_pred_test)\n",
    "print(f\"Classification report : {cr_test}\")"
   ]
  },
  {
   "cell_type": "code",
   "execution_count": null,
   "metadata": {},
   "outputs": [],
   "source": [
    "import seaborn as sns\n",
    "import matplotlib.pyplot as plt\n",
    "from sklearn.metrics import confusion_matrix, classification_report\n",
    "\n",
    "# Visualisasi\n",
    "plt.figure(figsize=(6,4))\n",
    "sns.heatmap(cm_train, annot=True, fmt='d', cmap='Blues', xticklabels=['No Churn', 'Churn'], yticklabels=['No Churn', 'Churn'])\n",
    "plt.xlabel('Predicted Label')\n",
    "plt.ylabel('True Label')\n",
    "plt.title('Confusion Matrix')\n",
    "plt.show()"
   ]
  },
  {
   "cell_type": "code",
   "execution_count": null,
   "metadata": {},
   "outputs": [],
   "source": [
    "import seaborn as sns\n",
    "import matplotlib.pyplot as plt\n",
    "from sklearn.metrics import confusion_matrix, classification_report\n",
    "\n",
    "# Visualisasi\n",
    "plt.figure(figsize=(6,4))\n",
    "sns.heatmap(cm_test, annot=True, fmt='d', cmap='Blues', xticklabels=['No Churn', 'Churn'], yticklabels=['No Churn', 'Churn'])\n",
    "plt.xlabel('Predicted Label')\n",
    "plt.ylabel('True Label')\n",
    "plt.title('Confusion Matrix')\n",
    "plt.show()"
   ]
  },
  {
   "cell_type": "code",
   "execution_count": null,
   "metadata": {},
   "outputs": [],
   "source": [
    "print(losses_train)\n",
    "print(losses_test)"
   ]
  },
  {
   "cell_type": "code",
   "execution_count": null,
   "metadata": {},
   "outputs": [],
   "source": [
    "# Plot loss per epoch\n",
    "plt.plot(range(epochs), losses_train, label='Train Loss')\n",
    "plt.plot(range(epochs), losses_test, label='Test Loss')\n",
    "plt.xlabel(\"Epoch\")\n",
    "plt.ylabel(\"Loss\")\n",
    "plt.title(\"Loss per Epoch\")\n",
    "plt.legend()\n",
    "plt.grid(True)\n",
    "plt.show()"
   ]
  },
  {
   "cell_type": "code",
   "execution_count": null,
   "metadata": {},
   "outputs": [],
   "source": [
    "# class LRModel3 (nn.Module):\n",
    "#     def __init__(self, input_dim):\n",
    "#         super(LRModel3, self).__init__()\n",
    "#         self.fc1 = nn.Linear(input_dim, 32)\n",
    "#         self.relu1 = nn.ReLU()\n",
    "#         self.fc2 = nn.Linear(32, 16)\n",
    "#         self.relu2 = nn.ReLU()\n",
    "#         self.output = nn.Linear(16, 1)\n",
    "        \n",
    "#     def forward(self, x):\n",
    "#         x = self.fc1(x)\n",
    "#         x = self.relu1(x)\n",
    "#         x = self.fc2(x)\n",
    "#         x = self.relu2(x)\n",
    "#         x = self.output(x)\n",
    "#         return torch.sigmoid(x)\n",
    "\n",
    "\n",
    "model3 = nn.Sequential(\n",
    "    nn.Linear(input_dim, 32),\n",
    "    nn.ReLU(),\n",
    "    nn.Linear(32, 16),\n",
    "    nn.ReLU(),\n",
    "    nn.Linear(16, 1),\n",
    "    nn.Sigmoid()\n",
    ")\n",
    "\n",
    "model3"
   ]
  },
  {
   "cell_type": "code",
   "execution_count": null,
   "metadata": {},
   "outputs": [],
   "source": [
    "criterion = nn.BCELoss()\n",
    "optimizer = optim.Adam(model3.parameters(), lr=0.01)"
   ]
  },
  {
   "cell_type": "code",
   "execution_count": null,
   "metadata": {},
   "outputs": [],
   "source": [
    "# Training Loop\n",
    "torch.manual_seed(42)\n",
    "\n",
    "epochs = 1000\n",
    "losses_train = []\n",
    "losses_test = []\n",
    "\n",
    "for epoch in range(epochs):\n",
    "    model3.train()\n",
    "    \n",
    "    output_train = model3(X_train_tensor)\n",
    "\n",
    "    loss_train = criterion(output_train,  y_train_tensor)\n",
    "    \n",
    "    losses_train.append(loss_train.item())\n",
    "    \n",
    "    output_label_train = (output_train >= 0.5).float()\n",
    "        \n",
    "    accuracy_train = (output_label_train == y_train_tensor).float().mean()\n",
    "       \n",
    "    optimizer.zero_grad()\n",
    "    \n",
    "    loss_train.backward()\n",
    "    \n",
    "    optimizer.step()\n",
    "    \n",
    "    # Evaluasi akurasi\n",
    "    from sklearn.metrics import confusion_matrix, classification_report\n",
    "\n",
    "    model3.eval()\n",
    "    with torch.no_grad():\n",
    "        output_test = model3(X_test_tensor)\n",
    "        \n",
    "        loss_test = criterion(output_test,  y_test_tensor)\n",
    "        \n",
    "        losses_test.append(loss_test.item())\n",
    "        \n",
    "        output_label_test = (output_test >= 0.5).float()\n",
    "                \n",
    "        accuracy_test = (output_label_test == y_test_tensor).float().mean()\n",
    "      \n",
    "    if (epoch + 1) % 10 == 0:\n",
    "        print(f\"Epoch : [{epoch+1}/{epochs}] | Loss_train : {loss_train.item():.4f} | Loss_test : {loss_test.item():.4f} | Accuracy_train : {accuracy_train:.4f}  | Accuracy Test : {accuracy_test:.4f}\")"
   ]
  },
  {
   "cell_type": "code",
   "execution_count": null,
   "metadata": {},
   "outputs": [],
   "source": [
    "# konversi ke numpy untuk sklearn\n",
    "y_true_train = y_train_tensor.numpy()\n",
    "y_pred_train = output_label_train.numpy()\n",
    "    \n",
    "# Confusion matrix data train\n",
    "cm_train = confusion_matrix(y_true_train, y_pred_train)\n",
    "print(f\"confusion matrix : {cm_train}\")\n",
    "\n",
    "# Classification report (precision, recall, f1-score) data train\n",
    "cr_train = classification_report(y_true_train, y_pred_train)\n",
    "print(f\"Classification report : {cr_train}\")"
   ]
  },
  {
   "cell_type": "code",
   "execution_count": null,
   "metadata": {},
   "outputs": [],
   "source": [
    "# konversi ke numpy untuk sklearn\n",
    "y_true_test = y_test_tensor.numpy()\n",
    "y_pred_test = output_label_test.numpy()\n",
    "\n",
    "# Confusion matrix data test\n",
    "cm_test = confusion_matrix(y_true_test, y_pred_test)\n",
    "print(f\"confusion matrix : {cm_test}\")\n",
    "\n",
    "# Classification report (precision, recall, f1-score) data test\n",
    "cr_test = classification_report(y_true_test, y_pred_test)\n",
    "print(f\"Classification report : {cr_test}\")"
   ]
  },
  {
   "cell_type": "code",
   "execution_count": null,
   "metadata": {},
   "outputs": [],
   "source": [
    "import seaborn as sns\n",
    "import matplotlib.pyplot as plt\n",
    "from sklearn.metrics import confusion_matrix, classification_report\n",
    "\n",
    "# Visualisasi\n",
    "plt.figure(figsize=(6,4))\n",
    "sns.heatmap(cm_train, annot=True, fmt='d', cmap='Blues', xticklabels=['No Churn', 'Churn'], yticklabels=['No Churn', 'Churn'])\n",
    "plt.xlabel('Predicted Label')\n",
    "plt.ylabel('True Label')\n",
    "plt.title('Confusion Matrix')\n",
    "plt.show()"
   ]
  },
  {
   "cell_type": "code",
   "execution_count": null,
   "metadata": {},
   "outputs": [],
   "source": [
    "import seaborn as sns\n",
    "import matplotlib.pyplot as plt\n",
    "from sklearn.metrics import confusion_matrix, classification_report\n",
    "\n",
    "# Visualisasi\n",
    "plt.figure(figsize=(6,4))\n",
    "sns.heatmap(cm_test, annot=True, fmt='d', cmap='Blues', xticklabels=['No Churn', 'Churn'], yticklabels=['No Churn', 'Churn'])\n",
    "plt.xlabel('Predicted Label')\n",
    "plt.ylabel('True Label')\n",
    "plt.title('Confusion Matrix')\n",
    "plt.show()"
   ]
  },
  {
   "cell_type": "code",
   "execution_count": null,
   "metadata": {},
   "outputs": [],
   "source": [
    "print(losses_train)\n",
    "print(losses_test)"
   ]
  },
  {
   "cell_type": "code",
   "execution_count": null,
   "metadata": {},
   "outputs": [],
   "source": [
    "# Plot loss per epoch\n",
    "plt.plot(range(epochs), losses_train, label='Train Loss')\n",
    "plt.plot(range(epochs), losses_test, label='Test Loss')\n",
    "plt.xlabel(\"Epoch\")\n",
    "plt.ylabel(\"Loss\")\n",
    "plt.title(\"Loss per Epoch\")\n",
    "plt.legend()\n",
    "plt.grid(True)\n",
    "plt.show()\n"
   ]
  },
  {
   "cell_type": "code",
   "execution_count": null,
   "metadata": {},
   "outputs": [],
   "source": [
    "# Simpan Model\n",
    "\n",
    "import torch\n",
    "\n",
    "torch.save(model3, 'app/model/model_churn3.pth')"
   ]
  },
  {
   "cell_type": "code",
   "execution_count": null,
   "metadata": {},
   "outputs": [],
   "source": [
    "# Simpan Pipeline\n",
    "import joblib\n",
    "\n",
    "joblib.dump(pipeline, 'app/model/preprocessing_pipeline.pkl')"
   ]
  },
  {
   "cell_type": "code",
   "execution_count": null,
   "metadata": {},
   "outputs": [],
   "source": [
    "input_data = {\n",
    "    'Age' : [30],\n",
    "    'Gender' : ['Female'],\n",
    "    'Tenure' : [39],\n",
    "    'Usage Frequency' : [14],\n",
    "    'Support Calls' : [5],\n",
    "    'Payment Delay' : [18],\n",
    "    'Subscription Type' : ['Standard'],\n",
    "    'Contract Length' : ['Annual'],\n",
    "    'Total Spend' : [932],\n",
    "    'Last Interaction' : [17]\n",
    "}\n",
    "\n",
    "input_df = pd.DataFrame(input_data)\n",
    "input_df"
   ]
  },
  {
   "cell_type": "code",
   "execution_count": null,
   "metadata": {},
   "outputs": [],
   "source": [
    "# Load Preprocessed Data\n",
    "pipeline_loaded = joblib.load('app/model/preprocessing_pipeline.pkl')"
   ]
  },
  {
   "cell_type": "code",
   "execution_count": null,
   "metadata": {},
   "outputs": [],
   "source": [
    "# Transform Input Data\n",
    "input_processed = pipeline_loaded.transform(input_df)\n",
    "input_processed"
   ]
  },
  {
   "cell_type": "code",
   "execution_count": null,
   "metadata": {},
   "outputs": [],
   "source": [
    "# Ubah menjadi tensor\n",
    "input_tensor = torch.tensor(input_processed, dtype=torch.float32)\n",
    "input_tensor"
   ]
  },
  {
   "cell_type": "code",
   "execution_count": null,
   "metadata": {},
   "outputs": [],
   "source": [
    "# Prediksi dengan model\n",
    "# Load Model\n",
    "model3 = torch.load('app/model/model_churn3.pth', weights_only=False)\n",
    "model3"
   ]
  },
  {
   "cell_type": "code",
   "execution_count": null,
   "metadata": {},
   "outputs": [],
   "source": [
    "# Prediksi\n",
    "with torch.no_grad():\n",
    "    output = model3(input_tensor)\n",
    "\n",
    "print(f\"Output : {output}\") \n",
    "\n",
    "pred_prob = output.item()\n",
    "pred_label = 1 if pred_prob >= 0.5 else 0\n",
    "\n",
    "print(f\"Probabilitas churn: {pred_prob:.4f}\")\n",
    "print(f\"Prediksi: {'Churn' if pred_label == 1 else 'Tidak Churn'}\")"
   ]
  },
  {
   "cell_type": "code",
   "execution_count": null,
   "metadata": {},
   "outputs": [],
   "source": [
    "from torchinfo import summary\n",
    "\n",
    "summary(model3)"
   ]
  },
  {
   "cell_type": "code",
   "execution_count": null,
   "metadata": {},
   "outputs": [],
   "source": [
    "from torchinfo import summary\n",
    "\n",
    "summary(model2)"
   ]
  },
  {
   "cell_type": "code",
   "execution_count": null,
   "metadata": {},
   "outputs": [],
   "source": [
    "from torchinfo import summary\n",
    "\n",
    "summary(model1)"
   ]
  },
  {
   "cell_type": "code",
   "execution_count": null,
   "metadata": {},
   "outputs": [],
   "source": []
  },
  {
   "cell_type": "code",
   "execution_count": null,
   "metadata": {},
   "outputs": [],
   "source": []
  },
  {
   "cell_type": "code",
   "execution_count": null,
   "metadata": {},
   "outputs": [],
   "source": []
  },
  {
   "cell_type": "code",
   "execution_count": null,
   "metadata": {},
   "outputs": [],
   "source": []
  },
  {
   "cell_type": "code",
   "execution_count": null,
   "metadata": {},
   "outputs": [],
   "source": []
  },
  {
   "cell_type": "code",
   "execution_count": null,
   "metadata": {},
   "outputs": [],
   "source": []
  },
  {
   "cell_type": "code",
   "execution_count": null,
   "metadata": {},
   "outputs": [],
   "source": []
  },
  {
   "cell_type": "code",
   "execution_count": null,
   "metadata": {},
   "outputs": [],
   "source": []
  },
  {
   "cell_type": "code",
   "execution_count": null,
   "metadata": {},
   "outputs": [],
   "source": []
  },
  {
   "cell_type": "code",
   "execution_count": null,
   "metadata": {},
   "outputs": [],
   "source": []
  },
  {
   "cell_type": "code",
   "execution_count": null,
   "metadata": {},
   "outputs": [],
   "source": []
  },
  {
   "cell_type": "code",
   "execution_count": null,
   "metadata": {},
   "outputs": [],
   "source": []
  },
  {
   "cell_type": "code",
   "execution_count": null,
   "metadata": {},
   "outputs": [],
   "source": []
  },
  {
   "cell_type": "code",
   "execution_count": null,
   "metadata": {},
   "outputs": [],
   "source": []
  },
  {
   "cell_type": "code",
   "execution_count": null,
   "metadata": {},
   "outputs": [],
   "source": []
  },
  {
   "cell_type": "code",
   "execution_count": null,
   "metadata": {},
   "outputs": [],
   "source": []
  },
  {
   "cell_type": "code",
   "execution_count": null,
   "metadata": {},
   "outputs": [],
   "source": []
  },
  {
   "cell_type": "code",
   "execution_count": null,
   "metadata": {},
   "outputs": [],
   "source": []
  },
  {
   "cell_type": "code",
   "execution_count": null,
   "metadata": {},
   "outputs": [],
   "source": []
  },
  {
   "cell_type": "code",
   "execution_count": null,
   "metadata": {},
   "outputs": [],
   "source": []
  },
  {
   "cell_type": "code",
   "execution_count": null,
   "metadata": {},
   "outputs": [],
   "source": []
  },
  {
   "cell_type": "code",
   "execution_count": null,
   "metadata": {},
   "outputs": [],
   "source": []
  }
 ],
 "metadata": {
  "kernelspec": {
   "display_name": "pytorch",
   "language": "python",
   "name": "python3"
  },
  "language_info": {
   "codemirror_mode": {
    "name": "ipython",
    "version": 3
   },
   "file_extension": ".py",
   "mimetype": "text/x-python",
   "name": "python",
   "nbconvert_exporter": "python",
   "pygments_lexer": "ipython3",
   "version": "3.12.4"
  }
 },
 "nbformat": 4,
 "nbformat_minor": 2
}
